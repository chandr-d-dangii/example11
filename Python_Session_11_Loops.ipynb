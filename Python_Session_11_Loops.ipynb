{
 "cells": [
  {
   "cell_type": "markdown",
   "id": "0431e8b9-845f-4176-a2ca-590ddd60c04a",
   "metadata": {},
   "source": [
    "**Loops**\n",
    "\n",
    "- iterating code\n",
    "\n",
    "- repeating code\n",
    "\n",
    "  - for loop\n",
    "\n",
    "  - while loop"
   ]
  },
  {
   "cell_type": "markdown",
   "id": "5c700fe3-ffc7-4fad-bfec-7c5d347a422e",
   "metadata": {},
   "source": [
    "- intialization (intial point to start the loop)\n",
    "\n",
    "- increment/decrement\n",
    "\n",
    "- codition to stop the loop\n"
   ]
  },
  {
   "cell_type": "markdown",
   "id": "308e57e5-3446-4922-aee2-c96f52f0ef00",
   "metadata": {},
   "source": [
    "**for loop**"
   ]
  },
  {
   "cell_type": "code",
   "execution_count": null,
   "id": "bc21c650-3eb7-48a6-8eea-6980bc79fbee",
   "metadata": {},
   "outputs": [],
   "source": [
    "- syntax: for <variable> in range(<value>):\n",
    "                    <write your code here>"
   ]
  },
  {
   "cell_type": "code",
   "execution_count": 5,
   "id": "28adb0eb-ac7c-43fa-a46d-20bee1fadcff",
   "metadata": {},
   "outputs": [
    {
     "name": "stdout",
     "output_type": "stream",
     "text": [
      "0 1 2 "
     ]
    }
   ],
   "source": [
    "for i in range(3):\n",
    "    print(i,end=\" \")"
   ]
  },
  {
   "cell_type": "markdown",
   "id": "128cfde2-1bfc-404d-9722-72575797c0c9",
   "metadata": {},
   "source": [
    "**Case-1 : range(stop)**\n",
    "\n",
    "- start value=0\n",
    "\n",
    "- step size = +1\n",
    "\n",
    "- last= stop-1\n",
    "\n",
    "- range(3)\n",
    "\n",
    "    - start value = 0\n",
    " \n",
    "    - increment = 1\n",
    " \n",
    "    - last = stop-1 = 3-1 = 2"
   ]
  },
  {
   "cell_type": "code",
   "execution_count": 4,
   "id": "df6cfe60-2092-4d0b-8ff3-eec3609233a2",
   "metadata": {},
   "outputs": [
    {
     "name": "stdout",
     "output_type": "stream",
     "text": [
      "0 1 2 3 4 "
     ]
    }
   ],
   "source": [
    "for i in range(5):\n",
    "    print(i,end=' ')\n",
    "\n",
    "# variable can be anything \n",
    "\n",
    "# start = 0\n",
    "\n",
    "# step = 1\n",
    "\n",
    "# stop = 5-1 = 4"
   ]
  },
  {
   "cell_type": "code",
   "execution_count": 6,
   "id": "f5e6ddd3-350b-4f4c-ac52-adc2b2917c68",
   "metadata": {},
   "outputs": [
    {
     "name": "stdout",
     "output_type": "stream",
     "text": [
      "hello good morning //hello good morning //hello good morning //hello good morning //hello good morning //"
     ]
    }
   ],
   "source": [
    "for i in range(5):\n",
    "    print('hello good morning',end=\"//\")"
   ]
  },
  {
   "cell_type": "markdown",
   "id": "2b91b28a-baf7-4f16-a7bf-e46a5b0ac9eb",
   "metadata": {},
   "source": [
    "**case=2 : range(start,stop)**\n",
    "\n",
    "- start value = start\n",
    "\n",
    "- step = 1\n",
    "\n",
    "- last = stop - 1\n",
    "\n",
    "- range(2,7)\n",
    "\n",
    "    - start = 2\n",
    " \n",
    "    - step = 1\n",
    " \n",
    "    - last = 7-1 = 6 \n"
   ]
  },
  {
   "cell_type": "code",
   "execution_count": 8,
   "id": "032be561-a657-40bb-b7fb-32d187e39c3c",
   "metadata": {},
   "outputs": [
    {
     "name": "stdout",
     "output_type": "stream",
     "text": [
      "2 3 4 5 6 "
     ]
    }
   ],
   "source": [
    "for i in range(2,7):\n",
    "    print(i,end=\" \")"
   ]
  },
  {
   "cell_type": "code",
   "execution_count": 12,
   "id": "0abca8de-6304-4a24-af0a-c09c36933587",
   "metadata": {},
   "outputs": [
    {
     "name": "stdin",
     "output_type": "stream",
     "text": [
      "Enter the number : 5\n"
     ]
    },
    {
     "name": "stdout",
     "output_type": "stream",
     "text": [
      "the square of 1 is 1\n",
      "the square of 2 is 4\n",
      "the square of 3 is 9\n",
      "the square of 4 is 16\n",
      "the square of 5 is 25\n"
     ]
    }
   ],
   "source": [
    "n =eval(input('Enter the number :'))\n",
    "for i in range(1,6):\n",
    "    print(f'the square of {i} is {i**2}')"
   ]
  },
  {
   "cell_type": "code",
   "execution_count": 4,
   "id": "38db9248-44bf-4cf9-a33b-ab6d04e4e711",
   "metadata": {},
   "outputs": [
    {
     "name": "stdin",
     "output_type": "stream",
     "text": [
      "Enter the number: 20\n"
     ]
    },
    {
     "name": "stdout",
     "output_type": "stream",
     "text": [
      "400 "
     ]
    },
    {
     "name": "stdin",
     "output_type": "stream",
     "text": [
      "Enter the number: 5\n"
     ]
    },
    {
     "name": "stdout",
     "output_type": "stream",
     "text": [
      "25 "
     ]
    },
    {
     "name": "stdin",
     "output_type": "stream",
     "text": [
      "Enter the number: 6\n"
     ]
    },
    {
     "name": "stdout",
     "output_type": "stream",
     "text": [
      "36 "
     ]
    },
    {
     "name": "stdin",
     "output_type": "stream",
     "text": [
      "Enter the number: 3\n"
     ]
    },
    {
     "name": "stdout",
     "output_type": "stream",
     "text": [
      "9 "
     ]
    },
    {
     "name": "stdin",
     "output_type": "stream",
     "text": [
      "Enter the number: 4\n"
     ]
    },
    {
     "name": "stdout",
     "output_type": "stream",
     "text": [
      "16 "
     ]
    }
   ],
   "source": [
    "\n",
    "for i in range(1,6):\n",
    "    n=eval(input('Enter the number:'))\n",
    "    print(n**2,end=\" \")\n",
    "    "
   ]
  },
  {
   "cell_type": "code",
   "execution_count": 3,
   "id": "9c209ba0-a05b-4b00-b041-f4dad6dc266f",
   "metadata": {},
   "outputs": [
    {
     "name": "stdout",
     "output_type": "stream",
     "text": [
      "the square of 53 is 2809\n",
      "the square of 83 is 6889\n",
      "the square of 19 is 361\n",
      "the square of 13 is 169\n",
      "the square of 91 is 8281\n"
     ]
    }
   ],
   "source": [
    "import random\n",
    "for i in range(1,6):\n",
    "    num=random.randint(1,100)\n",
    "    print(f'the square of {num} is {num**2}')"
   ]
  },
  {
   "cell_type": "markdown",
   "id": "bb5d630a-93e7-41d7-acee-95ffd4793951",
   "metadata": {},
   "source": [
    "**case-3: range(start,stop,step)**\n",
    "\n",
    "-  start value = start\n",
    "\n",
    "- step value = positive means + sign\n",
    "\n",
    "    - gap = positive step \n",
    "\n",
    "    - last = stop-1\n",
    "\n",
    "- step value  = negative means - sign\n",
    "\n",
    "    - gap = negative step\n",
    "\n",
    "    - last = stop+1"
   ]
  },
  {
   "cell_type": "code",
   "execution_count": 5,
   "id": "0a257683-07ca-4e1f-a3ed-7b4e65cc72e7",
   "metadata": {},
   "outputs": [
    {
     "name": "stdout",
     "output_type": "stream",
     "text": [
      "2 4 6 8 10 12 14 16 18 "
     ]
    }
   ],
   "source": [
    "for i in range(2,20,2):\n",
    "    print(i,end=\" \")"
   ]
  },
  {
   "cell_type": "code",
   "execution_count": 6,
   "id": "a186dde6-5354-448a-ae80-613de723c717",
   "metadata": {},
   "outputs": [
    {
     "name": "stdout",
     "output_type": "stream",
     "text": [
      "-2 -4 -6 -8 -10 -12 -14 -16 -18 "
     ]
    }
   ],
   "source": [
    "for i in range(-2,-20,-2):\n",
    "    print(i,end=\" \")"
   ]
  },
  {
   "cell_type": "code",
   "execution_count": 7,
   "id": "e29f15fc-832c-4af5-92c4-646eebf3346d",
   "metadata": {},
   "outputs": [
    {
     "name": "stdout",
     "output_type": "stream",
     "text": [
      "2 0 -2 -4 -6 -8 -10 -12 -14 -16 -18 "
     ]
    }
   ],
   "source": [
    "for i in range(2,-20,-2):\n",
    "    print(i,end=' ')"
   ]
  },
  {
   "cell_type": "code",
   "execution_count": 1,
   "id": "b694947e-e31d-419f-b25b-dbcc526598c2",
   "metadata": {},
   "outputs": [
    {
     "name": "stdout",
     "output_type": "stream",
     "text": [
      "11 12 13 "
     ]
    }
   ],
   "source": [
    "lst=[10,11,12]\n",
    "for i in lst:\n",
    "    print(i+1,end=\" \")"
   ]
  },
  {
   "cell_type": "code",
   "execution_count": 2,
   "id": "ea88f2eb-a427-4bc1-944c-0d6de84638ec",
   "metadata": {},
   "outputs": [
    {
     "name": "stdout",
     "output_type": "stream",
     "text": [
      "[11 21 31]\n"
     ]
    }
   ],
   "source": [
    "import numpy as np\n",
    "lst=[10,20,30]\n",
    "a=np.array(lst)\n",
    "a=a+1\n",
    "print(a)"
   ]
  },
  {
   "cell_type": "code",
   "execution_count": 3,
   "id": "8cf574f1-6d38-4131-a439-8f6a700d96e5",
   "metadata": {},
   "outputs": [
    {
     "ename": "TypeError",
     "evalue": "can only concatenate list (not \"int\") to list",
     "output_type": "error",
     "traceback": [
      "\u001b[1;31m---------------------------------------------------------------------------\u001b[0m",
      "\u001b[1;31mTypeError\u001b[0m                                 Traceback (most recent call last)",
      "Cell \u001b[1;32mIn[3], line 2\u001b[0m\n\u001b[0;32m      1\u001b[0m lst\u001b[38;5;241m=\u001b[39m[\u001b[38;5;241m10\u001b[39m,\u001b[38;5;241m20\u001b[39m,\u001b[38;5;241m30\u001b[39m]\n\u001b[1;32m----> 2\u001b[0m lst\u001b[38;5;241m=\u001b[39mlst\u001b[38;5;241m+\u001b[39m\u001b[38;5;241m1\u001b[39m\n\u001b[0;32m      3\u001b[0m \u001b[38;5;28mprint\u001b[39m(lst)\n",
      "\u001b[1;31mTypeError\u001b[0m: can only concatenate list (not \"int\") to list"
     ]
    }
   ],
   "source": [
    "lst=[10,20,30]\n",
    "lst=lst+1\n",
    "print(lst)"
   ]
  },
  {
   "cell_type": "code",
   "execution_count": 4,
   "id": "1d8bd2cb-49d1-4637-baf8-02f459ce49ba",
   "metadata": {},
   "outputs": [
    {
     "name": "stdout",
     "output_type": "stream",
     "text": [
      "[1, 2, 3, 4, 5, 6]\n"
     ]
    }
   ],
   "source": [
    "lst1=[1,2,3]\n",
    "lst2=[4,5,6]\n",
    "lst3=lst1+lst2\n",
    "print(lst3)\n"
   ]
  },
  {
   "cell_type": "code",
   "execution_count": 5,
   "id": "d0a06d0e-cf9b-4a78-9f6f-57c061277305",
   "metadata": {},
   "outputs": [
    {
     "name": "stdin",
     "output_type": "stream",
     "text": [
      "Entre the a number: 12\n"
     ]
    },
    {
     "name": "stdout",
     "output_type": "stream",
     "text": [
      "12 is a even\n"
     ]
    },
    {
     "name": "stdin",
     "output_type": "stream",
     "text": [
      "Entre the a number: 25\n"
     ]
    },
    {
     "name": "stdout",
     "output_type": "stream",
     "text": [
      "25 is a odd\n"
     ]
    },
    {
     "name": "stdin",
     "output_type": "stream",
     "text": [
      "Entre the a number: 16\n"
     ]
    },
    {
     "name": "stdout",
     "output_type": "stream",
     "text": [
      "16 is a even\n"
     ]
    },
    {
     "name": "stdin",
     "output_type": "stream",
     "text": [
      "Entre the a number: 19\n"
     ]
    },
    {
     "name": "stdout",
     "output_type": "stream",
     "text": [
      "19 is a odd\n"
     ]
    },
    {
     "name": "stdin",
     "output_type": "stream",
     "text": [
      "Entre the a number: 22\n"
     ]
    },
    {
     "name": "stdout",
     "output_type": "stream",
     "text": [
      "22 is a even\n"
     ]
    }
   ],
   "source": [
    "for i in range(1,6):\n",
    "    num=eval(input('Entre the a number:'))\n",
    "    if num%2==0:\n",
    "        print(f'{num} is a even')\n",
    "    else:\n",
    "        print(f'{num} is a odd')"
   ]
  },
  {
   "cell_type": "code",
   "execution_count": 13,
   "id": "6762465e-bbae-41b8-9b56-cb5a5190b60d",
   "metadata": {},
   "outputs": [
    {
     "name": "stdout",
     "output_type": "stream",
     "text": [
      "7 x 1 = 7\n",
      "7 x 1 = 7\n",
      "7 x 2 = 14\n",
      "7 x 2 = 14\n",
      "7 x 3 = 21\n",
      "7 x 3 = 21\n",
      "7 x 4 = 28\n",
      "7 x 4 = 28\n",
      "7 x 5 = 35\n",
      "7 x 5 = 35\n",
      "7 x 6 = 42\n",
      "7 x 6 = 42\n",
      "7 x 7 = 49\n",
      "7 x 7 = 49\n",
      "7 x 8 = 56\n",
      "7 x 8 = 56\n",
      "7 x 9 = 63\n",
      "7 x 9 = 63\n",
      "7 x 10 = 70\n",
      "7 x 10 = 70\n"
     ]
    }
   ],
   "source": [
    "n=7\n",
    "for i in range(1,11):\n",
    "    print(f'{n} x {i} = {n*i}')\n",
    "    print('{} x {} = {}'.format(n,i,n*i))"
   ]
  },
  {
   "cell_type": "code",
   "execution_count": 15,
   "id": "1d87d50c-11f7-4494-9f9e-fc60f82df2c0",
   "metadata": {},
   "outputs": [
    {
     "name": "stdin",
     "output_type": "stream",
     "text": [
      "Enter which divisor you want: 75\n"
     ]
    },
    {
     "name": "stdout",
     "output_type": "stream",
     "text": [
      "1 is a divisor for 75\n",
      "3 is a divisor for 75\n",
      "5 is a divisor for 75\n",
      "15 is a divisor for 75\n",
      "25 is a divisor for 75\n",
      "75 is a divisor for 75\n"
     ]
    }
   ],
   "source": [
    "# when a number divisible by another number\n",
    "# if the remainder is zero\n",
    "def divisible():\n",
    "    num=eval(input('Enter which divisor you want:'))\n",
    "    for i in range(1,num+1):\n",
    "        if num%i==0:\n",
    "            print(f'{i} is a divisor for {num}')\n",
    "\n",
    "divisible()"
   ]
  },
  {
   "cell_type": "code",
   "execution_count": 17,
   "id": "b6e8313f-a64f-43ff-9772-f1844391a6e6",
   "metadata": {},
   "outputs": [
    {
     "name": "stdout",
     "output_type": "stream",
     "text": [
      "1 is a divisor for 89\n"
     ]
    },
    {
     "data": {
      "text/plain": [
       "1"
      ]
     },
     "execution_count": 17,
     "metadata": {},
     "output_type": "execute_result"
    }
   ],
   "source": [
    "def divisible1(num):\n",
    "    for i in range(1,num+1):\n",
    "        if num%i==0:\n",
    "            print(f'{i} is a divisor for {num}')\n",
    "        return(i)\n",
    "div=divisible1(89)\n"
   ]
  },
  {
   "cell_type": "code",
   "execution_count": 18,
   "id": "a0123575-af1a-43fe-b729-9aef51b633b0",
   "metadata": {},
   "outputs": [
    {
     "data": {
      "text/plain": [
       "1"
      ]
     },
     "execution_count": 18,
     "metadata": {},
     "output_type": "execute_result"
    }
   ],
   "source": [
    "div"
   ]
  },
  {
   "cell_type": "code",
   "execution_count": 19,
   "id": "9a139570-1396-448f-8ab5-90b69fbae09c",
   "metadata": {},
   "outputs": [
    {
     "name": "stdout",
     "output_type": "stream",
     "text": [
      "0 1 2 3 4 "
     ]
    }
   ],
   "source": [
    "for i in range(5):\n",
    "    print(i,end=' ')"
   ]
  },
  {
   "cell_type": "code",
   "execution_count": 20,
   "id": "5a96de68-05cb-41ea-ab31-0e02ddaf6a8d",
   "metadata": {},
   "outputs": [
    {
     "data": {
      "text/plain": [
       "4"
      ]
     },
     "execution_count": 20,
     "metadata": {},
     "output_type": "execute_result"
    }
   ],
   "source": [
    "i\n",
    "\n",
    "# i variable will give always last value\n",
    "\n",
    "# do not print i outside the for loop"
   ]
  },
  {
   "cell_type": "markdown",
   "id": "91dd5fd3-d4e1-48c6-a815-436e86625844",
   "metadata": {},
   "source": [
    "**Summation wrapper**\n",
    "- always intialize the sum=0 before for loop\n",
    "\n",
    "- inside the loop sum=sum+i\n",
    "\n",
    "- then print sum value outside the loop"
   ]
  },
  {
   "cell_type": "code",
   "execution_count": 24,
   "id": "36a395d6-3ec9-4f8e-b22d-a0812448e7ac",
   "metadata": {},
   "outputs": [
    {
     "name": "stdin",
     "output_type": "stream",
     "text": [
      "Enter the number: 120\n"
     ]
    },
    {
     "name": "stdout",
     "output_type": "stream",
     "text": [
      "7260\n"
     ]
    }
   ],
   "source": [
    "num=eval(input('Enter the number:'))\n",
    "sum=0\n",
    "for i in range(1,num+1):\n",
    "    sum=sum+i\n",
    "   # sum+=i\n",
    "print(sum)\n",
    "    "
   ]
  },
  {
   "cell_type": "markdown",
   "id": "a2f8c4ec-4de0-427d-b9f8-908f9da339ef",
   "metadata": {},
   "source": [
    "**Counter wrapper**\n",
    "\n",
    "- before the loop count=0\n",
    "\n",
    "- inside the loop count=count+1"
   ]
  },
  {
   "cell_type": "code",
   "execution_count": 29,
   "id": "9d48ab47-a351-48ea-9d02-dbd68785ace4",
   "metadata": {},
   "outputs": [
    {
     "name": "stdin",
     "output_type": "stream",
     "text": [
      "Enter which divisor you want: 10\n"
     ]
    },
    {
     "name": "stdout",
     "output_type": "stream",
     "text": [
      "1 is a divisor for 10\n",
      "2 is a divisor for 10\n",
      "5 is a divisor for 10\n",
      "10 is a divisor for 10\n",
      "4\n"
     ]
    }
   ],
   "source": [
    "# wap find the count of divisor\n",
    "count=0\n",
    "num=eval(input('Enter which divisor you want:'))\n",
    "for i in range(1,num+1):\n",
    "    if num%i==0:\n",
    "        count=count+1\n",
    "        print(f'{i} is a divisor for {num}')\n",
    "print(count)"
   ]
  },
  {
   "cell_type": "code",
   "execution_count": 35,
   "id": "f20cf79f-dd82-46dd-a4a6-4d610a354184",
   "metadata": {},
   "outputs": [
    {
     "name": "stdin",
     "output_type": "stream",
     "text": [
      "Enter the number: 1\n",
      "Enter the number: 2\n",
      "Enter the number: 3\n",
      "Enter the number: 4\n",
      "Enter the number: 5\n"
     ]
    },
    {
     "name": "stdout",
     "output_type": "stream",
     "text": [
      "2\n",
      "3\n",
      "the sum of even no. is : 6\n",
      "the sum of odd no. is : 9\n"
     ]
    }
   ],
   "source": [
    "evencount=0\n",
    "oddcount=0\n",
    "sumeven,sumodd=0,0\n",
    "for i in range(1,6):\n",
    "    num=eval(input('Enter the number:'))\n",
    "    if num%2==0:\n",
    "        evencount=evencount+1\n",
    "        sumeven=sumeven+num\n",
    "    else:\n",
    "        oddcount=oddcount+1\n",
    "        sumodd=sumodd+num\n",
    "\n",
    "print(evencount)\n",
    "print(oddcount)\n",
    "print('the sum of even no. is :',sumeven)\n",
    "print('the sum of odd no. is :',sumodd)"
   ]
  },
  {
   "cell_type": "code",
   "execution_count": 42,
   "id": "d080fcfb-8d4f-41a3-bdc4-f72fe0ea1e1c",
   "metadata": {},
   "outputs": [
    {
     "name": "stdin",
     "output_type": "stream",
     "text": [
      "Enter the no.: 5\n"
     ]
    },
    {
     "name": "stdout",
     "output_type": "stream",
     "text": [
      "lost\n"
     ]
    },
    {
     "name": "stdin",
     "output_type": "stream",
     "text": [
      "Enter the no.: 2\n"
     ]
    },
    {
     "name": "stdout",
     "output_type": "stream",
     "text": [
      "lost\n"
     ]
    },
    {
     "name": "stdin",
     "output_type": "stream",
     "text": [
      "Enter the no.: 1\n"
     ]
    },
    {
     "name": "stdout",
     "output_type": "stream",
     "text": [
      "lost\n"
     ]
    }
   ],
   "source": [
    "# Case-1\n",
    "import random\n",
    "for i in range(1,4):\n",
    "    n1=random.randint(1,10)\n",
    "    n2=eval(input('Enter the no.:'))\n",
    "    if n1==n2:\n",
    "        print('won')\n",
    "        break\n",
    "    else:\n",
    "        print('lost')"
   ]
  },
  {
   "cell_type": "code",
   "execution_count": null,
   "id": "c7a0ecb3-0fa9-4602-b731-938ceb0a2a45",
   "metadata": {},
   "outputs": [],
   "source": [
    "# Case-2:For every \n"
   ]
  },
  {
   "cell_type": "code",
   "execution_count": null,
   "id": "d8e09891-04b5-4796-a5fc-d759413f97f4",
   "metadata": {},
   "outputs": [],
   "source": []
  },
  {
   "cell_type": "code",
   "execution_count": null,
   "id": "2e168a5f-ad33-4386-94ec-b7cd62591eea",
   "metadata": {},
   "outputs": [],
   "source": []
  },
  {
   "cell_type": "code",
   "execution_count": null,
   "id": "16e81e3c-fd2b-4ed1-970b-15c196abdb1a",
   "metadata": {},
   "outputs": [],
   "source": []
  },
  {
   "cell_type": "code",
   "execution_count": null,
   "id": "2a5a7c65-20f5-4827-8433-b685476a60f4",
   "metadata": {},
   "outputs": [],
   "source": []
  },
  {
   "cell_type": "code",
   "execution_count": null,
   "id": "b46c9ac7-a9d2-4e88-80f8-92c5ff2f9165",
   "metadata": {},
   "outputs": [],
   "source": []
  }
 ],
 "metadata": {
  "kernelspec": {
   "display_name": "Python 3 (ipykernel)",
   "language": "python",
   "name": "python3"
  },
  "language_info": {
   "codemirror_mode": {
    "name": "ipython",
    "version": 3
   },
   "file_extension": ".py",
   "mimetype": "text/x-python",
   "name": "python",
   "nbconvert_exporter": "python",
   "pygments_lexer": "ipython3",
   "version": "3.12.4"
  }
 },
 "nbformat": 4,
 "nbformat_minor": 5
}
