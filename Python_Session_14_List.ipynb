{
 "cells": [
  {
   "cell_type": "markdown",
   "id": "ea45eb2e-f871-432c-a229-72b0e37f37f8",
   "metadata": {},
   "source": [
    "- strings denoted by with quotes\n",
    "\n",
    "- list denoted with square bracket\n",
    "\n",
    "- list means array of elements\n",
    "\n",
    "- list can access any data type to gather"
   ]
  },
  {
   "cell_type": "code",
   "execution_count": 2,
   "id": "8a9c7465-a1e2-49f1-8a3f-ccde41e4d9e3",
   "metadata": {},
   "outputs": [
    {
     "data": {
      "text/plain": [
       "[1, 2, 3, 4]"
      ]
     },
     "execution_count": 2,
     "metadata": {},
     "output_type": "execute_result"
    }
   ],
   "source": [
    "l1=[1,2,3,4]\n",
    "l1"
   ]
  },
  {
   "cell_type": "code",
   "execution_count": 3,
   "id": "e498e3e9-45be-4a6a-b62f-7bb315b36d06",
   "metadata": {},
   "outputs": [
    {
     "data": {
      "text/plain": [
       "list"
      ]
     },
     "execution_count": 3,
     "metadata": {},
     "output_type": "execute_result"
    }
   ],
   "source": [
    "type(l1)"
   ]
  },
  {
   "cell_type": "code",
   "execution_count": 4,
   "id": "dc6377f6-c28f-4d85-9f60-1e2394e5517c",
   "metadata": {},
   "outputs": [
    {
     "data": {
      "text/plain": [
       "['A', 'B', 'C']"
      ]
     },
     "execution_count": 4,
     "metadata": {},
     "output_type": "execute_result"
    }
   ],
   "source": [
    "l2=['A','B','C']\n",
    "l2"
   ]
  },
  {
   "cell_type": "code",
   "execution_count": 5,
   "id": "a25fdbed-a812-4dbc-8dc7-44f22019cbda",
   "metadata": {},
   "outputs": [
    {
     "data": {
      "text/plain": [
       "[30, 'Rossum', 25.48, (2+3j)]"
      ]
     },
     "execution_count": 5,
     "metadata": {},
     "output_type": "execute_result"
    }
   ],
   "source": [
    "lst=[30,'Rossum',25.48,2+3j]\n",
    "lst"
   ]
  },
  {
   "cell_type": "code",
   "execution_count": 6,
   "id": "8437d98a-6547-4dc4-b237-663f02043cad",
   "metadata": {},
   "outputs": [
    {
     "data": {
      "text/plain": [
       "[2525.6, 47.5, 59.6, 478.2]"
      ]
     },
     "execution_count": 6,
     "metadata": {},
     "output_type": "execute_result"
    }
   ],
   "source": [
    "lst1=[2525.6,47.5,59.6,478.2]\n",
    "lst1"
   ]
  },
  {
   "cell_type": "code",
   "execution_count": 7,
   "id": "a42fa35b-3248-40d6-bfd6-27545c7f2608",
   "metadata": {},
   "outputs": [
    {
     "data": {
      "text/plain": [
       "[45, 'Kal', True, 25.36, (2+2.5j)]"
      ]
     },
     "execution_count": 7,
     "metadata": {},
     "output_type": "execute_result"
    }
   ],
   "source": [
    "lst2=[45,'Kal',True,25.36,2+2.5j]\n",
    "lst2"
   ]
  },
  {
   "cell_type": "code",
   "execution_count": 8,
   "id": "f65facb5-f793-45ac-8807-dbbfc1b2dbd2",
   "metadata": {},
   "outputs": [
    {
     "data": {
      "text/plain": [
       "[2525.6, 47.5, 59.6, 478.2, 45, 'Kal', True, 25.36, (2+2.5j)]"
      ]
     },
     "execution_count": 8,
     "metadata": {},
     "output_type": "execute_result"
    }
   ],
   "source": [
    "lst3=lst1+lst2\n",
    "lst3"
   ]
  },
  {
   "cell_type": "code",
   "execution_count": 9,
   "id": "97e50faf-bc2a-4b72-81c4-cf7bcbb00288",
   "metadata": {},
   "outputs": [
    {
     "data": {
      "text/plain": [
       "[10, 10, 10]"
      ]
     },
     "execution_count": 9,
     "metadata": {},
     "output_type": "execute_result"
    }
   ],
   "source": [
    "l5=[10,10,10]\n",
    "l5"
   ]
  },
  {
   "cell_type": "code",
   "execution_count": 10,
   "id": "454dde32-e7ab-4864-aa41-d48fdc75f3ef",
   "metadata": {},
   "outputs": [
    {
     "data": {
      "text/plain": [
       "[]"
      ]
     },
     "execution_count": 10,
     "metadata": {},
     "output_type": "execute_result"
    }
   ],
   "source": [
    "lst=[]\n",
    "lst"
   ]
  },
  {
   "cell_type": "code",
   "execution_count": 11,
   "id": "79085e8c-a6de-46f6-8730-ec2d05eb1a26",
   "metadata": {},
   "outputs": [
    {
     "data": {
      "text/plain": [
       "[[]]"
      ]
     },
     "execution_count": 11,
     "metadata": {},
     "output_type": "execute_result"
    }
   ],
   "source": [
    "l8=[_]\n",
    "l8"
   ]
  },
  {
   "cell_type": "markdown",
   "id": "631a5c7a-0b85-4571-a3db-af1280d2d9e1",
   "metadata": {},
   "source": [
    "- List can access with square brackets\n",
    "\n",
    "- List can have any data type of element\n",
    "\n",
    "      - Heterogeneous\n",
    "\n",
    "- List can have duplicates\n",
    "\n",
    "- List in List is possible\n",
    "\n",
    "- Empty List can also possible\n",
    "\n",
    "- The value inside list is called Elements"
   ]
  },
  {
   "cell_type": "code",
   "execution_count": 12,
   "id": "8cdc503f-245a-4ae7-8f99-491ecfef6d26",
   "metadata": {},
   "outputs": [
    {
     "ename": "SyntaxError",
     "evalue": "invalid syntax (2283106699.py, line 1)",
     "output_type": "error",
     "traceback": [
      "\u001b[1;36m  Cell \u001b[1;32mIn[12], line 1\u001b[1;36m\u001b[0m\n\u001b[1;33m    for all 7 min max len sorted resversed\u001b[0m\n\u001b[1;37m            ^\u001b[0m\n\u001b[1;31mSyntaxError\u001b[0m\u001b[1;31m:\u001b[0m invalid syntax\n"
     ]
    }
   ],
   "source": [
    "for all 7 min max len sorted resversed"
   ]
  },
  {
   "cell_type": "code",
   "execution_count": null,
   "id": "1590e7bd-c361-457b-a29d-e811bdbc9f89",
   "metadata": {},
   "outputs": [],
   "source": [
    "lst1=[10,20,30,40,50,60]\n",
    "min(lst1)"
   ]
  },
  {
   "cell_type": "code",
   "execution_count": null,
   "id": "3a18a9ed-9b45-4dd2-a367-f47911446c8a",
   "metadata": {},
   "outputs": [],
   "source": [
    "max(lst1)"
   ]
  },
  {
   "cell_type": "code",
   "execution_count": null,
   "id": "91ac59cb-af46-4b33-bc48-12eeacd1f727",
   "metadata": {},
   "outputs": [],
   "source": [
    "len(lst1)"
   ]
  },
  {
   "cell_type": "code",
   "execution_count": null,
   "id": "cba57e0b-99a9-462d-bba3-2cd679daf9f0",
   "metadata": {},
   "outputs": [],
   "source": [
    "sorted(lst1)"
   ]
  },
  {
   "cell_type": "code",
   "execution_count": null,
   "id": "924571da-3449-4313-99b8-118df4b7da3a",
   "metadata": {},
   "outputs": [],
   "source": [
    "sorted(lst1,reverse=True)"
   ]
  },
  {
   "cell_type": "code",
   "execution_count": null,
   "id": "73d24ad6-c025-484a-8827-0eeafaca71a6",
   "metadata": {},
   "outputs": [],
   "source": [
    "lst2=[10,20,30,'Apple','Mango',10.25,20.5,30.5,2+3j,2.5+3.5j]\n",
    "min(lst2)\n",
    "# same data type should be compare\n",
    "# 'A'==== some level\n",
    "# 1 === some level (not happpend)"
   ]
  },
  {
   "cell_type": "code",
   "execution_count": null,
   "id": "5e29062e-a76b-4222-aaf6-349e98b7bef7",
   "metadata": {},
   "outputs": [],
   "source": [
    "lst=['Apple','Mango','Orange']\n",
    "min(lst)"
   ]
  },
  {
   "cell_type": "code",
   "execution_count": null,
   "id": "02d77d0d-a22e-4b0c-8c5b-628b699e7d74",
   "metadata": {},
   "outputs": [],
   "source": [
    "max(lst)"
   ]
  },
  {
   "cell_type": "code",
   "execution_count": null,
   "id": "38183e2b-3a13-4c0a-a013-3eda0646ccf2",
   "metadata": {},
   "outputs": [],
   "source": [
    "len(lst)"
   ]
  },
  {
   "cell_type": "code",
   "execution_count": null,
   "id": "62844768-465e-4b4f-b38a-cfb187f44d3b",
   "metadata": {},
   "outputs": [],
   "source": [
    "sorted(lst)"
   ]
  },
  {
   "cell_type": "code",
   "execution_count": null,
   "id": "4566d59b-52e5-410e-8404-b4bd30717e7c",
   "metadata": {},
   "outputs": [],
   "source": [
    "sorted(lst,reverse=True)"
   ]
  },
  {
   "cell_type": "code",
   "execution_count": null,
   "id": "75a2c5d2-8be5-4690-85c0-401a3d83ffaa",
   "metadata": {},
   "outputs": [],
   "source": [
    "a=reversed(lst)"
   ]
  },
  {
   "cell_type": "code",
   "execution_count": null,
   "id": "3390a641-0d2a-4caa-b081-51aaa9a1a495",
   "metadata": {},
   "outputs": [],
   "source": [
    "a=reversed(lst)\n",
    "for i in a:\n",
    "    print(i)"
   ]
  },
  {
   "cell_type": "code",
   "execution_count": null,
   "id": "df0931b7-a37a-4e8a-92c7-5659c18d2163",
   "metadata": {},
   "outputs": [],
   "source": [
    "sorted([])"
   ]
  },
  {
   "cell_type": "code",
   "execution_count": null,
   "id": "e62704d2-4fb9-431d-a723-04486533c0cc",
   "metadata": {},
   "outputs": [],
   "source": [
    "l1=[1,2,3,4]\n",
    "for i in reversed(l1):\n",
    "    print(i)"
   ]
  },
  {
   "cell_type": "code",
   "execution_count": null,
   "id": "e436c8b6-ebf8-4ddd-b024-b2ee3e9d92cd",
   "metadata": {},
   "outputs": [],
   "source": [
    "list(reversed(l1))"
   ]
  },
  {
   "cell_type": "code",
   "execution_count": null,
   "id": "634cbd4c-4f9f-40db-955c-fe455f47f0bf",
   "metadata": {},
   "outputs": [],
   "source": [
    "[reversed(l1)]"
   ]
  },
  {
   "cell_type": "code",
   "execution_count": null,
   "id": "6de6e33b-8288-457a-8078-36ad6df91ded",
   "metadata": {},
   "outputs": [],
   "source": [
    "l6=[1,2,3,['a','b','c']]\n",
    "list(reversed(l6))"
   ]
  },
  {
   "cell_type": "markdown",
   "id": "d9a5a7c9-a212-4900-a8dc-31ef454e1b76",
   "metadata": {},
   "source": [
    "- sorted will compare the elements\n",
    "\n",
    "- the same rules applicable for min and max\n",
    "\n",
    "- sorted never return any error eventhrough we have an empty list\n",
    "\n",
    "- min and max will give error if it has empty list\n",
    "\n",
    "- reversed only do reverse the elements"
   ]
  },
  {
   "cell_type": "code",
   "execution_count": null,
   "id": "4812e1f5-f550-4e3d-a496-3b36558cc5df",
   "metadata": {},
   "outputs": [],
   "source": [
    "l1=[1,2,3,4]\n",
    "sum(l1)"
   ]
  },
  {
   "cell_type": "code",
   "execution_count": null,
   "id": "fa74eb59-a618-4a3c-81e6-7033c71ff0d8",
   "metadata": {},
   "outputs": [],
   "source": [
    "l=['a','b']\n",
    "sum(l)"
   ]
  },
  {
   "cell_type": "code",
   "execution_count": null,
   "id": "8711631a-0c94-4f3e-b145-f429c89b75bc",
   "metadata": {},
   "outputs": [],
   "source": [
    "sum([100,200,300])"
   ]
  },
  {
   "cell_type": "code",
   "execution_count": null,
   "id": "0bb9c1eb-bad4-4a31-86c9-5931f14cccf5",
   "metadata": {},
   "outputs": [],
   "source": [
    "sum([100,200,300],start=100)"
   ]
  },
  {
   "cell_type": "markdown",
   "id": "266153f6-7c02-49d7-87f7-a43a6d5e3c8e",
   "metadata": {},
   "source": [
    "**index**"
   ]
  },
  {
   "cell_type": "code",
   "execution_count": null,
   "id": "509c29c3-4edd-463e-860f-2b1b9392c457",
   "metadata": {},
   "outputs": [],
   "source": [
    "l1=[1,2,3,4,'a','b','c']\n",
    "l1"
   ]
  },
  {
   "cell_type": "code",
   "execution_count": null,
   "id": "e8752ca0-d691-4b1b-a16e-f5abbd29007b",
   "metadata": {},
   "outputs": [],
   "source": [
    "for i in range(len(l1)):\n",
    "    print(i,l1[i],[i-len(l1)])"
   ]
  },
  {
   "cell_type": "code",
   "execution_count": null,
   "id": "f88def0e-3d87-4ee5-9f69-fb5db3d24f70",
   "metadata": {},
   "outputs": [],
   "source": [
    "for i in range(len(l1)):\n",
    "    print(f'The positive index {l1[i]} is {i}')"
   ]
  },
  {
   "cell_type": "code",
   "execution_count": null,
   "id": "ad454b8e-3ba7-460c-abce-adb10c48d989",
   "metadata": {},
   "outputs": [],
   "source": [
    "for i in range(len(l1)):\n",
    "    print(f'The negative index {l1[i]} is {i-len(l1)}')"
   ]
  },
  {
   "cell_type": "code",
   "execution_count": null,
   "id": "6fadbafb-d0b1-4af4-9286-5d89a768c922",
   "metadata": {},
   "outputs": [],
   "source": [
    "for i in range(len(l1)):\n",
    "    print(f'The positive index {l1[i]} is {i} and Negative index {l1[i]} is {i-len(l1)}')"
   ]
  },
  {
   "cell_type": "code",
   "execution_count": null,
   "id": "4c93de34-a836-4219-abaf-2be08a38c164",
   "metadata": {},
   "outputs": [],
   "source": [
    "l=[[10,20,30]]\n",
    "len(l)"
   ]
  },
  {
   "cell_type": "code",
   "execution_count": null,
   "id": "b8396a8d-6ecd-4105-9f71-5602a1c8678e",
   "metadata": {},
   "outputs": [],
   "source": [
    "l[0][0],l[0][1],l[0][2]"
   ]
  },
  {
   "cell_type": "code",
   "execution_count": null,
   "id": "cfd29847-9c61-4db6-b487-ccdfb62d3745",
   "metadata": {},
   "outputs": [],
   "source": [
    "l1=[10,20,['a','b']]\n",
    "l1[2][0]"
   ]
  },
  {
   "cell_type": "code",
   "execution_count": null,
   "id": "633fc7fa-c8c1-4d9a-958c-c5afde715708",
   "metadata": {},
   "outputs": [],
   "source": [
    "l1=[1,2,3,4,[5,6,['Apple']]]\n",
    "l1[4]"
   ]
  },
  {
   "cell_type": "code",
   "execution_count": null,
   "id": "3cd4d086-4b00-4c54-ba62-cfdc374d013c",
   "metadata": {},
   "outputs": [],
   "source": [
    "l1[4][2][0]"
   ]
  },
  {
   "cell_type": "code",
   "execution_count": null,
   "id": "0ae31fbe-12c1-4738-ac2f-342d38fcc6f0",
   "metadata": {},
   "outputs": [],
   "source": [
    "l1=[1,2,3,[4,[5,['c']]]]\n",
    "l1[3][1][1][0]"
   ]
  },
  {
   "cell_type": "code",
   "execution_count": null,
   "id": "6c33e9ae-841c-4842-92c5-b3ff4afb97e3",
   "metadata": {},
   "outputs": [],
   "source": [
    "l1=[[[[[[[[['banana']]]]]]]]]\n",
    "len(l1)"
   ]
  },
  {
   "cell_type": "code",
   "execution_count": null,
   "id": "4a1f839c-df95-49f0-b1c3-5a1389040e87",
   "metadata": {},
   "outputs": [],
   "source": [
    "l1[0][0][0][0][0][0][0][0][0]"
   ]
  },
  {
   "cell_type": "code",
   "execution_count": null,
   "id": "86e425c4-c727-45a0-aca3-43ace269b4e0",
   "metadata": {},
   "outputs": [],
   "source": [
    "l1=['Apple',['Kashmir',['India',['Mumbai',['Sharuk',['Film',['DDLJ']]]]]]]\n",
    "l1[]"
   ]
  },
  {
   "cell_type": "markdown",
   "id": "d94c6d93-bffe-44ce-bc0b-d3b82098711c",
   "metadata": {},
   "source": [
    "**mutable vs immutable**"
   ]
  },
  {
   "cell_type": "code",
   "execution_count": null,
   "id": "3b4e42ae-528f-49b7-b3ec-49333a9ebe54",
   "metadata": {},
   "outputs": [],
   "source": [
    "str1='welcome'\n",
    "str1[2]='L'\n",
    "print(str1)"
   ]
  },
  {
   "cell_type": "code",
   "execution_count": 13,
   "id": "78b21df7-7a6e-434e-a576-44fac424c1a4",
   "metadata": {},
   "outputs": [
    {
     "name": "stdout",
     "output_type": "stream",
     "text": [
      "['w', 'e', 'L', 'c', 'o', 'm', 'e']\n"
     ]
    }
   ],
   "source": [
    "l1=['w','e','l','c','o','m','e']\n",
    "l1[2]='L'\n",
    "print(l1)"
   ]
  },
  {
   "cell_type": "markdown",
   "id": "cc456ce2-8b72-498d-9912-edd75cf7ae21",
   "metadata": {},
   "source": [
    "- we can change the list elements using index"
   ]
  },
  {
   "cell_type": "code",
   "execution_count": 14,
   "id": "252ea94c-44b4-49c6-af26-3b3348bf6410",
   "metadata": {},
   "outputs": [
    {
     "data": {
      "text/plain": [
       "'HelloWelcome'"
      ]
     },
     "execution_count": 14,
     "metadata": {},
     "output_type": "execute_result"
    }
   ],
   "source": [
    "s1='Hello'\n",
    "s2='Welcome'\n",
    "s1+s2"
   ]
  },
  {
   "cell_type": "code",
   "execution_count": 15,
   "id": "5dec0b76-1041-4092-bebc-d8f525171988",
   "metadata": {},
   "outputs": [
    {
     "name": "stdout",
     "output_type": "stream",
     "text": [
      "['h', 'e', 'l', 'l', 'o', 'w', 'e', 'l', 'c', 'o', 'm', 'e']\n"
     ]
    }
   ],
   "source": [
    "l1=['h','e','l','l','o']\n",
    "l2=['w','e','l','c','o','m','e']\n",
    "l3=l1+l2\n",
    "print(l3)"
   ]
  },
  {
   "cell_type": "code",
   "execution_count": 16,
   "id": "9437b584-9430-445b-97b2-136d0155c898",
   "metadata": {},
   "outputs": [
    {
     "ename": "TypeError",
     "evalue": "unsupported operand type(s) for -: 'list' and 'list'",
     "output_type": "error",
     "traceback": [
      "\u001b[1;31m---------------------------------------------------------------------------\u001b[0m",
      "\u001b[1;31mTypeError\u001b[0m                                 Traceback (most recent call last)",
      "Cell \u001b[1;32mIn[16], line 1\u001b[0m\n\u001b[1;32m----> 1\u001b[0m l3\u001b[38;5;241m=\u001b[39ml1\u001b[38;5;241m-\u001b[39ml2\n",
      "\u001b[1;31mTypeError\u001b[0m: unsupported operand type(s) for -: 'list' and 'list'"
     ]
    }
   ],
   "source": [
    "l3=l1-l2"
   ]
  },
  {
   "cell_type": "code",
   "execution_count": null,
   "id": "dcfdb4fc-c04e-4bfd-b9e7-0499d08346bc",
   "metadata": {},
   "outputs": [],
   "source": [
    "l1*l2"
   ]
  },
  {
   "cell_type": "code",
   "execution_count": null,
   "id": "a49193b1-59dd-476e-880c-8398db84c083",
   "metadata": {},
   "outputs": [],
   "source": [
    "l1*2"
   ]
  },
  {
   "cell_type": "markdown",
   "id": "5a3f3ee9-9c40-445d-8532-ddac31b160a3",
   "metadata": {},
   "source": [
    "**Slicing**"
   ]
  },
  {
   "cell_type": "code",
   "execution_count": null,
   "id": "e0d406b7-0920-44b8-a575-3f9753afdf6c",
   "metadata": {},
   "outputs": [],
   "source": [
    "l1=[1,2,3,4,5,'a','b','c','d','10.5',True,10.5,100,200]\n",
    "l1[:]\n",
    "l1[::]\n",
    "l1[2:14:2]\n",
    "#l1[2:14:-2]\n",
    "#l1[2:-14:2]\n",
    "l1[-2:14:2]\n",
    "#l1[14:-2:2]\n",
    "l1[-14:2:2]\n",
    "l1[-14:-2:-2]"
   ]
  },
  {
   "cell_type": "markdown",
   "id": "c382397e-0a2b-4dee-97e9-d65a64e8fd0d",
   "metadata": {},
   "source": [
    "**methods**"
   ]
  },
  {
   "cell_type": "code",
   "execution_count": null,
   "id": "71009f2a-cb02-4cc4-878d-7f7c7d5ec578",
   "metadata": {},
   "outputs": [],
   "source": [
    "dir([])"
   ]
  },
  {
   "cell_type": "code",
   "execution_count": null,
   "id": "a123a88b-aaa2-455b-a01a-b61203bd0ac3",
   "metadata": {},
   "outputs": [],
   "source": [
    "dir(list())"
   ]
  },
  {
   "cell_type": "code",
   "execution_count": null,
   "id": "dd455aa3-5b7d-4b4e-9684-6c0d464675bb",
   "metadata": {},
   "outputs": [],
   "source": [
    "'append',\n",
    " 'clear',\n",
    " 'copy',\n",
    " 'count',\n",
    " 'extend',\n",
    " 'index',\n",
    " 'insert',\n",
    " 'pop',\n",
    " 'remove',\n",
    " 'reverse',\n",
    " 'sort'"
   ]
  },
  {
   "cell_type": "code",
   "execution_count": null,
   "id": "507d4e23-db70-4f79-aa6b-1ea441c46bc9",
   "metadata": {},
   "outputs": [],
   "source": [
    "l1=[10,20,30,40,50,70]\n",
    "l1.clear()"
   ]
  },
  {
   "cell_type": "code",
   "execution_count": null,
   "id": "2313d205-0547-4a80-b818-6121f784ef21",
   "metadata": {},
   "outputs": [],
   "source": [
    "print(l1)"
   ]
  },
  {
   "cell_type": "code",
   "execution_count": null,
   "id": "46885afb-3643-414a-b1d1-90eb27d07ded",
   "metadata": {},
   "outputs": [],
   "source": [
    "l=[10,20,30,40,50,60]\n",
    "l2=l.copy()\n",
    "print(l2)\n",
    "l.append(100)\n",
    "l.append(120)\n",
    "print(l)"
   ]
  },
  {
   "cell_type": "code",
   "execution_count": null,
   "id": "1f02bcb2-60c7-43f1-a9ee-ea6b2b3eedf3",
   "metadata": {},
   "outputs": [],
   "source": [
    "l2=l"
   ]
  },
  {
   "cell_type": "code",
   "execution_count": null,
   "id": "793601a1-174e-4eab-b22d-9d7672426457",
   "metadata": {},
   "outputs": [],
   "source": [
    "print(l2)"
   ]
  },
  {
   "cell_type": "code",
   "execution_count": null,
   "id": "9e7c2501-4ffe-4593-98fc-d6905fddd9b2",
   "metadata": {},
   "outputs": [],
   "source": [
    "l2=[10,20,540,10,50,30,30,40,80]\n",
    "l2.count(10)"
   ]
  },
  {
   "cell_type": "code",
   "execution_count": null,
   "id": "ef088694-131f-435b-9bd0-a6c178f2d8a6",
   "metadata": {},
   "outputs": [],
   "source": [
    "l2.reverse()"
   ]
  },
  {
   "cell_type": "code",
   "execution_count": null,
   "id": "2aaa221b-f4c4-4268-a665-2dce0ac67ffc",
   "metadata": {},
   "outputs": [],
   "source": [
    "print(l2)\n",
    "# reverse the elements save the output\n",
    "# in same variable\n",
    "# it is indicates as **INPLACE**\n",
    "# some times inplace=True "
   ]
  },
  {
   "cell_type": "code",
   "execution_count": null,
   "id": "3d679190-79e7-4451-89d3-e64d0d51857b",
   "metadata": {},
   "outputs": [],
   "source": [
    "l2.sort()"
   ]
  },
  {
   "cell_type": "code",
   "execution_count": null,
   "id": "836507f4-a279-425a-8c42-63c23b376e79",
   "metadata": {},
   "outputs": [],
   "source": [
    "l2"
   ]
  },
  {
   "cell_type": "code",
   "execution_count": null,
   "id": "260854fb-7806-4d88-a52a-d2707ffaa3c6",
   "metadata": {},
   "outputs": [],
   "source": [
    "print(l2)\n",
    "l2.pop()"
   ]
  },
  {
   "cell_type": "code",
   "execution_count": null,
   "id": "196235f8-d757-46e0-abba-725cea39b5bd",
   "metadata": {},
   "outputs": [],
   "source": [
    "l2.insert(0,100)\n",
    "l2"
   ]
  },
  {
   "cell_type": "code",
   "execution_count": null,
   "id": "9ef47f78-4a7b-4560-a775-598169e307fd",
   "metadata": {},
   "outputs": [],
   "source": [
    "**reverse vs reversed\n",
    "\n",
    "- **reversed** # major difference is \n",
    "\n",
    "- reversed is a inbulit function\n",
    "\n",
    "- reversed can be applicable all **iterable**\n",
    "\n",
    "- reversed applicable for ** strings,list ,tuple,dict etc**\n",
    "\n",
    "- reversed (string) , reversed(list) , reversed(tuple) etc\n",
    "\n",
    "**reverse**\n",
    "\n",
    "- reverse is a method is belongs to only list\n",
    "\n",
    "- reverse method can not appicable to strings, tuple and dict\n",
    "\n",
    "- list.reverse()"
   ]
  },
  {
   "cell_type": "code",
   "execution_count": null,
   "id": "176728be-ac0c-4670-acea-e9806426428d",
   "metadata": {},
   "outputs": [],
   "source": [
    "l1=[10,20,30,40,50,80,90]\n",
    "l1.sort(reverse=True)   # it is method belongs to the list family\n",
    "l1"
   ]
  },
  {
   "cell_type": "code",
   "execution_count": null,
   "id": "5a19daf8-3e92-4f58-ae57-5d0fe6d7fd60",
   "metadata": {},
   "outputs": [],
   "source": [
    "sorted(l1)    # it is a inbuilt function which can be applicable on the all iterable objects"
   ]
  },
  {
   "cell_type": "code",
   "execution_count": null,
   "id": "161b83dc-efd7-484d-814a-681e38f5d6ba",
   "metadata": {},
   "outputs": [],
   "source": [
    "type([])   # do not give list as variable"
   ]
  },
  {
   "cell_type": "markdown",
   "id": "1f9c3517-e439-42db-90f0-d832f8503c52",
   "metadata": {},
   "source": [
    "**append**\n",
    "\n",
    "- append means add an element at end of the list\n",
    "\n",
    "-  append is a method very important\n",
    "\n",
    "-  append is used to store the outputs in a list\n",
    "\n",
    "-  till last class we just printed all the outputs\n",
    "\n",
    "-  "
   ]
  },
  {
   "cell_type": "code",
   "execution_count": null,
   "id": "5502947b-61df-4cbc-b7df-0b0ec9fba4e4",
   "metadata": {},
   "outputs": [],
   "source": [
    "#empty list\n",
    "l1=[]\n",
    "l1.append(10)\n",
    "l1"
   ]
  },
  {
   "cell_type": "code",
   "execution_count": null,
   "id": "e44edc1d-b4ea-412f-af15-43f0c9db1258",
   "metadata": {},
   "outputs": [],
   "source": [
    "l1=[1,2,3]\n",
    "l1.append('apple')\n",
    "l1"
   ]
  },
  {
   "cell_type": "code",
   "execution_count": null,
   "id": "bf0ac3c4-ad29-4d70-8b31-849e4ddfc68e",
   "metadata": {},
   "outputs": [],
   "source": [
    "l1=[]\n",
    "for i in range(11):\n",
    "    l1.append(i)\n",
    "\n",
    "l1"
   ]
  },
  {
   "cell_type": "code",
   "execution_count": null,
   "id": "603a309a-362d-432d-8e93-ffe270a85fc1",
   "metadata": {},
   "outputs": [],
   "source": [
    "l1=[]\n",
    "for i in range(1,6):\n",
    "    n=eval(input('Enter the number:'))\n",
    "    l1.append(n*n)\n",
    "print(l1)"
   ]
  },
  {
   "cell_type": "code",
   "execution_count": null,
   "id": "265f2aec-b692-492a-8d91-fa1def0b75f3",
   "metadata": {},
   "outputs": [],
   "source": [
    "import random\n",
    "l1=[]\n",
    "for i in range(1,6):\n",
    "    n=random.randint(1,100)\n",
    "    l1.append(f'{n} : {n*n}')\n",
    "print(l1)"
   ]
  },
  {
   "cell_type": "code",
   "execution_count": null,
   "id": "19061902-c5d3-4851-96ee-209b5a63c02e",
   "metadata": {},
   "outputs": [],
   "source": [
    "list1=[100,20,27,38,47,52,87]\n",
    "even_list=[]\n",
    "odd_list=[]\n",
    "for i in list1:\n",
    "    if i%2==0:\n",
    "        even_list.append(i)\n",
    "    else:\n",
    "        odd_list.append(i)\n",
    "print(sorted(even_list))\n",
    "print(sorted(odd_list))"
   ]
  },
  {
   "cell_type": "code",
   "execution_count": null,
   "id": "14f5b5fd-ba29-47ab-8774-02255be1314c",
   "metadata": {},
   "outputs": [],
   "source": [
    "l1=['hyd','chennai','mumbai','pune']\n",
    "for i in l1:\n",
    "    print(i.title())"
   ]
  },
  {
   "cell_type": "markdown",
   "id": "5f6592e2-68b7-4044-8aa3-0244fe2d9767",
   "metadata": {},
   "source": [
    "**joining the list of the elements**"
   ]
  },
  {
   "cell_type": "markdown",
   "id": "17ef3eb5-05ef-41c3-a865-349cf194d6d1",
   "metadata": {},
   "source": [
    "- we can convert string to list by using **string.split**\n",
    "\n",
    "- we can convert list to string by using **join(list)**"
   ]
  },
  {
   "cell_type": "code",
   "execution_count": null,
   "id": "06bbfd81-31c0-439e-9597-b12c27656a57",
   "metadata": {},
   "outputs": [],
   "source": [
    "str1='hai how are you'\n",
    "str1.split('h')"
   ]
  },
  {
   "cell_type": "code",
   "execution_count": null,
   "id": "43788a24-928e-4764-bbce-120e90c9cc1b",
   "metadata": {},
   "outputs": [],
   "source": [
    "l1=['hai', 'how', 'are', 'you']\n",
    "str1=' '\n",
    "str1.join(l1)\n",
    "'h'.join(l1)"
   ]
  },
  {
   "cell_type": "code",
   "execution_count": null,
   "id": "4bf20d0a-58c7-4850-bb9e-95712f2df057",
   "metadata": {},
   "outputs": [],
   "source": [
    "str1='virat.kohli@rcb.com; rohit.sharma@mi.com; dhoni.ms@csk.com'\n",
    "l=str1.split(';')\n",
    "f_name,s_name,c_name=[],[],[]\n",
    "for i in l:\n",
    "    first_dot=i.find('.')\n",
    "    second_dot=i.find('.',first_dot+1)\n",
    "    at_symbol=i.find('@')\n",
    "    f_name.append(i[:first_dot])\n",
    "    s_name.append(i[first_dot+1:at_symbol])\n",
    "    c_name.append(i[at_symbol+1:second_dot])\n",
    "   \n",
    "f_name,s_name,c_name"
   ]
  },
  {
   "cell_type": "code",
   "execution_count": null,
   "id": "165be4d2-4800-40fb-9e83-40701ba17013",
   "metadata": {},
   "outputs": [],
   "source": [
    "import random\n",
    "l=[]\n",
    "for i in range(7):\n",
    "    num=random.randint(1,100)\n",
    "    l.append(num)\n",
    "\n",
    "l"
   ]
  },
  {
   "cell_type": "code",
   "execution_count": null,
   "id": "7bf4616c-dddf-4678-bd4f-2f4641f42bab",
   "metadata": {},
   "outputs": [],
   "source": [
    "- Assume that first value is a maximum value\n",
    "\n",
    "- then iterate the loop from the next value onwards\n",
    "\n",
    "- apply the condition if any value greater than assumed value \n",
    "\n",
    "- then replace max value with iterated value"
   ]
  },
  {
   "cell_type": "code",
   "execution_count": null,
   "id": "6192dcf4-93f0-48f8-8951-dfb7cd6c5465",
   "metadata": {},
   "outputs": [],
   "source": [
    "max_val=l[0]\n",
    "for i in l[1:]:\n",
    "    if i>max_val:\n",
    "        max_val=i\n",
    "\n",
    "print(max_val)"
   ]
  },
  {
   "cell_type": "code",
   "execution_count": null,
   "id": "6eb18206-2ab8-4b1b-bee0-7503994f4980",
   "metadata": {},
   "outputs": [],
   "source": [
    "min_val=l[0]\n",
    "for i in l[1:]:\n",
    "    if i < min_val:\n",
    "        min_val=i\n",
    "\n",
    "print(min_val)"
   ]
  },
  {
   "cell_type": "code",
   "execution_count": 1,
   "id": "2f8ce2b8-0be6-44a5-b865-0ab8a8bc0408",
   "metadata": {},
   "outputs": [
    {
     "name": "stdout",
     "output_type": "stream",
     "text": [
      "['can', 'canner', 'can', 'not', 'can', 'you', 'canner', 'can', 'be', 'can', 'you', 'can', 'not']\n",
      "can 6\n",
      "canner 2\n",
      "not 2\n",
      "you 2\n",
      "be 1\n",
      "['can', 'canner', 'not', 'you', 'be']\n"
     ]
    }
   ],
   "source": [
    "str1='can canner can not can you canner can be can you can not'\n",
    "l=str1.split()\n",
    "print(l)\n",
    "\n",
    "l2=[]\n",
    "for i in l:\n",
    "    if i not in l2:\n",
    "        print(i,l.count(i))\n",
    "        l2.append(i)\n",
    "print(l2)    "
   ]
  },
  {
   "cell_type": "code",
   "execution_count": null,
   "id": "0357181c-8076-42b9-9926-79c313a589d7",
   "metadata": {},
   "outputs": [],
   "source": [
    "str1='can canner can not can you canner can be can you can not'\n",
    "l=str1.split()"
   ]
  },
  {
   "cell_type": "code",
   "execution_count": 4,
   "id": "e7531634-c7b6-497e-943a-38100f437c15",
   "metadata": {},
   "outputs": [
    {
     "data": {
      "text/plain": [
       "['can-6', 'canner-2', 'not-2', 'you-2', 'be-1']"
      ]
     },
     "execution_count": 4,
     "metadata": {},
     "output_type": "execute_result"
    }
   ],
   "source": [
    "l1=[]\n",
    "l2=[]\n",
    "for i in l:\n",
    "    if i not in l2:\n",
    "        l2.append(i)\n",
    "        l1.append(f\"{i}-{l.count(i)}\")\n",
    "\n",
    "l1"
   ]
  },
  {
   "cell_type": "code",
   "execution_count": null,
   "id": "bd0b7792-9591-48c8-9d0f-2fb775ec1e38",
   "metadata": {},
   "outputs": [],
   "source": [
    "qns= ['who is pm of india','who is ICT captain','what is the capital of india']\n",
    "ans=['modi','rohit','delhi']\n",
    "count=0\n",
    "for i in range(len(qns)):\n",
    "    ANSWER=input(qns[i])\n",
    "    if ANSWER.lower() == ans[i].lower():\n",
    "        count=count+1\n",
    "\n",
    "print('the total correct answer is ',count)"
   ]
  },
  {
   "cell_type": "markdown",
   "id": "b7a8b294-3d6e-4062-a2cd-95b66a3a4bc7",
   "metadata": {},
   "source": [
    "**pop vs remove**"
   ]
  },
  {
   "cell_type": "code",
   "execution_count": null,
   "id": "2f573364-8a1a-4168-818b-0a4dbbaad269",
   "metadata": {},
   "outputs": [],
   "source": [
    "l=[100,200,300,100,100,'a','b','c']\n",
    "l.pop(3)\n",
    "# pop will remove the element based on index\n",
    "# if we dont give any index by default "
   ]
  },
  {
   "cell_type": "code",
   "execution_count": null,
   "id": "bda72d58-4ccc-46b9-b95c-42c0ba86976f",
   "metadata": {},
   "outputs": [],
   "source": [
    "l.remove()"
   ]
  },
  {
   "cell_type": "markdown",
   "id": "e2680457-3e7e-49c1-9ae3-dff324338aff",
   "metadata": {},
   "source": [
    "- pop except a index value\n",
    "\n",
    "- remove expect a **value**"
   ]
  },
  {
   "cell_type": "code",
   "execution_count": null,
   "id": "74610aed-3c58-45c9-9179-6dadfd14407a",
   "metadata": {},
   "outputs": [],
   "source": [
    "dir([])"
   ]
  },
  {
   "cell_type": "code",
   "execution_count": null,
   "id": "7a5abd46-8dab-4d1c-bd9a-68b1193f3220",
   "metadata": {},
   "outputs": [],
   "source": [
    "i1=l.index(100)\n",
    "i2=l.index(100,i1+1)\n",
    "l.pop(i2)"
   ]
  },
  {
   "cell_type": "markdown",
   "id": "87d276d9-b30a-4191-bdb5-195946044d70",
   "metadata": {},
   "source": [
    "**extend**"
   ]
  },
  {
   "cell_type": "code",
   "execution_count": null,
   "id": "7386a325-da8d-431a-be0b-d2aaf2de770d",
   "metadata": {},
   "outputs": [],
   "source": [
    "- difference between concatenation vs append vs extend"
   ]
  },
  {
   "cell_type": "code",
   "execution_count": null,
   "id": "92084720-35cf-4cd2-b039-f73d3591e6ef",
   "metadata": {},
   "outputs": [],
   "source": [
    "l1=[1,2,3,4,5]\n",
    "l2=['a','b','c','d','e']"
   ]
  },
  {
   "cell_type": "code",
   "execution_count": null,
   "id": "7c3b3925-271f-4f33-ac1e-b9e486d0ebdb",
   "metadata": {},
   "outputs": [],
   "source": [
    "l=l1+l2\n",
    "l"
   ]
  },
  {
   "cell_type": "code",
   "execution_count": null,
   "id": "d1c496a0-4b44-4d40-b844-5c7b7680190a",
   "metadata": {},
   "outputs": [],
   "source": [
    "l1=[1,2,3,4,5]\n",
    "l2=['a','b','c','d','e']\n",
    "l1.extend(l2)\n",
    "l1"
   ]
  },
  {
   "cell_type": "code",
   "execution_count": null,
   "id": "9835234b-df53-48e2-bbb0-275f88b57835",
   "metadata": {},
   "outputs": [],
   "source": [
    "l1=[1,2,3,4,5]\n",
    "l1.append('a')\n",
    "l1.append('b')\n",
    "l1"
   ]
  },
  {
   "cell_type": "markdown",
   "id": "63d50856-24ce-4cde-8395-71547cb396fa",
   "metadata": {},
   "source": [
    "- extend and concatenation both has same behaviour\n",
    "\n",
    "- means add the two lists\n",
    "\n",
    "- but extend will overwrite the list"
   ]
  },
  {
   "cell_type": "markdown",
   "id": "cf08293c-ce36-41f4-acbf-e658e5ccaea6",
   "metadata": {},
   "source": [
    "**insert**"
   ]
  },
  {
   "cell_type": "markdown",
   "id": "22893a07-fced-4165-9adc-8c222bf89b08",
   "metadata": {},
   "source": [
    "- difference between insert and append"
   ]
  },
  {
   "cell_type": "code",
   "execution_count": 17,
   "id": "8358c8ba-ea0b-49fb-8c0d-336a14dc657b",
   "metadata": {},
   "outputs": [
    {
     "data": {
      "text/plain": [
       "[1, 2, 3, 4, 5, 1]"
      ]
     },
     "execution_count": 17,
     "metadata": {},
     "output_type": "execute_result"
    }
   ],
   "source": [
    "l1=[1,2,3,4,5]\n",
    "l1.append(1)\n",
    "l1"
   ]
  },
  {
   "cell_type": "code",
   "execution_count": 18,
   "id": "d25e21be-5ec7-4bc2-9ddf-e3b7b5023f3a",
   "metadata": {},
   "outputs": [
    {
     "data": {
      "text/plain": [
       "[1, 10, 2, 3, 4, 5, 1]"
      ]
     },
     "execution_count": 18,
     "metadata": {},
     "output_type": "execute_result"
    }
   ],
   "source": [
    "l1.insert(1,10)\n",
    "l1"
   ]
  },
  {
   "cell_type": "code",
   "execution_count": 19,
   "id": "cb0c622a-f0e5-4750-ac44-3e23679a482a",
   "metadata": {},
   "outputs": [
    {
     "data": {
      "text/plain": [
       "[1, 2, 3, 'A', 1000, 'B', 'C']"
      ]
     },
     "execution_count": 19,
     "metadata": {},
     "output_type": "execute_result"
    }
   ],
   "source": [
    "l1=[1,2,3,'A','B','C']\n",
    "i1=l1.index('B')\n",
    "l1.insert(i1,1000)\n",
    "l1"
   ]
  },
  {
   "cell_type": "code",
   "execution_count": 20,
   "id": "8aafd88e-237f-43eb-b5db-ab86f24e24f4",
   "metadata": {},
   "outputs": [
    {
     "name": "stdout",
     "output_type": "stream",
     "text": [
      "[110, 220, 330, 400]\n"
     ]
    }
   ],
   "source": [
    "l3=[]\n",
    "l1=[100,200,300,400]\n",
    "l2=[10,20,30]\n",
    "for i in range(len(l1)):\n",
    "   if i < len(l2):\n",
    "       l3.append(l1[i]+l2[i])\n",
    "   else:\n",
    "       l3.append(l1[i])\n",
    "    \n",
    "print(l3)\n",
    "        "
   ]
  },
  {
   "cell_type": "code",
   "execution_count": 21,
   "id": "6223f03a-fbb2-4d4b-9f69-14efbf3a46f7",
   "metadata": {},
   "outputs": [
    {
     "ename": "TypeError",
     "evalue": "'int' object is not subscriptable",
     "output_type": "error",
     "traceback": [
      "\u001b[1;31m---------------------------------------------------------------------------\u001b[0m",
      "\u001b[1;31mTypeError\u001b[0m                                 Traceback (most recent call last)",
      "Cell \u001b[1;32mIn[21], line 7\u001b[0m\n\u001b[0;32m      5\u001b[0m \u001b[38;5;28;01mfor\u001b[39;00m i \u001b[38;5;129;01min\u001b[39;00m \u001b[38;5;28mrange\u001b[39m(max_val):\n\u001b[0;32m      6\u001b[0m     \u001b[38;5;28;01mif\u001b[39;00m i \u001b[38;5;241m<\u001b[39m l2:\n\u001b[1;32m----> 7\u001b[0m         ans\u001b[38;5;241m.\u001b[39mappend(l1[i]\u001b[38;5;241m+\u001b[39ml2[i])\n\u001b[0;32m      8\u001b[0m     \u001b[38;5;28;01melse\u001b[39;00m:\n\u001b[0;32m      9\u001b[0m         ans\u001b[38;5;241m.\u001b[39mappend(l1[i])\n",
      "\u001b[1;31mTypeError\u001b[0m: 'int' object is not subscriptable"
     ]
    }
   ],
   "source": [
    "l1=len(l1)\n",
    "l2=len(l2)\n",
    "max_val=max(l1,l2)\n",
    "ans=[]\n",
    "for i in range(max_val):\n",
    "    if i < l2:\n",
    "        ans.append(l1[i]+l2[i])\n",
    "    else:\n",
    "        ans.append(l1[i])\n",
    "\n",
    "print(ans)"
   ]
  },
  {
   "cell_type": "code",
   "execution_count": null,
   "id": "ab5f1047-47cd-4198-978f-8c2b8007b1c4",
   "metadata": {},
   "outputs": [],
   "source": []
  },
  {
   "cell_type": "code",
   "execution_count": null,
   "id": "c8d5dbbf-cf17-4cbf-8fe9-d9a42070e5d2",
   "metadata": {},
   "outputs": [],
   "source": [
    "x1,x2,y1,y2=eval(input('Enter the :')),eval(input('Enter the no.:')),eval(input('Enter the no.:')),eval(input('Enter the no.:'))\n",
    "ans=math.sqrt((x2-x1)**2 + (y2-y1)**2)\n",
    "print(ans)"
   ]
  },
  {
   "cell_type": "code",
   "execution_count": null,
   "id": "820603ab-536c-4832-92b7-f9ae7367c450",
   "metadata": {},
   "outputs": [],
   "source": [
    "import math\n",
    "l1=[2,5]\n",
    "l2=[4,9]\n",
    "d1=l2[0]-l1[0]\n",
    "d2=l2[1]-l1[1]\n",
    "d=d1**2+d2**2\n",
    "ans=math.sqrt(d)\n",
    "ans"
   ]
  },
  {
   "cell_type": "code",
   "execution_count": null,
   "id": "eef5e2d4-be4d-46e3-ab14-3b93a2d772a5",
   "metadata": {},
   "outputs": [],
   "source": [
    "import math\n",
    "l1=[2,5]\n",
    "l2=[4,9]\n",
    "for i in range(len(l1)):\n",
    "    d=((l2[i]-l1[i])**2 + (l2[i]-l1[i])**2)\n",
    "    ans=math.sqrt(d)\n",
    "\n",
    "print(ans)\n"
   ]
  },
  {
   "cell_type": "code",
   "execution_count": null,
   "id": "bb87d6ae-2b22-46cc-a265-ec04b1729f7f",
   "metadata": {},
   "outputs": [],
   "source": []
  },
  {
   "cell_type": "code",
   "execution_count": null,
   "id": "a32fbea8-5bdd-473f-afaa-7ba1407b204c",
   "metadata": {},
   "outputs": [],
   "source": [
    "import math\n",
    "a=[(1,3),(7,8),(2,6),(9,3)]\n",
    "b=(5,9)\n",
    "ans=[]\n",
    "for p in a:\n",
    "    l1=p\n",
    "    ans.append(math.sqrt((b[0]-l1[0])**2+(b[1]-l1[1])**2))\n",
    "x=max(ans)\n",
    "y=min(ans)\n",
    "x,y"
   ]
  },
  {
   "cell_type": "code",
   "execution_count": 23,
   "id": "2ceea855-6d28-48ae-b4ee-b12706ac6626",
   "metadata": {},
   "outputs": [
    {
     "name": "stdout",
     "output_type": "stream",
     "text": [
      "[7.810249675906654, 3.1622776601683795, 8.0, 6.082762530298219, 12.727922061357855, 0.0, 5.385164807134504, 5.385164807134504, 5.0990195135927845, 5.0, 5.385164807134504, 0.0, 7.615773105863909, 3.0, 10.0, 5.385164807134504, 7.615773105863909, 0.0, 9.219544457292887, 9.055385138137417, 5.0990195135927845, 3.0, 9.219544457292887, 0.0, 8.54400374531753, 5.0, 10.0, 9.055385138137417, 8.54400374531753, 0.0]\n"
     ]
    }
   ],
   "source": [
    "import math\n",
    "a=[(1,3),(7,8),(2,6),(9,3),(2,9),(10,12)]\n",
    "ans=[]\n",
    "for i in a:\n",
    "    for j in a[1:]:\n",
    "        ans.append(math.sqrt((j[0]-i[0])**2+(j[1]-i[1])**2))\n",
    "print(ans)  \n",
    "min_val=min(ans)\n",
    "max_val=max(ans)"
   ]
  },
  {
   "cell_type": "code",
   "execution_count": null,
   "id": "37a1b358-027c-46e0-89a9-f30f715ca39e",
   "metadata": {},
   "outputs": [],
   "source": []
  },
  {
   "cell_type": "code",
   "execution_count": null,
   "id": "880cd067-fda6-481f-817e-a6019e62650d",
   "metadata": {},
   "outputs": [],
   "source": []
  },
  {
   "cell_type": "code",
   "execution_count": null,
   "id": "7b561057-1baa-4050-98f6-a697a4555154",
   "metadata": {},
   "outputs": [],
   "source": []
  },
  {
   "cell_type": "code",
   "execution_count": null,
   "id": "dc1b1f29-ac9a-4a74-8ca6-a4d50872b904",
   "metadata": {},
   "outputs": [],
   "source": []
  },
  {
   "cell_type": "code",
   "execution_count": null,
   "id": "8f7cceda-c1a7-43bc-90d2-801b165b2193",
   "metadata": {},
   "outputs": [],
   "source": []
  },
  {
   "cell_type": "code",
   "execution_count": null,
   "id": "5ae30046-4d50-40a6-9431-3d6c102c642f",
   "metadata": {},
   "outputs": [],
   "source": []
  },
  {
   "cell_type": "code",
   "execution_count": null,
   "id": "c616bf95-eeee-42d0-96a2-ba144f64f5e2",
   "metadata": {},
   "outputs": [],
   "source": []
  },
  {
   "cell_type": "code",
   "execution_count": null,
   "id": "bba41779-b02c-4b54-b9a7-e6dcff9fca7d",
   "metadata": {},
   "outputs": [],
   "source": []
  },
  {
   "cell_type": "code",
   "execution_count": null,
   "id": "90ebedcf-8f2c-44a0-bbc9-d1a36839bb7d",
   "metadata": {},
   "outputs": [],
   "source": []
  },
  {
   "cell_type": "code",
   "execution_count": null,
   "id": "32996ce5-6226-4007-a9bd-b309f477b6e5",
   "metadata": {},
   "outputs": [],
   "source": []
  },
  {
   "cell_type": "code",
   "execution_count": null,
   "id": "d5701c5e-6760-4f0a-89ea-3feed8a48df1",
   "metadata": {},
   "outputs": [],
   "source": []
  },
  {
   "cell_type": "code",
   "execution_count": null,
   "id": "4975c87b-f9c1-443a-b649-45887a89844e",
   "metadata": {},
   "outputs": [],
   "source": []
  },
  {
   "cell_type": "code",
   "execution_count": null,
   "id": "d2713bb0-d732-42fd-b276-bdbfd895e62d",
   "metadata": {},
   "outputs": [],
   "source": []
  },
  {
   "cell_type": "code",
   "execution_count": null,
   "id": "cf8c44ab-d4ac-4ca8-93d6-1add8ff07da7",
   "metadata": {},
   "outputs": [],
   "source": []
  },
  {
   "cell_type": "code",
   "execution_count": null,
   "id": "faa1c67c-aa27-4387-b108-ccfbff33eba5",
   "metadata": {},
   "outputs": [],
   "source": []
  },
  {
   "cell_type": "code",
   "execution_count": null,
   "id": "0b36d74d-6ba6-470b-981b-e77f35ba172d",
   "metadata": {},
   "outputs": [],
   "source": []
  },
  {
   "cell_type": "code",
   "execution_count": null,
   "id": "eea2fb5c-adf1-48b5-93ab-f1887c59dcdc",
   "metadata": {},
   "outputs": [],
   "source": []
  }
 ],
 "metadata": {
  "kernelspec": {
   "display_name": "Python 3 (ipykernel)",
   "language": "python",
   "name": "python3"
  },
  "language_info": {
   "codemirror_mode": {
    "name": "ipython",
    "version": 3
   },
   "file_extension": ".py",
   "mimetype": "text/x-python",
   "name": "python",
   "nbconvert_exporter": "python",
   "pygments_lexer": "ipython3",
   "version": "3.12.4"
  }
 },
 "nbformat": 4,
 "nbformat_minor": 5
}
