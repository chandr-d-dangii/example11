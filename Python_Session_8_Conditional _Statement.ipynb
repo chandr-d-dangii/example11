{
 "cells": [
  {
   "cell_type": "markdown",
   "id": "dbf56478-a3eb-4d9f-8285-3245b893b642",
   "metadata": {},
   "source": [
    "we can write any condition \n",
    "the condition should be valid \n",
    "in order to excute the if statement"
   ]
  },
  {
   "cell_type": "code",
   "execution_count": null,
   "id": "ba9dade1-799f-4794-88a9-442be3acf6fd",
   "metadata": {},
   "outputs": [],
   "source": [
    "if <condition>:\n",
    "    <code starts here>\n",
    "\n",
    "#the space we need to maintain it is called as indentation."
   ]
  },
  {
   "cell_type": "code",
   "execution_count": 1,
   "id": "ada48bca-7f9f-419c-9b57-f53ce8d65cbb",
   "metadata": {},
   "outputs": [
    {
     "data": {
      "text/plain": [
       "True"
      ]
     },
     "execution_count": 1,
     "metadata": {},
     "output_type": "execute_result"
    }
   ],
   "source": [
    "name=\"Python\"\n",
    "name==\"Python\""
   ]
  },
  {
   "cell_type": "code",
   "execution_count": 4,
   "id": "dd8c300d-f684-49ef-abf8-76d71fd723bd",
   "metadata": {},
   "outputs": [
    {
     "data": {
      "text/plain": [
       "False"
      ]
     },
     "execution_count": 4,
     "metadata": {},
     "output_type": "execute_result"
    }
   ],
   "source": [
    "name!='Python'"
   ]
  },
  {
   "cell_type": "code",
   "execution_count": 6,
   "id": "1399c283-e4ee-4acf-9725-c03b9d39adb9",
   "metadata": {},
   "outputs": [
    {
     "name": "stdout",
     "output_type": "stream",
     "text": [
      "hello\n",
      "30\n"
     ]
    }
   ],
   "source": [
    "name='python'\n",
    "if name=='python':\n",
    "    print('hello')\n",
    "    a=10\n",
    "    b=20\n",
    "    print(a+b)\n",
    "#step-1: name='python'\n",
    "#step-2: if name=='python'  if 'python'=='python'   if true\n",
    "#step-3: print hello\n",
    "#step-4: a=10\n",
    "#step-5: b=20\n",
    "#step-6: a+b 10+20=30"
   ]
  },
  {
   "cell_type": "code",
   "execution_count": 7,
   "id": "64f6dde7-4021-4e29-9262-6163ed5917c4",
   "metadata": {},
   "outputs": [
    {
     "name": "stdout",
     "output_type": "stream",
     "text": [
      "correct\n",
      "bye\n"
     ]
    }
   ],
   "source": [
    "if 100>10:\n",
    "    print('correct')\n",
    "print('bye')\n"
   ]
  },
  {
   "cell_type": "code",
   "execution_count": 8,
   "id": "1e9d3a16-922b-48a1-b02b-86e673926a9a",
   "metadata": {},
   "outputs": [
    {
     "name": "stdout",
     "output_type": "stream",
     "text": [
      "bye\n"
     ]
    }
   ],
   "source": [
    "if 100<10:\n",
    "    print('correct')\n",
    "print('bye')\n"
   ]
  },
  {
   "cell_type": "code",
   "execution_count": 10,
   "id": "3dc8c179-efd0-43e3-b49d-3a17348c2c34",
   "metadata": {},
   "outputs": [
    {
     "name": "stdout",
     "output_type": "stream",
     "text": [
      "hai\n",
      "correct\n",
      "bye\n"
     ]
    }
   ],
   "source": [
    "print('hai')\n",
    "#############################\n",
    "if 100>10:\n",
    "    print('correct')\n",
    "#################################\n",
    "print('bye')\n"
   ]
  },
  {
   "cell_type": "markdown",
   "id": "438b43e5-1b1e-4b4e-88e8-22012a34a702",
   "metadata": {},
   "source": [
    "**if-else**\n",
    "- whenever if condition fails automatically else part \n",
    "\n",
    "- so else does not required any condition \n",
    "\n",
    "- always maintain indentation for both if part and else part "
   ]
  },
  {
   "cell_type": "code",
   "execution_count": 11,
   "id": "2c38ba9c-5933-4180-86c4-e5f60d00e9d5",
   "metadata": {},
   "outputs": [
    {
     "name": "stdout",
     "output_type": "stream",
     "text": [
      "correct condition\n"
     ]
    }
   ],
   "source": [
    "if 100>10:\n",
    "    print('correct condition')\n",
    "else:\n",
    "    print('wrong condition')"
   ]
  },
  {
   "cell_type": "code",
   "execution_count": null,
   "id": "28ddc37b-116e-408b-aa75-71cc2dd53f41",
   "metadata": {},
   "outputs": [],
   "source": [
    "print(10)\n",
    "###############################3\n",
    "if 100>10:\n",
    "    print('correct condition')\n",
    "##################################\n",
    "else:\n",
    "    print('wrong condition')\n",
    "#####################################\n",
    "print(20)"
   ]
  },
  {
   "cell_type": "code",
   "execution_count": 12,
   "id": "98913662-9254-44cd-b104-9717015e30cc",
   "metadata": {},
   "outputs": [
    {
     "ename": "SyntaxError",
     "evalue": "invalid syntax (2877772661.py, line 6)",
     "output_type": "error",
     "traceback": [
      "\u001b[1;36m  Cell \u001b[1;32mIn[12], line 6\u001b[1;36m\u001b[0m\n\u001b[1;33m    else:\u001b[0m\n\u001b[1;37m    ^\u001b[0m\n\u001b[1;31mSyntaxError\u001b[0m\u001b[1;31m:\u001b[0m invalid syntax\n"
     ]
    }
   ],
   "source": [
    "print(10)\n",
    "if 100>10:\n",
    "    print('correct condition')\n",
    "    print('okay')\n",
    "print('why are you come in middle')\n",
    "else:\n",
    "    print('wrong condition')\n",
    "print(20)"
   ]
  },
  {
   "cell_type": "markdown",
   "id": "f9bb7c5d-ed48-4044-9a20-d7ca701d8799",
   "metadata": {},
   "source": [
    "**if and else always together**"
   ]
  },
  {
   "cell_type": "code",
   "execution_count": null,
   "id": "bcc5fa69-5939-4e8a-86b6-50ad5ba77a78",
   "metadata": {},
   "outputs": [],
   "source": [
    "# wap program the user take two numbers\n",
    "#num1 and num2\n",
    "#if both number are same then print we are won\n",
    "#otherwise print we are lost\n",
    "\n",
    "# step1:n1=eval(input('en'))\n",
    "# step2:n2=eval(input('en'))\n",
    "# step3: if <codition>:\n",
    "#step4:       print('we are won')\n",
    "#step5: else:\n",
    "#step6:     print('we are lost')"
   ]
  },
  {
   "cell_type": "code",
   "execution_count": 13,
   "id": "2a4d1b0b-a5ed-4c78-b14a-080267c0ca4f",
   "metadata": {},
   "outputs": [
    {
     "name": "stdin",
     "output_type": "stream",
     "text": [
      "Enter the First no.: 10\n",
      "Enter the second no.: 10\n"
     ]
    },
    {
     "name": "stdout",
     "output_type": "stream",
     "text": [
      "we are won\n"
     ]
    }
   ],
   "source": [
    "a=eval(input(\"Enter the First no.:\"))\n",
    "b=eval(input(\"Enter the second no.:\"))\n",
    "if a==b:\n",
    "    print('we are won')\n",
    "else:\n",
    "    print('we lost')\n"
   ]
  },
  {
   "cell_type": "code",
   "execution_count": 19,
   "id": "e8279690-e8da-41fd-8d78-d31e812e6940",
   "metadata": {},
   "outputs": [
    {
     "name": "stdout",
     "output_type": "stream",
     "text": [
      "3\n"
     ]
    },
    {
     "name": "stdin",
     "output_type": "stream",
     "text": [
      "Enter the First no.: 3\n"
     ]
    },
    {
     "name": "stdout",
     "output_type": "stream",
     "text": [
      "we are won\n"
     ]
    }
   ],
   "source": [
    "from random import randint\n",
    "a=randint(1,10)\n",
    "print(a)\n",
    "b=eval(input(\"Enter the First no.:\"))\n",
    "if a==b:\n",
    "    print('we are won')\n",
    "else:\n",
    "    print('we lost')\n"
   ]
  },
  {
   "cell_type": "code",
   "execution_count": 21,
   "id": "53da5364-b162-461f-831f-aef1a7f39206",
   "metadata": {},
   "outputs": [
    {
     "data": {
      "text/plain": [
       "2.5"
      ]
     },
     "execution_count": 21,
     "metadata": {},
     "output_type": "execute_result"
    }
   ],
   "source": [
    "5/2 #division"
   ]
  },
  {
   "cell_type": "code",
   "execution_count": 22,
   "id": "048880f7-f988-446f-8f7f-8894a12c5dd4",
   "metadata": {},
   "outputs": [
    {
     "data": {
      "text/plain": [
       "2"
      ]
     },
     "execution_count": 22,
     "metadata": {},
     "output_type": "execute_result"
    }
   ],
   "source": [
    "5//2   #floor division"
   ]
  },
  {
   "cell_type": "code",
   "execution_count": 23,
   "id": "503f35e4-36d1-4995-9658-265543545c4f",
   "metadata": {},
   "outputs": [
    {
     "data": {
      "text/plain": [
       "1"
      ]
     },
     "execution_count": 23,
     "metadata": {},
     "output_type": "execute_result"
    }
   ],
   "source": [
    "5%2   # modulus operator"
   ]
  },
  {
   "cell_type": "code",
   "execution_count": 20,
   "id": "f6e3b1a8-f1c2-4b7c-8c2b-c4197ae1e4b6",
   "metadata": {},
   "outputs": [
    {
     "name": "stdin",
     "output_type": "stream",
     "text": [
      "Enter a no.: 4\n"
     ]
    },
    {
     "name": "stdout",
     "output_type": "stream",
     "text": [
      "it is even no.\n"
     ]
    }
   ],
   "source": [
    "num=eval(input('Enter a no.:'))\n",
    "if num%2==0:\n",
    "    print(f'th given {num} is even no.')\n",
    "else:\n",
    "    print('it is odd no.')"
   ]
  },
  {
   "cell_type": "code",
   "execution_count": null,
   "id": "272f2f87-d9c2-49bf-9c1c-7954947ae19e",
   "metadata": {},
   "outputs": [],
   "source": []
  },
  {
   "cell_type": "code",
   "execution_count": null,
   "id": "bda4d79b-cea0-4496-b881-94252b65c1ab",
   "metadata": {},
   "outputs": [],
   "source": []
  },
  {
   "cell_type": "code",
   "execution_count": 29,
   "id": "8fc2b7f3-164f-4273-aab5-cd014ccef7f9",
   "metadata": {},
   "outputs": [
    {
     "name": "stdout",
     "output_type": "stream",
     "text": [
      "3\n",
      "it is odd no.\n"
     ]
    }
   ],
   "source": [
    "num=randint(1,100)\n",
    "print(num)\n",
    "if num%2==0:\n",
    "    print('it is even no.')\n",
    "else:\n",
    "    print('it is odd no.')"
   ]
  },
  {
   "cell_type": "code",
   "execution_count": 41,
   "id": "0b54162a-7aaa-444d-8406-f4b053d9b8eb",
   "metadata": {},
   "outputs": [
    {
     "name": "stdin",
     "output_type": "stream",
     "text": [
      "Enter the distance: 100\n",
      "Enter the Charge: 25\n"
     ]
    },
    {
     "name": "stdout",
     "output_type": "stream",
     "text": [
      "The total charge is 1875\n"
     ]
    }
   ],
   "source": [
    "dis=eval(input(\"Enter the distance:\"))\n",
    "if dis>25:\n",
    "    charge=eval(input(\"Enter the Charge:\"))\n",
    "    total_charge=(dis-25)*charge\n",
    "    print(f'The total charge is {total_charge}')\n",
    "else:\n",
    "    print('Free ride')"
   ]
  },
  {
   "cell_type": "code",
   "execution_count": 42,
   "id": "58baa9ad-0959-4857-9d05-bf8916871b1b",
   "metadata": {},
   "outputs": [
    {
     "name": "stdin",
     "output_type": "stream",
     "text": [
      "Enter the distance: 100\n",
      "Govt. cut off distance: 50\n"
     ]
    },
    {
     "name": "stdout",
     "output_type": "stream",
     "text": [
      "the charge applicable only on :50kms\n"
     ]
    },
    {
     "name": "stdin",
     "output_type": "stream",
     "text": [
      "Enter the Charge: 2\n"
     ]
    },
    {
     "name": "stdout",
     "output_type": "stream",
     "text": [
      "The total charge is 100rs\n"
     ]
    }
   ],
   "source": [
    "dis=eval(input(\"Enter the distance:\"))\n",
    "cutoff_dis=eval(input(\"Govt. cut off distance:\"))\n",
    "if dis>cutoff_dis:\n",
    "    print(f\"the charge applicable only on :{dis-cutoff_dis}kms\")\n",
    "    charge=eval(input(\"Enter the Charge:\"))\n",
    "    total_charge=(dis-cutoff_dis)*charge\n",
    "    print(f'The total charge is {total_charge}rs')\n",
    "else:\n",
    "    print('Enjoy Free ride')"
   ]
  },
  {
   "cell_type": "code",
   "execution_count": 45,
   "id": "a8599f57-f55e-4c95-98d2-cac30b6e712c",
   "metadata": {},
   "outputs": [
    {
     "name": "stdin",
     "output_type": "stream",
     "text": [
      "Enter the First no.: 20\n",
      "Enter the second no.: 10\n"
     ]
    },
    {
     "name": "stdout",
     "output_type": "stream",
     "text": [
      "the 20 is greater\n"
     ]
    }
   ],
   "source": [
    "num1=eval(input(\"Enter the First no.:\"))\n",
    "num2=eval(input(\"Enter the second no.:\"))\n",
    "if num1>num2:\n",
    "    print(f\"{num1} is greater\")\n",
    "else:\n",
    "    print(f\"{num2} is greater\")"
   ]
  },
  {
   "cell_type": "code",
   "execution_count": 46,
   "id": "3c4d3672-8244-4f5e-af44-995c587d2a47",
   "metadata": {},
   "outputs": [
    {
     "name": "stdout",
     "output_type": "stream",
     "text": [
      "88 is greater\n"
     ]
    }
   ],
   "source": [
    "num1=randint(1,100)\n",
    "num2=randint(1,100)\n",
    "if num1>num2:\n",
    "    print(f\"{num1} is greater\")\n",
    "else:\n",
    "    print(f\"{num2} is greater\")"
   ]
  },
  {
   "cell_type": "code",
   "execution_count": 51,
   "id": "f63daed8-5f57-4357-86ea-d9beb695bc33",
   "metadata": {},
   "outputs": [
    {
     "name": "stdin",
     "output_type": "stream",
     "text": [
      "Enter the course name: data science\n",
      "Enter the institue name: naresh it\n"
     ]
    },
    {
     "name": "stdout",
     "output_type": "stream",
     "text": [
      "we are good\n"
     ]
    }
   ],
   "source": [
    "course_name=input(\"Enter the course name:\")\n",
    "inst_name=input(\"Enter the institue name:\")\n",
    "if (course_name=='data science') and (inst_name=='naresh it'):\n",
    "    print(\"we are good\")\n",
    "else:\n",
    "    print('we are not good')"
   ]
  },
  {
   "cell_type": "markdown",
   "id": "2a140c55-6774-4d7c-a238-c91859490bb8",
   "metadata": {},
   "source": [
    "**if-elif-else statement**\n",
    "\n",
    "- when we have two  solution based on one condition\n",
    "\n",
    "- then we can go for if-else\n",
    "\n",
    "- when we three solutions based on two condition\n",
    "\n",
    "- then we go for if-elif-else\n",
    "\n",
    "- if needs condition\n",
    "\n",
    "- elif needs condition\n",
    "\n",
    "- if and elif both are wrong then will get else output\n",
    " "
   ]
  },
  {
   "cell_type": "code",
   "execution_count": null,
   "id": "21dead89-b177-4a39-8b0c-ba7e5d115114",
   "metadata": {},
   "outputs": [],
   "source": [
    "tw condition :if elif else"
   ]
  },
  {
   "cell_type": "code",
   "execution_count": 3,
   "id": "2711e1e5-ffbe-4104-89c1-c104a2c03262",
   "metadata": {},
   "outputs": [
    {
     "name": "stdin",
     "output_type": "stream",
     "text": [
      "Enter any number: 10\n"
     ]
    },
    {
     "name": "stdout",
     "output_type": "stream",
     "text": [
      "enter a valid number\n"
     ]
    }
   ],
   "source": [
    "num=eval(input(\"Enter any number:\"))\n",
    "if num==1:\n",
    "    print('one')\n",
    "elif num==2:\n",
    "    print('two')\n",
    "elif num==3:\n",
    "    print('three')\n",
    "else:\n",
    "    print('enter a valid number')\n"
   ]
  },
  {
   "cell_type": "code",
   "execution_count": 17,
   "id": "61b7d90c-68ca-4ec9-8309-c8db6b975c8a",
   "metadata": {},
   "outputs": [
    {
     "name": "stdin",
     "output_type": "stream",
     "text": [
      "Enter the percentage mark: 33\n"
     ]
    },
    {
     "name": "stdout",
     "output_type": "stream",
     "text": [
      "Fail\n"
     ]
    }
   ],
   "source": [
    "per_mark=eval(input('Enter the percentage mark:'))\n",
    "if per_mark>=75:\n",
    "    print('A grade')\n",
    "elif per_mark<75 and per_mark>=60:\n",
    "    print('B grade')\n",
    "elif per_mark<60 and per_mark>=45:\n",
    "    print('C grade')\n",
    "elif per_mark<45 and per_mark>=35:\n",
    "    print('D grade')\n",
    "else:\n",
    "    print('Fail')"
   ]
  },
  {
   "cell_type": "code",
   "execution_count": 21,
   "id": "3f41ce7f-0ce5-4853-9218-7d0c8dc02e14",
   "metadata": {},
   "outputs": [
    {
     "name": "stdin",
     "output_type": "stream",
     "text": [
      "Enter the percentage mark: 45\n"
     ]
    },
    {
     "name": "stdout",
     "output_type": "stream",
     "text": [
      "C grade\n"
     ]
    }
   ],
   "source": [
    "per_mark=eval(input('Enter the percentage mark:'))\n",
    "if per_mark>=75:\n",
    "    print('A grade')\n",
    "elif per_mark>=60:\n",
    "    print('B grade')\n",
    "elif per_mark>=45:\n",
    "    print('C grade')\n",
    "elif per_mark>=35:\n",
    "    print('D grade')\n",
    "else:\n",
    "    print('Fail')\n",
    "\n",
    "# what is the first True it will stop there only"
   ]
  },
  {
   "cell_type": "code",
   "execution_count": 19,
   "id": "6d94837b-4935-48a4-8400-e2cf0f3d29f8",
   "metadata": {},
   "outputs": [
    {
     "name": "stdin",
     "output_type": "stream",
     "text": [
      "Enter the age: 101\n"
     ]
    },
    {
     "name": "stdout",
     "output_type": "stream",
     "text": [
      "unluckly guy\n"
     ]
    }
   ],
   "source": [
    "age=eval(input(\"Enter the age:\"))\n",
    "if age>=100:\n",
    "    print('unlucky guy')\n",
    "elif age>=80:\n",
    "    print('super senior citizen')\n",
    "elif age>=60:\n",
    "    print('ss')\n",
    "elif age>=40:\n",
    "    print('Aged')\n",
    "elif age>=25:\n",
    "    print('MA')\n",
    "elif age>=15:\n",
    "    print('young')\n",
    "else:\n",
    "    print('kid')"
   ]
  },
  {
   "cell_type": "code",
   "execution_count": 26,
   "id": "fdd89778-457a-4ddb-ab33-c3ca05176ecc",
   "metadata": {},
   "outputs": [
    {
     "name": "stdin",
     "output_type": "stream",
     "text": [
      "Enter a distance: 85\n",
      "Enter Charge: 20\n"
     ]
    },
    {
     "name": "stdout",
     "output_type": "stream",
     "text": [
      "the total charge is 1700\n"
     ]
    }
   ],
   "source": [
    "dis=eval(input(\"Enter a distance:\"))\n",
    "if dis>=100:\n",
    "    charge=eval(input(\"Enter Charge:\"))\n",
    "    total=dis*charge\n",
    "    print(f'the total charge is {total}')\n",
    "elif dis>=50:\n",
    "    charge=eval(input('Enter Charge:'))\n",
    "    total=dis*charge\n",
    "    print(f'the total charge is {total}')\n",
    "elif dis>=25:\n",
    "    charge=eval(input('Enter Charge:'))\n",
    "    total=dis*charge\n",
    "    print(f'the total charge is {total}')\n",
    "else:\n",
    "    print('free ride')"
   ]
  },
  {
   "cell_type": "code",
   "execution_count": 28,
   "id": "0604c271-9b1f-4c22-912e-32a09ac11333",
   "metadata": {},
   "outputs": [
    {
     "name": "stdout",
     "output_type": "stream",
     "text": [
      "Enter 1 for addition\n",
      "Enter 2 for subtraction\n",
      "Enter 3 for Multiplication\n",
      "Enter 4 for Division\n"
     ]
    },
    {
     "name": "stdin",
     "output_type": "stream",
     "text": [
      "Enter the First No.: 20\n",
      "Enter the Second NO.: 10\n",
      "Enter the number between 1 to 4 4\n"
     ]
    },
    {
     "name": "stdout",
     "output_type": "stream",
     "text": [
      "You choose Division operation\n",
      "The division of 20 and 10 is 2.0\n"
     ]
    }
   ],
   "source": [
    "import time\n",
    "print('Enter 1 for Addition')\n",
    "time.sleep(1)\n",
    "print('Enter 2 for Subtraction')\n",
    "time.sleep(1)\n",
    "print('Enter 3 for Multiplication')\n",
    "time.sleep(1)\n",
    "print('Enter 4 for Division')\n",
    "n1=eval(input('Enter the First No.:'))\n",
    "n2=eval(input('Enter the Second NO.:'))\n",
    "operation=eval(input('Enter the number between 1 to 4'))\n",
    "if operation==1:\n",
    "    print('You choose Addition operation')\n",
    "    print(f'The addition of {n1} and {n2} is {n1+n2}')\n",
    "elif operation==2:\n",
    "    print('You choose Subtraction operation')\n",
    "    print(f'The subtraction of {n1} and {n2} is {n1-n2}')\n",
    "elif operation==3:\n",
    "    print('You choose Multiplication operation')\n",
    "    print(f'The multiplication of {n1} and {n2} is {n1*n2}')\n",
    "elif operation==4:\n",
    "    print('You choose Division operation')\n",
    "    print(f'The division of {n1} and {n2} is {n1/n2}')\n",
    "else:\n",
    "    print('you have entered the invalid number')\n",
    "\n",
    "\n",
    "\n",
    "\n",
    "\n"
   ]
  },
  {
   "cell_type": "code",
   "execution_count": 1,
   "id": "a8ec080e-565f-4ed5-9adb-4c60cdcd8cfd",
   "metadata": {},
   "outputs": [
    {
     "data": {
      "text/plain": [
       "56.557377049180324"
      ]
     },
     "execution_count": 1,
     "metadata": {},
     "output_type": "execute_result"
    }
   ],
   "source": [
    "138/244*100"
   ]
  },
  {
   "cell_type": "markdown",
   "id": "b081ec91-46b5-4aff-90b0-bef0f1495524",
   "metadata": {},
   "source": [
    "**nested if else**"
   ]
  },
  {
   "cell_type": "code",
   "execution_count": 9,
   "id": "9ede9a3a-3155-4a81-87e4-fd2af6360e50",
   "metadata": {},
   "outputs": [
    {
     "name": "stdin",
     "output_type": "stream",
     "text": [
      "Enter a number: 0\n"
     ]
    },
    {
     "name": "stdout",
     "output_type": "stream",
     "text": [
      "It is a Zero\n"
     ]
    }
   ],
   "source": [
    "num=eval(input('Enter a number:'))\n",
    "if num>0:\n",
    "    print(f'The given {num} is positive number')\n",
    "elif num<0:\n",
    "    print(f'The given {num} is negative number')\n",
    "else:\n",
    "    print('It is a Zero')"
   ]
  },
  {
   "cell_type": "code",
   "execution_count": 13,
   "id": "230b1b72-b4c4-4673-bffd-b45dfc6c4035",
   "metadata": {},
   "outputs": [
    {
     "name": "stdin",
     "output_type": "stream",
     "text": [
      "Enter a number: -25\n"
     ]
    },
    {
     "name": "stdout",
     "output_type": "stream",
     "text": [
      "The given -25 is Negative number\n"
     ]
    }
   ],
   "source": [
    "num=eval(input('Enter a number:'))\n",
    "if num>=0:\n",
    "    if num==0:\n",
    "        print('It is a Zero')\n",
    "    else:\n",
    "        print(f'The given {num} is positive number')\n",
    "else:\n",
    "    print(f'The given {num} is Negative number')"
   ]
  },
  {
   "cell_type": "code",
   "execution_count": 16,
   "id": "56b37331-3eb7-4b78-af80-dd523c1286f7",
   "metadata": {},
   "outputs": [
    {
     "name": "stdin",
     "output_type": "stream",
     "text": [
      "Enter a gender: male\n",
      "Enter the age: 45\n"
     ]
    },
    {
     "name": "stdout",
     "output_type": "stream",
     "text": [
      "Middle aged man\n"
     ]
    }
   ],
   "source": [
    "gender=input('Enter a gender:')\n",
    "if gender=='male':\n",
    "    age=eval(input('Enter the age:'))\n",
    "    if age>=60:\n",
    "        print('SC')\n",
    "    elif age>=30:\n",
    "        print('Middle aged man')\n",
    "    elif age>=10:\n",
    "        print('young man')\n",
    "    else:\n",
    "        print('boy')\n",
    "elif gender=='female':\n",
    "    age=eval(input('enter a age:'))\n",
    "    if age>=60:\n",
    "        print('SC')\n",
    "    elif age>=30:\n",
    "        print('Middle aged woman')\n",
    "    elif age>=10:\n",
    "        print('young girl')\n",
    "else:\n",
    "    print('enter a valid gender')"
   ]
  },
  {
   "cell_type": "code",
   "execution_count": 17,
   "id": "946c2a85-40c6-402b-8796-4fed8500a863",
   "metadata": {},
   "outputs": [
    {
     "name": "stdin",
     "output_type": "stream",
     "text": [
      "Enter a gender: male\n",
      "Enter the age: 45\n"
     ]
    },
    {
     "name": "stdout",
     "output_type": "stream",
     "text": [
      "Middle aged man\n"
     ]
    }
   ],
   "source": [
    "gender=input('Enter a gender:')\n",
    "if gender=='male':\n",
    "    age=eval(input('Enter the age:'))\n",
    "    if age>=60:print('SC')\n",
    "    elif age>=30:print('Middle aged man')\n",
    "    elif age>=10:print('young man')\n",
    "    else:print('boy')\n",
    "elif gender=='female':\n",
    "    age=eval(input('enter a age:'))\n",
    "    if age>=60:print('SC')\n",
    "    elif age>=30:print('Middle aged woman')\n",
    "    elif age>=10:print('young girl')\n",
    "else:print('enter a valid gender')"
   ]
  },
  {
   "cell_type": "code",
   "execution_count": 20,
   "id": "845f434b-7960-4572-b7ab-3ead1613dea6",
   "metadata": {},
   "outputs": [
    {
     "name": "stdin",
     "output_type": "stream",
     "text": [
      "Enter the first no 1\n",
      "Enter the second no.: 2\n",
      "Enter the third no.: 3\n"
     ]
    },
    {
     "name": "stdout",
     "output_type": "stream",
     "text": [
      "3 is Graeter number\n"
     ]
    }
   ],
   "source": [
    "n1=eval(input('Enter the first no'))\n",
    "n2=eval(input('Enter the second no.:'))\n",
    "n3=eval(input('Enter the third no.:'))\n",
    "if n1>n2 and n1>n3:\n",
    "    print(f'{n1} is Graeter number')\n",
    "elif n2>n3:\n",
    "    print(f'{n2} is Greater number')\n",
    "else:\n",
    "    print(f'{n3} is Graeter number')\n",
    "    \n",
    "    "
   ]
  },
  {
   "cell_type": "code",
   "execution_count": null,
   "id": "2bfa293d-abfb-4e5d-b91e-5d2b32148abf",
   "metadata": {},
   "outputs": [],
   "source": [
    "n1=eval(input('Enter a first number:'))\n",
    "n2=eval(input('Enter a second number:'))\n",
    "n3=eval(input('Enter a thrid number:'))\n",
    "if n1>n2:\n",
    "    if n1>n3:\n",
    "        print('{} is a')\n",
    "        "
   ]
  },
  {
   "cell_type": "code",
   "execution_count": null,
   "id": "695cfa3f-fde9-4498-a02a-876e0af57b61",
   "metadata": {},
   "outputs": [],
   "source": []
  }
 ],
 "metadata": {
  "kernelspec": {
   "display_name": "Python 3 (ipykernel)",
   "language": "python",
   "name": "python3"
  },
  "language_info": {
   "codemirror_mode": {
    "name": "ipython",
    "version": 3
   },
   "file_extension": ".py",
   "mimetype": "text/x-python",
   "name": "python",
   "nbconvert_exporter": "python",
   "pygments_lexer": "ipython3",
   "version": "3.12.4"
  }
 },
 "nbformat": 4,
 "nbformat_minor": 5
}
