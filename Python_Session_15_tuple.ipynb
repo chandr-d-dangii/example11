{
 "cells": [
  {
   "cell_type": "markdown",
   "id": "3ce832e9-a552-479b-a1aa-d9e991b713e2",
   "metadata": {},
   "source": [
    "**tuple**"
   ]
  },
  {
   "cell_type": "markdown",
   "id": "85dd8445-d36a-4390-8100-3f2e0d4cfb2e",
   "metadata": {},
   "source": [
    "- tuple is one of the pre-defined class and treated as list data type\n",
    "\n",
    "- The purpose of tuple data type is that **to store multiple values either of the same type or different type or both the type in single object with unqiue and duplicates**\n",
    "\n",
    "- In otherwords tuple always used for maintaining constant values (Fixed).\n",
    "\n",
    "- To store the data in tuple object , the data must be enclosed within braces().\n",
    "\n",
    "- SYNTAX : varname = (val1,val2,.......,valn)\n",
    "\n",
    "- An object of tuple maintains insertion order ( In whichever order, we insert the data, in the same order elements will displayed).\n",
    "\n",
    "- On the object of tuple , we can perform both **Indexing & Slicing operation**.\n",
    "\n",
    "- An object of tuple belongs to **IMMUTABLE** because tuple object does not supports item assignment .\n",
    "\n",
    "- In Python Programming , we can create two types of tuple . They are :\n",
    "\n",
    "            - Empty tuple\n",
    "\n",
    "            - Non-Empty tuple"
   ]
  },
  {
   "cell_type": "markdown",
   "id": "72490ba1-4ef8-4999-8b77-3498539abf99",
   "metadata": {},
   "source": [
    "**Empty tuple**"
   ]
  },
  {
   "cell_type": "markdown",
   "id": "a1d920b9-e9c8-4434-b262-d6d4d21f62e1",
   "metadata": {},
   "source": [
    "- An empty tuple is one, which does not contain any elements and whose length is 0. \n",
    "\n",
    "- SYNTAX :  varname=()\n",
    "\n",
    "            (OR)\n",
    "\n",
    "            varname=tuple()"
   ]
  },
  {
   "cell_type": "markdown",
   "id": "a3124120-6c5b-446a-b7a0-794b8a66f153",
   "metadata": {},
   "source": [
    "**Non-Empty tuple**"
   ]
  },
  {
   "cell_type": "markdown",
   "id": "6a765bd5-be09-457b-8461-416d64ef7be5",
   "metadata": {},
   "source": [
    "- A non-empty tuple is one, which contains elements and whose length is graeter than 0.\n",
    "\n",
    "- SYNTAX : varname = (val1,val2,....,valn)\n",
    "\n",
    "                (OR)\n",
    "\n",
    "            varname = tuple(object)\n",
    "\n",
    "                (OR)\n",
    "\n",
    "            varname = val1,val2,......,valn"
   ]
  },
  {
   "cell_type": "markdown",
   "id": "a32bc70a-4718-44b9-b307-6db11c9323dc",
   "metadata": {},
   "source": [
    "**Example**"
   ]
  },
  {
   "cell_type": "code",
   "execution_count": 3,
   "id": "5d70f9d6-b999-45c9-bf45-7c988efbec9c",
   "metadata": {},
   "outputs": [
    {
     "name": "stdout",
     "output_type": "stream",
     "text": [
      "(10, 20, 10, 40, 10, 50)\n"
     ]
    }
   ],
   "source": [
    "t1=(10,20,10,40,10,50)\n",
    "print(t1)"
   ]
  },
  {
   "cell_type": "code",
   "execution_count": 4,
   "id": "bd9e1c13-dafe-41dd-86fb-86e84ba7fdbd",
   "metadata": {},
   "outputs": [
    {
     "data": {
      "text/plain": [
       "tuple"
      ]
     },
     "execution_count": 4,
     "metadata": {},
     "output_type": "execute_result"
    }
   ],
   "source": [
    "type(t1)"
   ]
  },
  {
   "cell_type": "code",
   "execution_count": 5,
   "id": "2b6ac55d-629d-437b-96dc-4ebab5a12b30",
   "metadata": {},
   "outputs": [
    {
     "name": "stdout",
     "output_type": "stream",
     "text": [
      "(10, 'RS', True, (2+3j))\n"
     ]
    }
   ],
   "source": [
    "t2=(10,'RS',True,2+3j)\n",
    "print(t2)"
   ]
  },
  {
   "cell_type": "code",
   "execution_count": 6,
   "id": "731be558-5f2f-457b-a696-726bbdd6c3c4",
   "metadata": {},
   "outputs": [
    {
     "name": "stdout",
     "output_type": "stream",
     "text": [
      "(10, 'ROSSUM', 44.44, 'NL')\n"
     ]
    }
   ],
   "source": [
    "t3 = 10,'ROSSUM',44.44,'NL'\n",
    "print(t3)"
   ]
  },
  {
   "cell_type": "code",
   "execution_count": 7,
   "id": "517792d7-c208-4b2e-aef5-d3477f6a7547",
   "metadata": {},
   "outputs": [
    {
     "data": {
      "text/plain": [
       "tuple"
      ]
     },
     "execution_count": 7,
     "metadata": {},
     "output_type": "execute_result"
    }
   ],
   "source": [
    "type(t3)"
   ]
  },
  {
   "cell_type": "markdown",
   "id": "95d09f1e-99d3-474f-be30-a878e560a0b3",
   "metadata": {},
   "source": [
    "**NOTE**"
   ]
  },
  {
   "cell_type": "markdown",
   "id": "e62f1f3f-44a1-4f28-a50c-cde7505299a9",
   "metadata": {},
   "source": [
    "- The functionality is exactly similar to list but an object of list belongs to **MUTABLE** where an object tuple belongs to **IMMUTABLE**"
   ]
  },
  {
   "cell_type": "markdown",
   "id": "69b9d0ab-6a7c-483b-9e65-beee2eb1d4da",
   "metadata": {},
   "source": [
    "**len**"
   ]
  },
  {
   "cell_type": "code",
   "execution_count": 8,
   "id": "adedf710-5271-467f-9c5e-73f087607ddd",
   "metadata": {},
   "outputs": [
    {
     "data": {
      "text/plain": [
       "6"
      ]
     },
     "execution_count": 8,
     "metadata": {},
     "output_type": "execute_result"
    }
   ],
   "source": [
    "t4=(10,20,10,40,10,50)\n",
    "len(t4)"
   ]
  },
  {
   "cell_type": "code",
   "execution_count": 9,
   "id": "eb1cdbea-1670-418b-970d-aaf30121f78b",
   "metadata": {},
   "outputs": [
    {
     "data": {
      "text/plain": [
       "4"
      ]
     },
     "execution_count": 9,
     "metadata": {},
     "output_type": "execute_result"
    }
   ],
   "source": [
    "t5=(10,'RS',True,2+3j)\n",
    "len(t5)"
   ]
  },
  {
   "cell_type": "markdown",
   "id": "71ea0bd4-0f42-4774-be1a-49ce84e0f852",
   "metadata": {},
   "source": [
    "**max**"
   ]
  },
  {
   "cell_type": "code",
   "execution_count": 10,
   "id": "ba302c39-1694-4d58-9500-0ba9565ac21e",
   "metadata": {},
   "outputs": [
    {
     "data": {
      "text/plain": [
       "50"
      ]
     },
     "execution_count": 10,
     "metadata": {},
     "output_type": "execute_result"
    }
   ],
   "source": [
    "max(t4)"
   ]
  },
  {
   "cell_type": "code",
   "execution_count": 11,
   "id": "f398384c-94a2-4445-aac2-56f9bc10d7dc",
   "metadata": {},
   "outputs": [
    {
     "ename": "TypeError",
     "evalue": "'>' not supported between instances of 'str' and 'int'",
     "output_type": "error",
     "traceback": [
      "\u001b[1;31m---------------------------------------------------------------------------\u001b[0m",
      "\u001b[1;31mTypeError\u001b[0m                                 Traceback (most recent call last)",
      "Cell \u001b[1;32mIn[11], line 1\u001b[0m\n\u001b[1;32m----> 1\u001b[0m \u001b[38;5;28mmax\u001b[39m(t5)\n",
      "\u001b[1;31mTypeError\u001b[0m: '>' not supported between instances of 'str' and 'int'"
     ]
    }
   ],
   "source": [
    "t5=(10,'RS',True,2+3j)\n",
    "max(t5)    # max() is '>' not supported between instances of 'str' and 'int'"
   ]
  },
  {
   "cell_type": "markdown",
   "id": "30044f22-66d3-498b-8908-f6a0307955c8",
   "metadata": {},
   "source": [
    "**min**"
   ]
  },
  {
   "cell_type": "code",
   "execution_count": 12,
   "id": "6df760bb-250a-46a3-8091-484708e6c2d2",
   "metadata": {},
   "outputs": [
    {
     "data": {
      "text/plain": [
       "10"
      ]
     },
     "execution_count": 12,
     "metadata": {},
     "output_type": "execute_result"
    }
   ],
   "source": [
    "t4=(10,20,10,40,10,50)\n",
    "min(t4)"
   ]
  },
  {
   "cell_type": "code",
   "execution_count": 14,
   "id": "f3ff92fc-453f-4b50-9255-32bfc9a81738",
   "metadata": {},
   "outputs": [
    {
     "ename": "TypeError",
     "evalue": "'<' not supported between instances of 'str' and 'int'",
     "output_type": "error",
     "traceback": [
      "\u001b[1;31m---------------------------------------------------------------------------\u001b[0m",
      "\u001b[1;31mTypeError\u001b[0m                                 Traceback (most recent call last)",
      "Cell \u001b[1;32mIn[14], line 2\u001b[0m\n\u001b[0;32m      1\u001b[0m t5\u001b[38;5;241m=\u001b[39m(\u001b[38;5;241m10\u001b[39m,\u001b[38;5;124m'\u001b[39m\u001b[38;5;124mRS\u001b[39m\u001b[38;5;124m'\u001b[39m,\u001b[38;5;28;01mTrue\u001b[39;00m,\u001b[38;5;241m2\u001b[39m\u001b[38;5;241m+\u001b[39m\u001b[38;5;241m3\u001b[39mj)\n\u001b[1;32m----> 2\u001b[0m \u001b[38;5;28mmin\u001b[39m(t5)\n",
      "\u001b[1;31mTypeError\u001b[0m: '<' not supported between instances of 'str' and 'int'"
     ]
    }
   ],
   "source": [
    "t5=(10,'RS',True,2+3j)\n",
    "min(t5)    # min() is '<' not supported between instances of 'str' and 'int'"
   ]
  },
  {
   "cell_type": "markdown",
   "id": "5a604349-0d3b-44f4-9a89-72a48e38559f",
   "metadata": {},
   "source": [
    "**reversed**"
   ]
  },
  {
   "cell_type": "code",
   "execution_count": 18,
   "id": "d0d2b341-27c0-448e-9d24-c8628fcbd196",
   "metadata": {},
   "outputs": [],
   "source": [
    "t4=(10,20,10,40,10,50)\n",
    "ans=reversed(t4)"
   ]
  },
  {
   "cell_type": "code",
   "execution_count": 17,
   "id": "25509d7d-0d29-4243-9710-6454508aea38",
   "metadata": {},
   "outputs": [
    {
     "data": {
      "text/plain": [
       "[50, 10, 40, 10, 20, 10]"
      ]
     },
     "execution_count": 17,
     "metadata": {},
     "output_type": "execute_result"
    }
   ],
   "source": [
    "ans=reversed(t4)\n",
    "list(ans)"
   ]
  },
  {
   "cell_type": "code",
   "execution_count": 20,
   "id": "3fd29713-e9a2-40b1-877f-9cde08eca28a",
   "metadata": {},
   "outputs": [
    {
     "data": {
      "text/plain": [
       "[(2+3j), True, 'RS', 10]"
      ]
     },
     "execution_count": 20,
     "metadata": {},
     "output_type": "execute_result"
    }
   ],
   "source": [
    "t5=(10,'RS',True,2+3j)\n",
    "ans1=reversed(t5)\n",
    "list(ans1)"
   ]
  },
  {
   "cell_type": "markdown",
   "id": "4c459128-d493-4752-82f3-c7d8807be9c5",
   "metadata": {},
   "source": [
    "**sorted**"
   ]
  },
  {
   "cell_type": "markdown",
   "id": "88cc5906-7158-41d9-8306-1c9e499685bc",
   "metadata": {},
   "source": [
    "- this function is used for sorting the data of immutable object tuple and gives the sorted data in the form of list"
   ]
  },
  {
   "cell_type": "code",
   "execution_count": 21,
   "id": "840da02c-ca7c-4786-857f-f9ae4d892ed5",
   "metadata": {},
   "outputs": [
    {
     "data": {
      "text/plain": [
       "[10, 10, 10, 20, 40, 50]"
      ]
     },
     "execution_count": 21,
     "metadata": {},
     "output_type": "execute_result"
    }
   ],
   "source": [
    "t4=(10,20,10,40,10,50)\n",
    "sorted(t4)"
   ]
  },
  {
   "cell_type": "markdown",
   "id": "0aca2d31-79f9-4c2e-8ad5-1c7232919acb",
   "metadata": {},
   "source": [
    "**Index operation**"
   ]
  },
  {
   "cell_type": "code",
   "execution_count": null,
   "id": "ad3dfdd1-4039-4192-b19e-d6a9d89ea942",
   "metadata": {},
   "outputs": [],
   "source": [
    "t4=(10,20,10,40,10,50)"
   ]
  },
  {
   "cell_type": "code",
   "execution_count": 22,
   "id": "19d35252-f85d-4b91-ae8d-4f5e9c98c769",
   "metadata": {},
   "outputs": [
    {
     "data": {
      "text/plain": [
       "10"
      ]
     },
     "execution_count": 22,
     "metadata": {},
     "output_type": "execute_result"
    }
   ],
   "source": [
    "t4[0]"
   ]
  },
  {
   "cell_type": "code",
   "execution_count": 23,
   "id": "8ca807d9-3cc5-4dc2-8956-801e820f1c03",
   "metadata": {},
   "outputs": [
    {
     "data": {
      "text/plain": [
       "10"
      ]
     },
     "execution_count": 23,
     "metadata": {},
     "output_type": "execute_result"
    }
   ],
   "source": [
    "t4[2]"
   ]
  },
  {
   "cell_type": "markdown",
   "id": "bada4bd7-38ba-4512-b7fa-d7b20348c77a",
   "metadata": {},
   "source": [
    "**concatenation**"
   ]
  },
  {
   "cell_type": "code",
   "execution_count": 25,
   "id": "0e0e1213-5a80-48ab-80fe-572db71bff03",
   "metadata": {},
   "outputs": [],
   "source": [
    "t6=(10,20,45,78,95,52)\n",
    "t7=(45,55,68,35)"
   ]
  },
  {
   "cell_type": "code",
   "execution_count": 26,
   "id": "fe5f5bc8-93ad-4544-8b22-51e2d55e3964",
   "metadata": {},
   "outputs": [
    {
     "data": {
      "text/plain": [
       "(10, 20, 45, 78, 95, 52, 45, 55, 68, 35)"
      ]
     },
     "execution_count": 26,
     "metadata": {},
     "output_type": "execute_result"
    }
   ],
   "source": [
    "t6+t7"
   ]
  },
  {
   "cell_type": "code",
   "execution_count": 27,
   "id": "948811c9-2798-473e-8bee-1d4459e40dcd",
   "metadata": {},
   "outputs": [
    {
     "ename": "TypeError",
     "evalue": "unsupported operand type(s) for -: 'tuple' and 'tuple'",
     "output_type": "error",
     "traceback": [
      "\u001b[1;31m---------------------------------------------------------------------------\u001b[0m",
      "\u001b[1;31mTypeError\u001b[0m                                 Traceback (most recent call last)",
      "Cell \u001b[1;32mIn[27], line 1\u001b[0m\n\u001b[1;32m----> 1\u001b[0m t6\u001b[38;5;241m-\u001b[39mt7\n",
      "\u001b[1;31mTypeError\u001b[0m: unsupported operand type(s) for -: 'tuple' and 'tuple'"
     ]
    }
   ],
   "source": [
    "t6-t7   #unsupported operand type(s) for -: 'tuple' and 'tuple'"
   ]
  },
  {
   "cell_type": "code",
   "execution_count": 28,
   "id": "9fa14734-872b-4312-b9e7-5dc5cb9e5784",
   "metadata": {},
   "outputs": [
    {
     "ename": "TypeError",
     "evalue": "unsupported operand type(s) for /: 'tuple' and 'tuple'",
     "output_type": "error",
     "traceback": [
      "\u001b[1;31m---------------------------------------------------------------------------\u001b[0m",
      "\u001b[1;31mTypeError\u001b[0m                                 Traceback (most recent call last)",
      "Cell \u001b[1;32mIn[28], line 1\u001b[0m\n\u001b[1;32m----> 1\u001b[0m t6\u001b[38;5;241m/\u001b[39mt7\n",
      "\u001b[1;31mTypeError\u001b[0m: unsupported operand type(s) for /: 'tuple' and 'tuple'"
     ]
    }
   ],
   "source": [
    "t6/t7    #unsupported operand type(s) for /: 'tuple' and 'tuple'       "
   ]
  },
  {
   "cell_type": "code",
   "execution_count": 32,
   "id": "d4400547-5030-4c8b-a8d1-e888768266aa",
   "metadata": {},
   "outputs": [
    {
     "ename": "TypeError",
     "evalue": "can't multiply sequence by non-int of type 'tuple'",
     "output_type": "error",
     "traceback": [
      "\u001b[1;31m---------------------------------------------------------------------------\u001b[0m",
      "\u001b[1;31mTypeError\u001b[0m                                 Traceback (most recent call last)",
      "Cell \u001b[1;32mIn[32], line 1\u001b[0m\n\u001b[1;32m----> 1\u001b[0m t6\u001b[38;5;241m*\u001b[39mt7\n",
      "\u001b[1;31mTypeError\u001b[0m: can't multiply sequence by non-int of type 'tuple'"
     ]
    }
   ],
   "source": [
    "t6*t7     \n",
    "# can't multiply sequence by non-int of type 'tuple' but it can possible when you can multiply sequence by non-int of type 'tuple' "
   ]
  },
  {
   "cell_type": "code",
   "execution_count": 30,
   "id": "c4b8da1f-3c1e-4ace-a0b9-9355621640b9",
   "metadata": {},
   "outputs": [
    {
     "data": {
      "text/plain": [
       "(10, 20, 45, 78, 95, 52, 10, 20, 45, 78, 95, 52)"
      ]
     },
     "execution_count": 30,
     "metadata": {},
     "output_type": "execute_result"
    }
   ],
   "source": [
    "t6*2"
   ]
  },
  {
   "cell_type": "markdown",
   "id": "f3c7b914-b058-4806-b90c-ffd2b4bdffeb",
   "metadata": {},
   "source": [
    "**Slicing**"
   ]
  },
  {
   "cell_type": "code",
   "execution_count": 33,
   "id": "2651d4e2-baad-4e40-9912-34f3df77658c",
   "metadata": {},
   "outputs": [],
   "source": [
    "t6=(10,20,45,78,95,52)"
   ]
  },
  {
   "cell_type": "code",
   "execution_count": 34,
   "id": "3a6ec161-d63f-4708-972a-8568ae7fa351",
   "metadata": {},
   "outputs": [
    {
     "data": {
      "text/plain": [
       "(10, 20, 45, 78, 95, 52)"
      ]
     },
     "execution_count": 34,
     "metadata": {},
     "output_type": "execute_result"
    }
   ],
   "source": [
    "t6[:]"
   ]
  },
  {
   "cell_type": "code",
   "execution_count": 36,
   "id": "a57556f1-5403-46c4-ae93-cc9628805029",
   "metadata": {},
   "outputs": [
    {
     "data": {
      "text/plain": [
       "(10, 20, 45, 78, 95, 52)"
      ]
     },
     "execution_count": 36,
     "metadata": {},
     "output_type": "execute_result"
    }
   ],
   "source": [
    "t6[0:]"
   ]
  },
  {
   "cell_type": "code",
   "execution_count": 37,
   "id": "a7360a2a-39de-4650-ac27-fb562f1e5ad9",
   "metadata": {},
   "outputs": [
    {
     "data": {
      "text/plain": [
       "(20, 45, 78)"
      ]
     },
     "execution_count": 37,
     "metadata": {},
     "output_type": "execute_result"
    }
   ],
   "source": [
    "t6[1:4]"
   ]
  },
  {
   "cell_type": "code",
   "execution_count": 38,
   "id": "4bd0b361-adfb-4cc4-8a19-ffb501419466",
   "metadata": {},
   "outputs": [
    {
     "data": {
      "text/plain": [
       "(45, 95)"
      ]
     },
     "execution_count": 38,
     "metadata": {},
     "output_type": "execute_result"
    }
   ],
   "source": [
    "t6[2:5:2]"
   ]
  },
  {
   "cell_type": "code",
   "execution_count": 39,
   "id": "17c9b4b4-1616-4f13-a5c2-61c543a44e23",
   "metadata": {},
   "outputs": [
    {
     "data": {
      "text/plain": [
       "()"
      ]
     },
     "execution_count": 39,
     "metadata": {},
     "output_type": "execute_result"
    }
   ],
   "source": [
    "t6[0:-4:-2]"
   ]
  },
  {
   "cell_type": "code",
   "execution_count": 35,
   "id": "44c8618b-afa4-437a-975e-fe421d36857f",
   "metadata": {},
   "outputs": [
    {
     "data": {
      "text/plain": [
       "(52, 95, 78, 45, 20, 10)"
      ]
     },
     "execution_count": 35,
     "metadata": {},
     "output_type": "execute_result"
    }
   ],
   "source": [
    "t6[::-1]"
   ]
  },
  {
   "cell_type": "markdown",
   "id": "57b32ee2-ea37-472a-823d-3e6d351d4c01",
   "metadata": {},
   "source": [
    "**tuple method**"
   ]
  },
  {
   "cell_type": "code",
   "execution_count": 46,
   "id": "7c9a95db-1497-49d9-80a1-969c461c5b6d",
   "metadata": {},
   "outputs": [],
   "source": [
    "tup=(10,25,45,85,75,95,82,74,45,65,78)"
   ]
  },
  {
   "cell_type": "markdown",
   "id": "3ec6829b-53f3-494d-9a5d-f338d88fefc1",
   "metadata": {},
   "source": [
    "**count**"
   ]
  },
  {
   "cell_type": "code",
   "execution_count": 43,
   "id": "a0284208-9ed0-4580-add6-8b167e963c36",
   "metadata": {},
   "outputs": [
    {
     "data": {
      "text/plain": [
       "1"
      ]
     },
     "execution_count": 43,
     "metadata": {},
     "output_type": "execute_result"
    }
   ],
   "source": [
    "tup.count(75)"
   ]
  },
  {
   "cell_type": "code",
   "execution_count": 48,
   "id": "6d460796-a854-453e-87d5-ae35b2f2bb32",
   "metadata": {},
   "outputs": [
    {
     "data": {
      "text/plain": [
       "2"
      ]
     },
     "execution_count": 48,
     "metadata": {},
     "output_type": "execute_result"
    }
   ],
   "source": [
    "tup.count(45)"
   ]
  },
  {
   "cell_type": "markdown",
   "id": "0e405c5b-3659-4091-888c-b53668106703",
   "metadata": {},
   "source": [
    "**index**"
   ]
  },
  {
   "cell_type": "code",
   "execution_count": 49,
   "id": "5d67f858-40cd-4cb5-ac2c-ee7b82a7eaa6",
   "metadata": {},
   "outputs": [
    {
     "data": {
      "text/plain": [
       "2"
      ]
     },
     "execution_count": 49,
     "metadata": {},
     "output_type": "execute_result"
    }
   ],
   "source": [
    "tup=(10,25,45,85,25,75,95,82,74,25,45,65,78)\n",
    "i1=tup.index(45)"
   ]
  },
  {
   "cell_type": "code",
   "execution_count": 53,
   "id": "208b02d6-2b10-4278-92d3-4eaf4cbc10d4",
   "metadata": {},
   "outputs": [
    {
     "data": {
      "text/plain": [
       "(2, 8)"
      ]
     },
     "execution_count": 53,
     "metadata": {},
     "output_type": "execute_result"
    }
   ],
   "source": [
    "i1=tup.index(45)\n",
    "i2=tup.index(45,i1+1)\n",
    "i1,i2"
   ]
  },
  {
   "cell_type": "code",
   "execution_count": 62,
   "id": "2f238c93-c286-4e32-802f-7766ab86ed1a",
   "metadata": {},
   "outputs": [
    {
     "data": {
      "text/plain": [
       "(1, 4, 9)"
      ]
     },
     "execution_count": 62,
     "metadata": {},
     "output_type": "execute_result"
    }
   ],
   "source": [
    "tup=(10,25,45,85,25,75,95,82,74,25,45,65,78)\n",
    "i3=tup.index(25)\n",
    "i4=tup.index(25,i3+1)\n",
    "i5=tup.index(25,i4+1)\n",
    "i3,i4,i5"
   ]
  },
  {
   "cell_type": "code",
   "execution_count": null,
   "id": "11928eaa-f21d-4a69-96d2-88d536e4103f",
   "metadata": {},
   "outputs": [],
   "source": []
  }
 ],
 "metadata": {
  "kernelspec": {
   "display_name": "Python 3 (ipykernel)",
   "language": "python",
   "name": "python3"
  },
  "language_info": {
   "codemirror_mode": {
    "name": "ipython",
    "version": 3
   },
   "file_extension": ".py",
   "mimetype": "text/x-python",
   "name": "python",
   "nbconvert_exporter": "python",
   "pygments_lexer": "ipython3",
   "version": "3.12.4"
  }
 },
 "nbformat": 4,
 "nbformat_minor": 5
}
