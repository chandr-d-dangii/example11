{
 "cells": [
  {
   "cell_type": "markdown",
   "id": "99743fb0-3ae0-4694-a468-baf580e1b602",
   "metadata": {},
   "source": [
    "**Try-Except**\n",
    "\n",
    "- try and exception are two blocks\n",
    "\n",
    "- Original code will write under try block\n",
    "\n",
    "- if any error occurs in original code\n",
    "\n",
    "- it will redirect to except block\n",
    "\n",
    "- try block is the monitor block\n",
    "\n",
    "- try block monitor ecxeption then go to except and not come again to the try block."
   ]
  },
  {
   "cell_type": "code",
   "execution_count": 3,
   "id": "323f4fa9-3708-4ffc-8071-9d8def7a917c",
   "metadata": {},
   "outputs": [
    {
     "name": "stdout",
     "output_type": "stream",
     "text": [
      "10\n",
      "20\n",
      "name 'n22' is not defined\n"
     ]
    }
   ],
   "source": [
    "try:\n",
    "    n1=10\n",
    "    print(n1)\n",
    "    n2=20\n",
    "    print(n2)\n",
    "    add=n1+n22\n",
    "    print(add)\n",
    "except Exception as e:\n",
    "    print(e)"
   ]
  },
  {
   "cell_type": "code",
   "execution_count": null,
   "id": "da55867a-481e-4979-b109-41d57efbcd10",
   "metadata": {},
   "outputs": [],
   "source": [
    "try:\n",
    "    <write your original code here>\n",
    "except:\n",
    "    <catch th error here>"
   ]
  },
  {
   "cell_type": "code",
   "execution_count": null,
   "id": "1eabaab8-b193-412b-a28d-535a8cda2336",
   "metadata": {},
   "outputs": [],
   "source": [
    "try:\n",
    "    <write your code>\n",
    "except Exception as e:\n",
    "    print(e)"
   ]
  },
  {
   "cell_type": "code",
   "execution_count": null,
   "id": "0022a821-1d31-4cf9-a1e6-5ce910506cf2",
   "metadata": {},
   "outputs": [],
   "source": [
    "n1=eval(input('enter a number1:'))\n",
    "n2=eval(input('enter a number2\"'))\n",
    "div=n1/n2\n",
    "print(div)"
   ]
  },
  {
   "cell_type": "code",
   "execution_count": 4,
   "id": "4f36455d-c70d-48ea-a6b7-5ca1108497a1",
   "metadata": {},
   "outputs": [
    {
     "name": "stdin",
     "output_type": "stream",
     "text": [
      "enter a number1: 100\n",
      "enter a number2\" 0\n"
     ]
    },
    {
     "name": "stdout",
     "output_type": "stream",
     "text": [
      "division by zero\n"
     ]
    }
   ],
   "source": [
    "try:\n",
    "    n1=eval(input('enter a number1:'))\n",
    "    n2=eval(input('enter a number2\"'))\n",
    "    div=n1/n2\n",
    "    print(div)\n",
    "except Exception as e:\n",
    "    print(e)"
   ]
  },
  {
   "cell_type": "code",
   "execution_count": 5,
   "id": "ee76c00f-a27d-4dc9-9f8e-ebd981ae79e0",
   "metadata": {},
   "outputs": [
    {
     "name": "stdin",
     "output_type": "stream",
     "text": [
      "enter the number: 45\n"
     ]
    },
    {
     "name": "stdout",
     "output_type": "stream",
     "text": [
      "name 'nummmmm' is not defined\n"
     ]
    }
   ],
   "source": [
    "try:\n",
    "    num=eval(input('enter the number:'))\n",
    "    if nummmmm>=60:\n",
    "        print('A')\n",
    "    elif num>=45:\n",
    "        print('b')\n",
    "except Exception as e:\n",
    "    print(e)"
   ]
  },
  {
   "cell_type": "code",
   "execution_count": 6,
   "id": "f69ee2f0-9297-4cb5-8803-57b1d1200636",
   "metadata": {},
   "outputs": [
    {
     "name": "stdout",
     "output_type": "stream",
     "text": [
      "10\n",
      "20\n"
     ]
    },
    {
     "ename": "NameError",
     "evalue": "name 'n234' is not defined",
     "output_type": "error",
     "traceback": [
      "\u001b[1;31m---------------------------------------------------------------------------\u001b[0m",
      "\u001b[1;31mNameError\u001b[0m                                 Traceback (most recent call last)",
      "Cell \u001b[1;32mIn[6], line 5\u001b[0m\n\u001b[0;32m      3\u001b[0m n2\u001b[38;5;241m=\u001b[39m\u001b[38;5;241m20\u001b[39m\n\u001b[0;32m      4\u001b[0m \u001b[38;5;28mprint\u001b[39m(n2)\n\u001b[1;32m----> 5\u001b[0m n1\u001b[38;5;241m+\u001b[39mn234\n\u001b[0;32m      6\u001b[0m \u001b[38;5;28mprint\u001b[39m(\u001b[38;5;124m'\u001b[39m\u001b[38;5;124mhello\u001b[39m\u001b[38;5;124m'\u001b[39m)\n",
      "\u001b[1;31mNameError\u001b[0m: name 'n234' is not defined"
     ]
    }
   ],
   "source": [
    "n1=10\n",
    "print(n1)\n",
    "n2=20\n",
    "print(n2)\n",
    "n1+n234\n",
    "print('hello')"
   ]
  },
  {
   "cell_type": "code",
   "execution_count": 8,
   "id": "be82072a-04d4-4271-8515-99e4dbfe8ddc",
   "metadata": {},
   "outputs": [
    {
     "name": "stdout",
     "output_type": "stream",
     "text": [
      "10\n",
      "20\n",
      "hello\n",
      "bye\n"
     ]
    }
   ],
   "source": [
    "try:\n",
    "    n1=10\n",
    "    print(n1)\n",
    "    n=20\n",
    "    print(n2)\n",
    "    n1+n2354\n",
    "except Exception as e:\n",
    "    print('hello')\n",
    "print('bye')"
   ]
  },
  {
   "cell_type": "code",
   "execution_count": null,
   "id": "f4be0562-30b9-4fff-8de4-c3a99faf3654",
   "metadata": {},
   "outputs": [],
   "source": []
  }
 ],
 "metadata": {
  "kernelspec": {
   "display_name": "Python 3 (ipykernel)",
   "language": "python",
   "name": "python3"
  },
  "language_info": {
   "codemirror_mode": {
    "name": "ipython",
    "version": 3
   },
   "file_extension": ".py",
   "mimetype": "text/x-python",
   "name": "python",
   "nbconvert_exporter": "python",
   "pygments_lexer": "ipython3",
   "version": "3.12.4"
  }
 },
 "nbformat": 4,
 "nbformat_minor": 5
}
