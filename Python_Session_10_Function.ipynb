{
 "cells": [
  {
   "cell_type": "markdown",
   "id": "9e6e3c0a-70d6-40fc-88f8-58b3f5fae9d9",
   "metadata": {},
   "source": [
    "**Note**\n",
    "\n",
    "- once we create the Function we can use anywhere in the notebook\n",
    "\n",
    "- if you want to use in another notebook\n",
    "\n",
    "- we need to create the package (OOPS concept)"
   ]
  },
  {
   "cell_type": "code",
   "execution_count": 1,
   "id": "087d64da-60c1-4697-91b2-d9370f18ca51",
   "metadata": {},
   "outputs": [
    {
     "name": "stdin",
     "output_type": "stream",
     "text": [
      "Enter the n1: 10\n",
      "Enter the n2: 20\n"
     ]
    },
    {
     "name": "stdout",
     "output_type": "stream",
     "text": [
      "the addition fo 10,20 is 30\n"
     ]
    }
   ],
   "source": [
    "def addition():\n",
    "    n1=eval(input('Enter the n1:'))\n",
    "    n2=eval(input('Enter the n2:'))\n",
    "    add=n1+n2\n",
    "    print(f'the addition fo {n1},{n2} is {add}')\n",
    "addition()\n"
   ]
  },
  {
   "cell_type": "code",
   "execution_count": null,
   "id": "651c341c-aa2e-4362-a300-adef1d933805",
   "metadata": {},
   "outputs": [],
   "source": [
    "def average():\n",
    "    n1=eval(input('Enter the n1:'))\n",
    "    n2=eval(input('Enter the n2:'))\n",
    "    n3=eval(input('Enter the n3:'))\n",
    "    avg=round((n1+n2+n3)/3,2)\n",
    "    print(f'The average of {n1}, {n2} and {n3} is {avg}')\n",
    "\n",
    "average()"
   ]
  },
  {
   "cell_type": "code",
   "execution_count": null,
   "id": "581460d2-856a-411e-9875-afde8dd59da9",
   "metadata": {},
   "outputs": [],
   "source": [
    "b=eval(input('Enter the breadth:'))\n",
    "h=eval(input('Entert the height:'))\n",
    "area=0.5*b*h\n",
    "print('The area of the rectangle is {area}')"
   ]
  },
  {
   "cell_type": "code",
   "execution_count": null,
   "id": "2f4ae0e0-5581-458e-9707-af51b181c7b7",
   "metadata": {},
   "outputs": [],
   "source": [
    "def area_of_triangle():\n",
    "    b=eval(input('Enter the breadth:'))\n",
    "    h=eval(input('Entert the height:'))\n",
    "    area=0.5*b*h\n",
    "    print('The area of the triangle is {area}')\n",
    "\n",
    "area_of_triangle()"
   ]
  },
  {
   "cell_type": "code",
   "execution_count": null,
   "id": "e49bc4a9-5fea-4718-9cc5-ef1841b86de2",
   "metadata": {},
   "outputs": [],
   "source": [
    "r=eval(input('Enter the radius :'))\n",
    "pi=3.14\n",
    "area=pi*r*r\n",
    "print(f'The area of the circle is {area}')"
   ]
  },
  {
   "cell_type": "code",
   "execution_count": null,
   "id": "40e5ba1c-05c2-4a40-9054-f86ee9b6ff40",
   "metadata": {},
   "outputs": [],
   "source": [
    "def circle():\n",
    "    r=eval(input('Enter the radius :'))\n",
    "    pi=3.14\n",
    "    area=pi*r*r\n",
    "    print(f'The area of the circle is {area}')\n",
    "\n",
    "circle()"
   ]
  },
  {
   "cell_type": "code",
   "execution_count": null,
   "id": "2aa41448-408b-457b-8cd5-07671104ddd4",
   "metadata": {},
   "outputs": [],
   "source": [
    "bill=eal(input('Enter the bill amount:'))\n",
    "tip=eval(input('Enter the tip amount:'))\n",
    "total_amount=bill+tip\n",
    "print(f'The total amount is {total_amount}')"
   ]
  },
  {
   "cell_type": "code",
   "execution_count": null,
   "id": "595d7e47-9fff-4d47-9573-97818dd17454",
   "metadata": {},
   "outputs": [],
   "source": [
    "def bill_amount():\n",
    "    bill=eal(input('Enter the bill amount:'))\n",
    "    tip=eval(input('Enter the tip amount:'))\n",
    "    total_amount=bill+tip\n",
    "    print(f'The total amount is {total_amount}')\n",
    "\n",
    "bill_amount()"
   ]
  },
  {
   "cell_type": "code",
   "execution_count": null,
   "id": "1ed82c83-e207-4e28-843c-6602874c2a1f",
   "metadata": {},
   "outputs": [],
   "source": [
    "bill_amount=eal(input('Enter the bill amount:'))\n",
    "tip_per=eval(input('Enter the tip percentage:'))\n",
    "total_amount=(bill_amount*tip_per)/100+bill_amount\n",
    "print(f'The total amount is {total_amount}')"
   ]
  },
  {
   "cell_type": "code",
   "execution_count": null,
   "id": "bc058510-9188-47da-8129-5a93dfc0f3dc",
   "metadata": {},
   "outputs": [],
   "source": [
    "def bill():\n",
    "    bill_amount=eal(input('Enter the bill amount:'))\n",
    "    tip_per=eval(input('Enter the tip percentage:'))\n",
    "    total_amount=(bill_amount*tip_per)/100+bill_amount\n",
    "    print(f'The total amount is {total_amount}')\n",
    "\n",
    "bill()"
   ]
  },
  {
   "cell_type": "markdown",
   "id": "7505bc01-81e0-40dd-b448-ed0ac3b20277",
   "metadata": {},
   "source": [
    "**Note**\n",
    "\n",
    "- variable name should not equal to function names"
   ]
  },
  {
   "cell_type": "code",
   "execution_count": 11,
   "id": "7c51c292-7b8d-4b86-bd9d-47dea846ccfe",
   "metadata": {},
   "outputs": [
    {
     "name": "stdin",
     "output_type": "stream",
     "text": [
      "Enter the n1: 10\n",
      "Enter the n2: 20\n",
      "Enter the n3: 30\n"
     ]
    },
    {
     "name": "stdout",
     "output_type": "stream",
     "text": [
      "name 'n3324' is not defined\n"
     ]
    }
   ],
   "source": [
    "def AVERAGE():\n",
    "    try:\n",
    "        n1=eval(input('Enter the n1:'))\n",
    "        n2=eval(input('Enter the n2:'))\n",
    "        n3=eval(input('Enter the n3:'))\n",
    "        avg=round((n1+n2+n3324)/3,2)\n",
    "        print(f'The average of {n1}, {n2} and {n3} is {avg}')\n",
    "\n",
    "    except Exception as e:\n",
    "        print(e)\n",
    "\n",
    "AVERAGE()"
   ]
  },
  {
   "cell_type": "code",
   "execution_count": 10,
   "id": "b5e39dbb-6ca7-4583-9ec2-567d5097acad",
   "metadata": {},
   "outputs": [
    {
     "name": "stdin",
     "output_type": "stream",
     "text": [
      "Enter the n1: 10\n",
      "Enter the n2: 20\n",
      "Enter the n3: 30\n"
     ]
    },
    {
     "ename": "NameError",
     "evalue": "name 'n324' is not defined",
     "output_type": "error",
     "traceback": [
      "\u001b[1;31m---------------------------------------------------------------------------\u001b[0m",
      "\u001b[1;31mNameError\u001b[0m                                 Traceback (most recent call last)",
      "Cell \u001b[1;32mIn[10], line 10\u001b[0m\n\u001b[0;32m      8\u001b[0m \u001b[38;5;28;01mexcept\u001b[39;00m \u001b[38;5;167;01mException\u001b[39;00m \u001b[38;5;28;01mas\u001b[39;00m e:\n\u001b[0;32m      9\u001b[0m     \u001b[38;5;28mprint\u001b[39m(e)\n\u001b[1;32m---> 10\u001b[0m average()\n",
      "Cell \u001b[1;32mIn[10], line 6\u001b[0m, in \u001b[0;36maverage\u001b[1;34m()\u001b[0m\n\u001b[0;32m      4\u001b[0m n2\u001b[38;5;241m=\u001b[39m\u001b[38;5;28meval\u001b[39m(\u001b[38;5;28minput\u001b[39m(\u001b[38;5;124m'\u001b[39m\u001b[38;5;124mEnter the n2:\u001b[39m\u001b[38;5;124m'\u001b[39m))\n\u001b[0;32m      5\u001b[0m n3\u001b[38;5;241m=\u001b[39m\u001b[38;5;28meval\u001b[39m(\u001b[38;5;28minput\u001b[39m(\u001b[38;5;124m'\u001b[39m\u001b[38;5;124mEnter the n3:\u001b[39m\u001b[38;5;124m'\u001b[39m))\n\u001b[1;32m----> 6\u001b[0m avg\u001b[38;5;241m=\u001b[39m\u001b[38;5;28mround\u001b[39m((n1\u001b[38;5;241m+\u001b[39mn2\u001b[38;5;241m+\u001b[39mn324)\u001b[38;5;241m/\u001b[39m\u001b[38;5;241m3\u001b[39m,\u001b[38;5;241m2\u001b[39m)\n\u001b[0;32m      7\u001b[0m \u001b[38;5;28mprint\u001b[39m(\u001b[38;5;124mf\u001b[39m\u001b[38;5;124m'\u001b[39m\u001b[38;5;124mThe average of \u001b[39m\u001b[38;5;132;01m{\u001b[39;00mn1\u001b[38;5;132;01m}\u001b[39;00m\u001b[38;5;124m, \u001b[39m\u001b[38;5;132;01m{\u001b[39;00mn2\u001b[38;5;132;01m}\u001b[39;00m\u001b[38;5;124m and \u001b[39m\u001b[38;5;132;01m{\u001b[39;00mn3\u001b[38;5;132;01m}\u001b[39;00m\u001b[38;5;124m is \u001b[39m\u001b[38;5;132;01m{\u001b[39;00mavg\u001b[38;5;132;01m}\u001b[39;00m\u001b[38;5;124m'\u001b[39m)\n",
      "\u001b[1;31mNameError\u001b[0m: name 'n324' is not defined"
     ]
    }
   ],
   "source": [
    "try:\n",
    "    def average():\n",
    "        n1=eval(input('Enter the n1:'))\n",
    "        n2=eval(input('Enter the n2:'))\n",
    "        n3=eval(input('Enter the n3:'))\n",
    "        avg=round((n1+n2+n324)/3,2)\n",
    "        print(f'The average of {n1}, {n2} and {n3} is {avg}')\n",
    "except Exception as e:\n",
    "    print(e)\n",
    "average()\n",
    "    "
   ]
  },
  {
   "cell_type": "markdown",
   "id": "32726b84-0358-40b6-b474-a4dcb7716486",
   "metadata": {},
   "source": [
    "**Note**\n",
    "\n",
    "- always **try and except** for only on code\n",
    "\n",
    "- Not for function \n",
    "\n",
    "- Inside the function write try-except"
   ]
  },
  {
   "cell_type": "code",
   "execution_count": 12,
   "id": "decdf54c-bf75-4b42-9c65-8f048e5fcf88",
   "metadata": {},
   "outputs": [
    {
     "name": "stdin",
     "output_type": "stream",
     "text": [
      "Enter the radius: 10\n"
     ]
    },
    {
     "name": "stdout",
     "output_type": "stream",
     "text": [
      "The area of the circle is 314.1592653589793\n"
     ]
    }
   ],
   "source": [
    "from math import pi\n",
    "def area_of_circle():\n",
    "    try:\n",
    "        r=eval(input('Enter the radius:'))\n",
    "        area=pi*r*r\n",
    "        print(f'The area of the circle is {area}')\n",
    "    except Exception as e:\n",
    "        print(e)\n",
    "\n",
    "area_of_circle()"
   ]
  },
  {
   "cell_type": "code",
   "execution_count": 14,
   "id": "aea420ba-1064-4a55-9251-3f7eb14e3913",
   "metadata": {},
   "outputs": [
    {
     "name": "stdin",
     "output_type": "stream",
     "text": [
      "Enter the radius: 10\n"
     ]
    },
    {
     "name": "stdout",
     "output_type": "stream",
     "text": [
      "314.1592653589793\n"
     ]
    }
   ],
   "source": [
    "##Taking the value and retrun the value\n",
    "from math import pi\n",
    "def area_of__circle(r):\n",
    "    area=pi*r*r\n",
    "    return(area)\n",
    "#main function\n",
    "x=eval(input('Enter the radius:'))\n",
    "res=area_of__circle(x)\n",
    "print(res)"
   ]
  },
  {
   "cell_type": "code",
   "execution_count": null,
   "id": "1f465c83-576d-48b2-9ce3-464380723aba",
   "metadata": {},
   "outputs": [],
   "source": [
    "##Not taking the value and not return the value\n",
    "def circle():\n",
    "    r=eval(input('Enter the radius :'))\n",
    "    area=pi*r*r\n",
    "    print(f'The area of the circle is {area}')\n",
    "\n",
    "circle()"
   ]
  },
  {
   "cell_type": "markdown",
   "id": "66bc8fbd-20a1-48a2-8197-b9ee9d48607a",
   "metadata": {},
   "source": [
    "**Note**\n",
    "\n",
    "- when we define the function , it will not give any error or any  answer\n",
    "\n",
    "- if  we want to see any error or any answer we need to call the function"
   ]
  },
  {
   "cell_type": "code",
   "execution_count": null,
   "id": "9070b2bf-cd3b-4224-8cc0-22193c584d86",
   "metadata": {},
   "outputs": [],
   "source": [
    "** Function with out arguments**\n",
    "\n",
    "- the function we defined does not have any values or variable"
   ]
  },
  {
   "cell_type": "markdown",
   "id": "9e15fba2-2b4b-47db-95fb-713433692b7b",
   "metadata": {},
   "source": [
    "**Function with the arguments**"
   ]
  },
  {
   "cell_type": "markdown",
   "id": "2c47547a-ac4b-4625-8003-191c0ea49c2b",
   "metadata": {},
   "source": [
    "- let create an addition program code"
   ]
  },
  {
   "cell_type": "code",
   "execution_count": 1,
   "id": "678763cc-64ec-489d-a1cb-54cbf9606739",
   "metadata": {},
   "outputs": [
    {
     "name": "stdin",
     "output_type": "stream",
     "text": [
      "Enter the n1: 20\n",
      "Enter the n2: 39\n"
     ]
    },
    {
     "name": "stdout",
     "output_type": "stream",
     "text": [
      "The addition of 20 and 39 is 59\n"
     ]
    }
   ],
   "source": [
    "def addition():\n",
    "    n1=eval(input('Enter the n1:'))\n",
    "    n2=eval(input('Enter the n2:'))\n",
    "    add=n1+n2\n",
    "    print(f'The addition of {n1} and {n2} is {add}')\n",
    "\n",
    "addition()"
   ]
  },
  {
   "cell_type": "code",
   "execution_count": null,
   "id": "904deca5-cfed-4b47-bf9a-96a9be1fdea5",
   "metadata": {},
   "outputs": [],
   "source": []
  },
  {
   "cell_type": "code",
   "execution_count": null,
   "id": "25a32e90-6c96-4abe-af16-dd167ace64d8",
   "metadata": {},
   "outputs": [],
   "source": [
    "- how many variable are their in above code:3\n",
    "\n",
    "    -n1,n2,add\n",
    "\n",
    "- what are the input variable\n",
    "\n",
    "    - n1,n2\n",
    "\n",
    "- what are the ouput variable\n",
    "\n",
    "    - add\n",
    "- pass the input variable inside the function bracket \n",
    "\n",
    "- pass n1,n2 inside the brackets, these n1,n2 behave as function argument\n",
    "\n"
   ]
  },
  {
   "cell_type": "code",
   "execution_count": 2,
   "id": "bdf10ed6-c6af-4188-bfb2-f10a9312d3df",
   "metadata": {},
   "outputs": [
    {
     "name": "stdout",
     "output_type": "stream",
     "text": [
      "The addition of 10 and 20 is 30\n"
     ]
    }
   ],
   "source": [
    "def addition(n1,n2):\n",
    "    add=n1+n2\n",
    "    print(f'The addition of {n1} and {n2} is {add}')\n",
    "\n",
    "addition(10,20)"
   ]
  },
  {
   "cell_type": "code",
   "execution_count": null,
   "id": "81e13c37-5fe6-42a2-8427-5901e2f83e91",
   "metadata": {},
   "outputs": [],
   "source": [
    "addition()"
   ]
  },
  {
   "cell_type": "code",
   "execution_count": 3,
   "id": "e77dce9a-724a-42b1-aa16-09925f807d84",
   "metadata": {},
   "outputs": [
    {
     "ename": "TypeError",
     "evalue": "Random.randint() missing 1 required positional argument: 'b'",
     "output_type": "error",
     "traceback": [
      "\u001b[1;31m---------------------------------------------------------------------------\u001b[0m",
      "\u001b[1;31mTypeError\u001b[0m                                 Traceback (most recent call last)",
      "Cell \u001b[1;32mIn[3], line 2\u001b[0m\n\u001b[0;32m      1\u001b[0m \u001b[38;5;28;01mfrom\u001b[39;00m \u001b[38;5;21;01mrandom\u001b[39;00m \u001b[38;5;28;01mimport\u001b[39;00m randint\n\u001b[1;32m----> 2\u001b[0m randint(\u001b[38;5;241m10\u001b[39m)\n",
      "\u001b[1;31mTypeError\u001b[0m: Random.randint() missing 1 required positional argument: 'b'"
     ]
    }
   ],
   "source": [
    "from random import randint\n",
    "randint(10)"
   ]
  },
  {
   "cell_type": "code",
   "execution_count": 4,
   "id": "cceabec9-fe9c-40b3-b2f6-a0d0099ae1d1",
   "metadata": {},
   "outputs": [
    {
     "name": "stdout",
     "output_type": "stream",
     "text": [
      "The average of 10,20and 30 is 20.0\n"
     ]
    }
   ],
   "source": [
    "def average(n1,n2,n3):\n",
    "    avg=(n1+n2+n3)/3\n",
    "    print(f\"The average of {n1},{n2}and {n3} is {avg}\")\n",
    "\n",
    "average(10,20,30)"
   ]
  },
  {
   "cell_type": "code",
   "execution_count": 5,
   "id": "60d3a918-97db-4928-876d-5b21b01aa9f4",
   "metadata": {},
   "outputs": [
    {
     "name": "stdout",
     "output_type": "stream",
     "text": [
      "Area of the triangle is 100.0\n"
     ]
    }
   ],
   "source": [
    "def triangle(b,h):\n",
    "    area=0.5*b*h\n",
    "    print(f'Area of the triangle is {area}')\n",
    "\n",
    "triangle(10,20)"
   ]
  },
  {
   "cell_type": "code",
   "execution_count": 6,
   "id": "110abb9f-d447-48a4-8e98-c6153ab87661",
   "metadata": {},
   "outputs": [
    {
     "name": "stdout",
     "output_type": "stream",
     "text": [
      "Area the circle is 314.1592653589793\n"
     ]
    }
   ],
   "source": [
    "from math import pi\n",
    "def circle(r):\n",
    "    area=pi*r*r\n",
    "    print(f'Area the circle is {area}')\n",
    "\n",
    "circle(10)"
   ]
  },
  {
   "cell_type": "code",
   "execution_count": 9,
   "id": "7e28e94a-7ac3-46c8-a0d0-d1aed581d864",
   "metadata": {},
   "outputs": [
    {
     "name": "stdin",
     "output_type": "stream",
     "text": [
      "Enter the n1: 10\n",
      "Enter the n2: 20\n",
      "Enter the n3: 30\n"
     ]
    },
    {
     "name": "stdout",
     "output_type": "stream",
     "text": [
      "The average of 10 , 20 and 30 is 20.0\n"
     ]
    }
   ],
   "source": [
    "def average(n1,n2,n3):\n",
    "    avg=(n1+n2+n3)/3\n",
    "    print(f'The average of {n1} , {n2} and {n3} is {avg}')\n",
    "\n",
    "#main function\n",
    "n1=eval(input(\"Enter the n1:\"))\n",
    "n2=eval(input(\"Enter the n2:\"))\n",
    "n3=eval(input(\"Enter the n3:\"))\n",
    "average(n1,n2,n3)"
   ]
  },
  {
   "cell_type": "code",
   "execution_count": 11,
   "id": "df6b9591-9c08-4295-b723-9512b403419c",
   "metadata": {},
   "outputs": [
    {
     "name": "stdout",
     "output_type": "stream",
     "text": [
      "n1: 10\n",
      "n2: 20\n"
     ]
    },
    {
     "name": "stdin",
     "output_type": "stream",
     "text": [
      "Enter the n3: 10\n"
     ]
    },
    {
     "name": "stdout",
     "output_type": "stream",
     "text": [
      "The average of 10,20and 10 is 13.333333333333334\n"
     ]
    }
   ],
   "source": [
    "def average(n1,n2):\n",
    "    print('n1:',n1)\n",
    "    print('n2:',n2)\n",
    "    n3=eval(input('Enter the n3:'))\n",
    "    avg=(n1+n2+n3)/3\n",
    "    print(f\"The average of {n1},{n2}and {n3} is {avg}\")\n",
    "\n",
    "average(10,20)\n",
    "\n",
    "\n",
    "# while calling the function we want to provide n1,n2\n",
    "# while running the function we want to provide n3"
   ]
  },
  {
   "cell_type": "code",
   "execution_count": 12,
   "id": "0e310d39-c5e2-4411-8392-3a5d28aaf58f",
   "metadata": {},
   "outputs": [
    {
     "name": "stdout",
     "output_type": "stream",
     "text": [
      "n1: 10\n"
     ]
    },
    {
     "name": "stdin",
     "output_type": "stream",
     "text": [
      "Enter the n2: 20\n",
      "Enter the n3: 10\n"
     ]
    },
    {
     "name": "stdout",
     "output_type": "stream",
     "text": [
      "The average of 10,20and 10 is 13.333333333333334\n"
     ]
    }
   ],
   "source": [
    "def average(n1):\n",
    "    print('n1:',n1)\n",
    "    n2=eval(input('Enter the n2:'))\n",
    "    n3=eval(input('Enter the n3:'))\n",
    "    avg=(n1+n2+n3)/3\n",
    "    print(f\"The average of {n1},{n2}and {n3} is {avg}\")\n",
    "\n",
    "average(10)"
   ]
  },
  {
   "cell_type": "code",
   "execution_count": 13,
   "id": "864d83de-2d78-45a5-9db1-a9dbcbfc6e3e",
   "metadata": {},
   "outputs": [
    {
     "name": "stdout",
     "output_type": "stream",
     "text": [
      "The power is 4\n"
     ]
    }
   ],
   "source": [
    "def pow(b,e):\n",
    "    power=b**e\n",
    "    print(f'The power is {power}')\n",
    "\n",
    "pow(2,2)"
   ]
  },
  {
   "cell_type": "code",
   "execution_count": 17,
   "id": "bfe3a9aa-3d87-48d9-8ac7-ec9388c7f0df",
   "metadata": {},
   "outputs": [
    {
     "ename": "TypeError",
     "evalue": "pow1() takes 0 positional arguments but 1 was given",
     "output_type": "error",
     "traceback": [
      "\u001b[1;31m---------------------------------------------------------------------------\u001b[0m",
      "\u001b[1;31mTypeError\u001b[0m                                 Traceback (most recent call last)",
      "Cell \u001b[1;32mIn[17], line 6\u001b[0m\n\u001b[0;32m      3\u001b[0m     power\u001b[38;5;241m=\u001b[39m\u001b[38;5;28meval\u001b[39m(\u001b[38;5;28minput\u001b[39m(\u001b[38;5;124m'\u001b[39m\u001b[38;5;124mhow much power we want:\u001b[39m\u001b[38;5;124m'\u001b[39m))\n\u001b[0;32m      4\u001b[0m     \u001b[38;5;28mprint\u001b[39m(number\u001b[38;5;241m*\u001b[39m\u001b[38;5;241m*\u001b[39mpower)\n\u001b[1;32m----> 6\u001b[0m pow1(\u001b[38;5;241m20\u001b[39m)\n",
      "\u001b[1;31mTypeError\u001b[0m: pow1() takes 0 positional arguments but 1 was given"
     ]
    }
   ],
   "source": [
    "def pow1():\n",
    "    number=eval(input('Enter the number:'))\n",
    "    power=eval(input('how much power we want:'))\n",
    "    print(number**power)\n",
    "\n",
    "pow1(20)"
   ]
  },
  {
   "cell_type": "code",
   "execution_count": 16,
   "id": "cbfe6da4-daf0-463e-b35f-9ad6ff280b12",
   "metadata": {},
   "outputs": [
    {
     "name": "stdout",
     "output_type": "stream",
     "text": [
      "8\n"
     ]
    }
   ],
   "source": [
    "def pow1(number,power):\n",
    "    print(number**power)\n",
    "\n",
    "pow1(2,3)"
   ]
  },
  {
   "cell_type": "code",
   "execution_count": null,
   "id": "8be20a2c-661d-4032-8412-f4d8f99ab727",
   "metadata": {},
   "outputs": [],
   "source": [
    "**Fuction with Default argument** "
   ]
  },
  {
   "cell_type": "code",
   "execution_count": 18,
   "id": "9662d9b5-9e11-42e3-9738-6f6ad65632ea",
   "metadata": {},
   "outputs": [
    {
     "name": "stdout",
     "output_type": "stream",
     "text": [
      "the total bill is :1500\n"
     ]
    }
   ],
   "source": [
    "def bill(billamount,tipamount=500):\n",
    "    totalbill=billamount+tipamount\n",
    "    print(f'the total bill is :{totalbill}')\n",
    "\n",
    "bill(1000)"
   ]
  },
  {
   "cell_type": "code",
   "execution_count": 20,
   "id": "a613a4d6-706d-4eb7-8533-d41600d359ca",
   "metadata": {},
   "outputs": [
    {
     "name": "stdout",
     "output_type": "stream",
     "text": [
      "The average of 10 , 50 and 20 is 26.666666666666668\n"
     ]
    }
   ],
   "source": [
    "def average(n1,n3,n2=50):\n",
    "    avg=(n1+n2+n3)/3\n",
    "    print(f'The average of {n1} , {n2} and {n3} is {avg}')\n",
    "\n",
    "average(10,20)\n"
   ]
  },
  {
   "cell_type": "markdown",
   "id": "ed875883-fd2c-4f24-acda-91cb7554f30b",
   "metadata": {},
   "source": [
    "**always write the default argument at last**"
   ]
  },
  {
   "cell_type": "code",
   "execution_count": 21,
   "id": "dd296a23-7719-4750-a0ac-ff37fa6c25f3",
   "metadata": {},
   "outputs": [
    {
     "name": "stdout",
     "output_type": "stream",
     "text": [
      "The average of 20 , 20 and 10 is 16.666666666666668\n"
     ]
    }
   ],
   "source": [
    "def average(n2,n3,n1=20):\n",
    "    avg=(n1+n2+n3)/3\n",
    "    print(f'The average of {n1} , {n2} and {n3} is {avg}')\n",
    "\n",
    "average(20,10)"
   ]
  },
  {
   "cell_type": "code",
   "execution_count": 3,
   "id": "9913e22f-92e9-4b53-a4c8-731d63e12086",
   "metadata": {},
   "outputs": [
    {
     "name": "stdin",
     "output_type": "stream",
     "text": [
      "Enter the num1: 7\n"
     ]
    },
    {
     "name": "stdout",
     "output_type": "stream",
     "text": [
      "lost\n"
     ]
    }
   ],
   "source": [
    "from random import randint\n",
    "def num():\n",
    "    num1=eval(input('Enter the num1:'))\n",
    "    num2=randint(1,10)\n",
    "    if num1==num2:\n",
    "        print('won')\n",
    "    else:\n",
    "        print('lost')\n",
    "\n",
    "num()\n",
    "    "
   ]
  },
  {
   "cell_type": "code",
   "execution_count": 5,
   "id": "e6aedd50-c299-4f6a-bf65-0172ce454328",
   "metadata": {},
   "outputs": [
    {
     "name": "stdout",
     "output_type": "stream",
     "text": [
      "lost\n"
     ]
    }
   ],
   "source": [
    "def num1(x):\n",
    "    num2=randint(1,10)\n",
    "    if x==num2:\n",
    "        print('won')\n",
    "    else:\n",
    "        print('lost')\n",
    "num1(45)"
   ]
  },
  {
   "cell_type": "code",
   "execution_count": 6,
   "id": "51a934bd-01a3-436d-8e5f-c34ae3c114d7",
   "metadata": {},
   "outputs": [
    {
     "name": "stdout",
     "output_type": "stream",
     "text": [
      "won\n"
     ]
    }
   ],
   "source": [
    "def num2(x=7):\n",
    "    num2=randint(1,10)\n",
    "    if x==num2:\n",
    "        print('won')\n",
    "    else:\n",
    "        print('lost')\n",
    "num2()"
   ]
  },
  {
   "cell_type": "code",
   "execution_count": null,
   "id": "b0d4cc65-7839-44fc-8dc1-19ad6c22de9b",
   "metadata": {},
   "outputs": [],
   "source": [
    "**Case-1**\n",
    "\n",
    "- step1:Define the function\n",
    "\n",
    "- step2: call the function \n",
    "\n",
    "- step3: run the function"
   ]
  },
  {
   "cell_type": "code",
   "execution_count": null,
   "id": "87519c2d-8ce0-4fa7-924d-b244ff6e0e24",
   "metadata": {},
   "outputs": [],
   "source": [
    "def average(n1,n2,n3=40):\n",
    "    print('n1:',n1)\n",
    "    print('n2:',n2)\n",
    "    print('n3:',n3)\n",
    "    avg=(n1+n2+n3)/3\n",
    "    print(f'the avg of {n1},{n2}and{n3} is {avg}')\n",
    "\n",
    "average(10,20,100)\n",
    "\n",
    "#while calling n3=100\n",
    "#while running also n3=100"
   ]
  },
  {
   "cell_type": "code",
   "execution_count": 9,
   "id": "47c85191-c644-4e88-830b-6bfeb93a4b35",
   "metadata": {},
   "outputs": [
    {
     "name": "stdout",
     "output_type": "stream",
     "text": [
      "a: 10\n",
      "b: 20\n",
      "c: 500\n",
      "530\n"
     ]
    }
   ],
   "source": [
    "def add(a,b,c=50):\n",
    "    c=500\n",
    "    print('a:',a)\n",
    "    print('b:',b)\n",
    "    print('c:',c)\n",
    "    d=a+b+c\n",
    "    print(d)\n",
    "\n",
    "add(10,20,100)"
   ]
  },
  {
   "cell_type": "markdown",
   "id": "ad5de7e6-eb3a-4746-b4af-55a6d6f9828a",
   "metadata": {},
   "source": [
    "**Loacl variable vs Global variable**\n",
    "\n",
    "- local variable are used inside the function.\n",
    "\n",
    "- global variable are used outside the function.\n",
    "\n",
    "- global variable can be used at anywhere **inside the function** or **outside the function**\n",
    "\n"
   ]
  },
  {
   "cell_type": "code",
   "execution_count": 11,
   "id": "e0183400-ac5d-4304-98e3-ec189e01e0cb",
   "metadata": {},
   "outputs": [
    {
     "name": "stdin",
     "output_type": "stream",
     "text": [
      "Enter the n1: 10\n",
      "Enter the n2: 20\n",
      "Enter the n3: 30\n"
     ]
    },
    {
     "name": "stdout",
     "output_type": "stream",
     "text": [
      "The average of 10, 20 and 30 is 20.0\n"
     ]
    }
   ],
   "source": [
    "n1=eval(input('Enter the n1:'))\n",
    "n2=eval(input('Enter the n2:'))\n",
    "n3=eval(input('Enter the n3:'))\n",
    "def average():\n",
    "        avg=round((n1+n2+n3)/3,2)\n",
    "        print(f'The average of {n1}, {n2} and {n3} is {avg}')\n",
    "average()"
   ]
  },
  {
   "cell_type": "code",
   "execution_count": 12,
   "id": "c3433b63-9f28-44a6-96fc-09248d0d3b3e",
   "metadata": {},
   "outputs": [
    {
     "name": "stdin",
     "output_type": "stream",
     "text": [
      "Enter the n1: 10\n",
      "Enter the n2: 20\n",
      "Enter the n3: 30\n"
     ]
    },
    {
     "name": "stdout",
     "output_type": "stream",
     "text": [
      "The average of 10, 20 and 30 is 20.0\n"
     ]
    }
   ],
   "source": [
    "\n",
    "def average():\n",
    "    n1=eval(input('Enter the n1:'))\n",
    "    n2=eval(input('Enter the n2:'))\n",
    "    n3=eval(input('Enter the n3:'))\n",
    "    avg=round((n1+n2+n3)/3,2)\n",
    "    print(f'The average of {n1}, {n2} and {n3} is {avg}')\n",
    "average()"
   ]
  },
  {
   "cell_type": "markdown",
   "id": "4c8712f7-30b7-4ec2-b1cf-d6dc6b7f64a6",
   "metadata": {},
   "source": [
    "- local variable can not use outside the function\n",
    "\n",
    "- in above code N1 is local variable\n",
    "\n",
    "- we are trying to use outside the function it is throwing the error."
   ]
  },
  {
   "cell_type": "code",
   "execution_count": 13,
   "id": "9a43f75e-b99b-4122-93a0-40f0213687db",
   "metadata": {},
   "outputs": [
    {
     "name": "stdin",
     "output_type": "stream",
     "text": [
      "Enter the n1: 10\n",
      "Enter the n2: 20\n",
      "Enter the n3: 40\n"
     ]
    },
    {
     "name": "stdout",
     "output_type": "stream",
     "text": [
      "The average of 10, 20 and 40 is 23.33\n"
     ]
    }
   ],
   "source": [
    "A=eval(input('Enter the n1:'))\n",
    "B=eval(input('Enter the n2:'))\n",
    "C=eval(input('Enter the n3:'))\n",
    "def average():\n",
    "        avg=round((A+B+C)/3,2)\n",
    "        print(f'The average of {A}, {B} and {C} is {avg}')\n",
    "average()"
   ]
  },
  {
   "cell_type": "code",
   "execution_count": 14,
   "id": "e2437306-edee-42d5-a3d7-96384877ee79",
   "metadata": {},
   "outputs": [
    {
     "ename": "NameError",
     "evalue": "name 'avg' is not defined",
     "output_type": "error",
     "traceback": [
      "\u001b[1;31m---------------------------------------------------------------------------\u001b[0m",
      "\u001b[1;31mNameError\u001b[0m                                 Traceback (most recent call last)",
      "Cell \u001b[1;32mIn[14], line 1\u001b[0m\n\u001b[1;32m----> 1\u001b[0m avg\n",
      "\u001b[1;31mNameError\u001b[0m: name 'avg' is not defined"
     ]
    }
   ],
   "source": [
    "avg"
   ]
  },
  {
   "cell_type": "code",
   "execution_count": null,
   "id": "ab184496-052e-497c-907c-e4f95b5340cb",
   "metadata": {},
   "outputs": [],
   "source": [
    "- global variable are intialized outside the function\n",
    "\n",
    "- global variables can be used anywhere.\n",
    "\n",
    "- local variables are intialized inside the function\n",
    "\n",
    "- local variables can be used inside function"
   ]
  },
  {
   "cell_type": "markdown",
   "id": "9a941371-07e0-4398-927c-0345a7d67cd3",
   "metadata": {},
   "source": [
    "**how to local variable outside the function call**"
   ]
  },
  {
   "cell_type": "code",
   "execution_count": 15,
   "id": "7f56a172-db11-4b34-af9d-514af3793711",
   "metadata": {},
   "outputs": [
    {
     "name": "stdout",
     "output_type": "stream",
     "text": [
      "600\n"
     ]
    }
   ],
   "source": [
    "A=100\n",
    "B=200\n",
    "C=300\n",
    "def add1():\n",
    "    global ADD\n",
    "    ADD=A+B+C\n",
    "    print(ADD)\n",
    "\n",
    "add1()"
   ]
  },
  {
   "cell_type": "code",
   "execution_count": 16,
   "id": "9bf39581-b9f5-4d26-978e-d3d5efe7be03",
   "metadata": {},
   "outputs": [
    {
     "data": {
      "text/plain": [
       "600"
      ]
     },
     "execution_count": 16,
     "metadata": {},
     "output_type": "execute_result"
    }
   ],
   "source": [
    "ADD"
   ]
  },
  {
   "cell_type": "markdown",
   "id": "d9c5d57e-ce8b-4fe7-9510-b17ae7c7c407",
   "metadata": {},
   "source": [
    "- local variable can use outside the function in two ways\n",
    "\n",
    "- by making local variable as global by using **global**\n",
    "\n",
    "- by using return statement also"
   ]
  },
  {
   "cell_type": "code",
   "execution_count": 1,
   "id": "499f8571-e0d2-4b39-b3f0-c93a2bb6dc32",
   "metadata": {},
   "outputs": [
    {
     "name": "stdout",
     "output_type": "stream",
     "text": [
      "50 -10\n"
     ]
    }
   ],
   "source": [
    "def summ(a,b):\n",
    "    global add , sub\n",
    "    add=a+b\n",
    "    sub=a-b\n",
    "    print(add,sub)\n",
    "\n",
    "summ(20,30)\n"
   ]
  },
  {
   "cell_type": "code",
   "execution_count": 2,
   "id": "c328807f-4c2c-437f-b036-acdd26276610",
   "metadata": {},
   "outputs": [
    {
     "data": {
      "text/plain": [
       "50"
      ]
     },
     "execution_count": 2,
     "metadata": {},
     "output_type": "execute_result"
    }
   ],
   "source": [
    "add"
   ]
  },
  {
   "cell_type": "code",
   "execution_count": 3,
   "id": "c40a2a3c-1c96-469c-97a6-217dd228858f",
   "metadata": {},
   "outputs": [
    {
     "data": {
      "text/plain": [
       "-10"
      ]
     },
     "execution_count": 3,
     "metadata": {},
     "output_type": "execute_result"
    }
   ],
   "source": [
    "sub"
   ]
  },
  {
   "cell_type": "markdown",
   "id": "82741c37-9671-40e8-a807-775d56de5590",
   "metadata": {},
   "source": [
    "**unboundlocal error**\n",
    "\n",
    "- unbound local error means the variable is not defined\n",
    "\n",
    "- thet variables is used as both input and output inside the function "
   ]
  },
  {
   "cell_type": "code",
   "execution_count": 4,
   "id": "27eb0e65-2a63-4e54-8c00-b2e1b30444f1",
   "metadata": {},
   "outputs": [
    {
     "ename": "UnboundLocalError",
     "evalue": "cannot access local variable 'b' where it is not associated with a value",
     "output_type": "error",
     "traceback": [
      "\u001b[1;31m---------------------------------------------------------------------------\u001b[0m",
      "\u001b[1;31mUnboundLocalError\u001b[0m                         Traceback (most recent call last)",
      "Cell \u001b[1;32mIn[4], line 6\u001b[0m\n\u001b[0;32m      3\u001b[0m     b\u001b[38;5;241m=\u001b[39mb\u001b[38;5;241m+\u001b[39ma\n\u001b[0;32m      4\u001b[0m     \u001b[38;5;28mprint\u001b[39m(b)\n\u001b[1;32m----> 6\u001b[0m fuc1()\n",
      "Cell \u001b[1;32mIn[4], line 3\u001b[0m, in \u001b[0;36mfuc1\u001b[1;34m()\u001b[0m\n\u001b[0;32m      1\u001b[0m \u001b[38;5;28;01mdef\u001b[39;00m \u001b[38;5;21mfuc1\u001b[39m():\n\u001b[0;32m      2\u001b[0m     a\u001b[38;5;241m=\u001b[39m\u001b[38;5;241m10\u001b[39m\n\u001b[1;32m----> 3\u001b[0m     b\u001b[38;5;241m=\u001b[39mb\u001b[38;5;241m+\u001b[39ma\n\u001b[0;32m      4\u001b[0m     \u001b[38;5;28mprint\u001b[39m(b)\n",
      "\u001b[1;31mUnboundLocalError\u001b[0m: cannot access local variable 'b' where it is not associated with a value"
     ]
    }
   ],
   "source": [
    "def fuc1():\n",
    "    a=10\n",
    "    b=b+a\n",
    "    print(b)\n",
    "\n",
    "fuc1()"
   ]
  },
  {
   "cell_type": "code",
   "execution_count": 5,
   "id": "da6be7cc-51fe-4126-98c4-7794f411a987",
   "metadata": {},
   "outputs": [
    {
     "ename": "NameError",
     "evalue": "name 'b' is not defined",
     "output_type": "error",
     "traceback": [
      "\u001b[1;31m---------------------------------------------------------------------------\u001b[0m",
      "\u001b[1;31mNameError\u001b[0m                                 Traceback (most recent call last)",
      "Cell \u001b[1;32mIn[5], line 6\u001b[0m\n\u001b[0;32m      3\u001b[0m     c\u001b[38;5;241m=\u001b[39ma\u001b[38;5;241m+\u001b[39mb\n\u001b[0;32m      4\u001b[0m     \u001b[38;5;28mprint\u001b[39m(c)\n\u001b[1;32m----> 6\u001b[0m func2()\n",
      "Cell \u001b[1;32mIn[5], line 3\u001b[0m, in \u001b[0;36mfunc2\u001b[1;34m()\u001b[0m\n\u001b[0;32m      1\u001b[0m \u001b[38;5;28;01mdef\u001b[39;00m \u001b[38;5;21mfunc2\u001b[39m():\n\u001b[0;32m      2\u001b[0m     a\u001b[38;5;241m=\u001b[39m\u001b[38;5;241m10\u001b[39m\n\u001b[1;32m----> 3\u001b[0m     c\u001b[38;5;241m=\u001b[39ma\u001b[38;5;241m+\u001b[39mb\n\u001b[0;32m      4\u001b[0m     \u001b[38;5;28mprint\u001b[39m(c)\n",
      "\u001b[1;31mNameError\u001b[0m: name 'b' is not defined"
     ]
    }
   ],
   "source": [
    "def func2():\n",
    "    a=10\n",
    "    c=a+b\n",
    "    print(c)\n",
    "\n",
    "func2()"
   ]
  },
  {
   "cell_type": "markdown",
   "id": "f214016a-2bb9-48bf-ad31-c2d8c45f5be0",
   "metadata": {},
   "source": [
    "**return statement**\n",
    "\n",
    "- till now above we have created a function with print statement in order\n",
    "\n",
    "- the function output we are not able to use outside the function.\n",
    "\n",
    "- bcz it is a local variable\n",
    "\n",
    "- one method we used to is **global**\n",
    "\n",
    "- another method is return statement\n",
    "\n",
    "- return means some thing we are recieving\n",
    "\n",
    "- print means only we can see the answer "
   ]
  },
  {
   "cell_type": "code",
   "execution_count": 7,
   "id": "c5b7ca60-5eae-4acc-a54a-59792f6c3e57",
   "metadata": {},
   "outputs": [],
   "source": [
    "def add(a,b):\n",
    "    c=a+b\n",
    "    return(c)\n",
    "\n",
    "val1=add(10,20)"
   ]
  },
  {
   "cell_type": "code",
   "execution_count": 8,
   "id": "595705e0-9381-4f30-a390-a2210b49703d",
   "metadata": {},
   "outputs": [
    {
     "data": {
      "text/plain": [
       "30"
      ]
     },
     "execution_count": 8,
     "metadata": {},
     "output_type": "execute_result"
    }
   ],
   "source": [
    "val1"
   ]
  },
  {
   "cell_type": "code",
   "execution_count": null,
   "id": "e29ff392-f2b1-458a-98c4-f55bcd6cf4b9",
   "metadata": {},
   "outputs": [],
   "source": []
  },
  {
   "cell_type": "code",
   "execution_count": 22,
   "id": "f017b374-3cd1-45e6-b7de-a5cde842026d",
   "metadata": {},
   "outputs": [],
   "source": [
    "def add_sub(a,b):\n",
    "    summ=a+b\n",
    "    sub=a-b\n",
    "    return(summ,sub)\n",
    "\n",
    "op=add_sub(10,20)"
   ]
  },
  {
   "cell_type": "code",
   "execution_count": 23,
   "id": "43cb44bc-dabe-4f87-a142-4e6c3168b053",
   "metadata": {},
   "outputs": [
    {
     "name": "stdout",
     "output_type": "stream",
     "text": [
      "(30, -10)\n"
     ]
    }
   ],
   "source": [
    "print(op)"
   ]
  },
  {
   "cell_type": "code",
   "execution_count": 14,
   "id": "383c8c43-f8f7-4308-9e73-4858dc329019",
   "metadata": {},
   "outputs": [
    {
     "name": "stdout",
     "output_type": "stream",
     "text": [
      "-10\n"
     ]
    }
   ],
   "source": [
    "print(sub)"
   ]
  },
  {
   "cell_type": "code",
   "execution_count": 20,
   "id": "f9c063a9-4830-47b3-beff-6b3ce3309505",
   "metadata": {},
   "outputs": [
    {
     "ename": "TypeError",
     "evalue": "cannot unpack non-iterable int object",
     "output_type": "error",
     "traceback": [
      "\u001b[1;31m---------------------------------------------------------------------------\u001b[0m",
      "\u001b[1;31mTypeError\u001b[0m                                 Traceback (most recent call last)",
      "Cell \u001b[1;32mIn[20], line 3\u001b[0m\n\u001b[0;32m      1\u001b[0m n1\u001b[38;5;241m=\u001b[39m\u001b[38;5;241m100\u001b[39m,\u001b[38;5;241m200\u001b[39m\n\u001b[0;32m      2\u001b[0m n1,n2\u001b[38;5;241m=\u001b[39m\u001b[38;5;241m100\u001b[39m,\u001b[38;5;241m200\u001b[39m\n\u001b[1;32m----> 3\u001b[0m n1,n2\u001b[38;5;241m=\u001b[39m\u001b[38;5;241m100\u001b[39m\n",
      "\u001b[1;31mTypeError\u001b[0m: cannot unpack non-iterable int object"
     ]
    }
   ],
   "source": [
    "n1=100,200\n",
    "n1,n2=100,200\n",
    "n1,n2=100"
   ]
  },
  {
   "cell_type": "code",
   "execution_count": 21,
   "id": "d60d9fe3-c84b-44aa-824c-2dac16ee46b3",
   "metadata": {},
   "outputs": [
    {
     "data": {
      "text/plain": [
       "(100, 200)"
      ]
     },
     "execution_count": 21,
     "metadata": {},
     "output_type": "execute_result"
    }
   ],
   "source": [
    "n1=100,200\n",
    "n1"
   ]
  },
  {
   "cell_type": "code",
   "execution_count": null,
   "id": "21b22ea7-90da-4055-a58b-c1c9b6c6587d",
   "metadata": {},
   "outputs": [],
   "source": [
    "def add_sub(a,b):\n",
    "    summ=a+b\n",
    "    sub=a-b\n",
    "    return(summ,sub)\n",
    "\n",
    "op=add_sub(10,20)"
   ]
  },
  {
   "cell_type": "code",
   "execution_count": 24,
   "id": "86d672ed-aa1e-4333-8fad-a3a848a62d9a",
   "metadata": {},
   "outputs": [
    {
     "data": {
      "text/plain": [
       "(30, -10)"
      ]
     },
     "execution_count": 24,
     "metadata": {},
     "output_type": "execute_result"
    }
   ],
   "source": [
    "op"
   ]
  },
  {
   "cell_type": "markdown",
   "id": "eccb924c-32cd-4b1f-8f55-ea1541a75f95",
   "metadata": {},
   "source": [
    "**global  vs return**\n",
    "\n",
    "- global keyword used for we can take the inside variable to outside the function\n",
    "\n",
    "- return can return any value outside the function\n",
    "\n",
    "- **the value you return can be used into another notebook also**"
   ]
  },
  {
   "cell_type": "markdown",
   "id": "88f9d2b1-b9c2-43a9-a2dd-88d9f171da2d",
   "metadata": {},
   "source": [
    "**function in functions**"
   ]
  },
  {
   "cell_type": "code",
   "execution_count": 25,
   "id": "766888f1-c4aa-4764-ac26-461def8b2271",
   "metadata": {},
   "outputs": [
    {
     "name": "stdout",
     "output_type": "stream",
     "text": [
      "Hello Good Morning\n",
      "Hello good night\n"
     ]
    }
   ],
   "source": [
    "def greet1():\n",
    "    print('Hello Good Morning')\n",
    "\n",
    "def greet2():\n",
    "    print('Hello good night')\n",
    "greet1()\n",
    "greet2()"
   ]
  },
  {
   "cell_type": "code",
   "execution_count": 26,
   "id": "178343ae-efd3-4cb4-8494-3a037c5cb347",
   "metadata": {},
   "outputs": [
    {
     "name": "stdout",
     "output_type": "stream",
     "text": [
      "greet1 function starts\n",
      "Hello Good Morning\n",
      "Hello good night\n"
     ]
    }
   ],
   "source": [
    "def greet1():\n",
    "    print('Hello Good Morning')\n",
    "\n",
    "def greet2():\n",
    "    print('greet1 function starts')\n",
    "    greet1()\n",
    "    print('Hello good night')\n",
    "\n",
    "greet2()"
   ]
  },
  {
   "cell_type": "code",
   "execution_count": 27,
   "id": "1d8a4b64-f798-42e0-810f-39be0fe95562",
   "metadata": {},
   "outputs": [
    {
     "name": "stdout",
     "output_type": "stream",
     "text": [
      "greet2 function starts\n",
      "Hello good night\n",
      "Hello Good Morning\n"
     ]
    }
   ],
   "source": [
    "def greet1():\n",
    "    print('greet2 function starts')\n",
    "    greet2()\n",
    "    print('Hello Good Morning')\n",
    "\n",
    "def greet2():\n",
    "    print('Hello good night')\n",
    "greet1()"
   ]
  },
  {
   "cell_type": "code",
   "execution_count": 29,
   "id": "be84c5cc-d2b6-4161-89f6-639ca21e77c8",
   "metadata": {},
   "outputs": [
    {
     "ename": "NameError",
     "evalue": "name 'name' is not defined",
     "output_type": "error",
     "traceback": [
      "\u001b[1;31m---------------------------------------------------------------------------\u001b[0m",
      "\u001b[1;31mNameError\u001b[0m                                 Traceback (most recent call last)",
      "Cell \u001b[1;32mIn[29], line 10\u001b[0m\n\u001b[0;32m      7\u001b[0m \u001b[38;5;28;01mdef\u001b[39;00m \u001b[38;5;21moutside_function\u001b[39m(name):\n\u001b[0;32m      8\u001b[0m     inside_functio()\n\u001b[1;32m---> 10\u001b[0m outside_function(\u001b[38;5;124m'\u001b[39m\u001b[38;5;124mpython\u001b[39m\u001b[38;5;124m'\u001b[39m)\n",
      "Cell \u001b[1;32mIn[29], line 8\u001b[0m, in \u001b[0;36moutside_function\u001b[1;34m(name)\u001b[0m\n\u001b[0;32m      7\u001b[0m \u001b[38;5;28;01mdef\u001b[39;00m \u001b[38;5;21moutside_function\u001b[39m(name):\n\u001b[1;32m----> 8\u001b[0m     inside_functio()\n",
      "Cell \u001b[1;32mIn[29], line 2\u001b[0m, in \u001b[0;36minside_functio\u001b[1;34m()\u001b[0m\n\u001b[0;32m      1\u001b[0m \u001b[38;5;28;01mdef\u001b[39;00m \u001b[38;5;21minside_functio\u001b[39m():\n\u001b[1;32m----> 2\u001b[0m     \u001b[38;5;28mprint\u001b[39m(\u001b[38;5;124mf\u001b[39m\u001b[38;5;124m'\u001b[39m\u001b[38;5;124mhello \u001b[39m\u001b[38;5;132;01m{\u001b[39;00mname\u001b[38;5;132;01m}\u001b[39;00m\u001b[38;5;124m good morning\u001b[39m\u001b[38;5;124m'\u001b[39m)\n",
      "\u001b[1;31mNameError\u001b[0m: name 'name' is not defined"
     ]
    }
   ],
   "source": [
    "def inside_functio():\n",
    "    print(f'hello {name} good morning')\n",
    "    # we need to sense here \n",
    "    #name is not defined not even globally\n",
    "    # if i call this function def i will get error\n",
    "\n",
    "def outside_function(name):\n",
    "    inside_functio()\n",
    "\n",
    "outside_function('python')"
   ]
  },
  {
   "cell_type": "code",
   "execution_count": 30,
   "id": "8fc2e50c-4b10-4039-9d6d-a986008902cf",
   "metadata": {},
   "outputs": [
    {
     "name": "stdout",
     "output_type": "stream",
     "text": [
      "hello python good morning\n"
     ]
    }
   ],
   "source": [
    "def inside_functio(name):\n",
    "    print(f'hello {name} good morning')\n",
    "    # is variable defines anywhere\n",
    "    \n",
    "\n",
    "def outside_function(name):\n",
    "    inside_functio(name)\n",
    "\n",
    "outside_function('python')"
   ]
  },
  {
   "cell_type": "code",
   "execution_count": 31,
   "id": "15cea71c-8e55-4b09-b469-d50e4730376d",
   "metadata": {},
   "outputs": [
    {
     "name": "stdout",
     "output_type": "stream",
     "text": [
      "30\n"
     ]
    }
   ],
   "source": [
    "def add1(a,b):\n",
    "    print(a+b)\n",
    "\n",
    "add1(10,20)"
   ]
  },
  {
   "cell_type": "code",
   "execution_count": 35,
   "id": "4279f5aa-043c-4bea-b2e8-9ab1e3e2e821",
   "metadata": {},
   "outputs": [
    {
     "name": "stdout",
     "output_type": "stream",
     "text": [
      "30\n"
     ]
    }
   ],
   "source": [
    "def MATH(a,b):       # main function is important \n",
    "    def add1():\n",
    "        print(a+b)\n",
    "\n",
    "    add1()\n",
    "\n",
    "MATH(10,20)"
   ]
  },
  {
   "cell_type": "code",
   "execution_count": 34,
   "id": "2e1d2218-4387-4a64-a864-ed854cafad55",
   "metadata": {},
   "outputs": [
    {
     "name": "stdout",
     "output_type": "stream",
     "text": [
      "30\n"
     ]
    }
   ],
   "source": [
    "def MATH1():\n",
    "    def MATH():\n",
    "        def add1(a,b):\n",
    "            print(a+b)\n",
    "\n",
    "        add1(10,20)\n",
    "    MATH()\n",
    "\n",
    "MATH1()"
   ]
  },
  {
   "cell_type": "code",
   "execution_count": 6,
   "id": "a9e07ed8-d454-4df5-b006-142faee5d7bc",
   "metadata": {},
   "outputs": [
    {
     "name": "stdin",
     "output_type": "stream",
     "text": [
      "enter the number of chances you want to give: 3\n"
     ]
    },
    {
     "name": "stdout",
     "output_type": "stream",
     "text": [
      "7\n"
     ]
    },
    {
     "name": "stdin",
     "output_type": "stream",
     "text": [
      "enter the number: 5\n"
     ]
    },
    {
     "name": "stdout",
     "output_type": "stream",
     "text": [
      "the chance left is : 2\n",
      "lost\n",
      "2\n"
     ]
    },
    {
     "name": "stdin",
     "output_type": "stream",
     "text": [
      "enter the number: 1\n"
     ]
    },
    {
     "name": "stdout",
     "output_type": "stream",
     "text": [
      "the chance left is : 1\n",
      "lost\n",
      "6\n"
     ]
    },
    {
     "name": "stdin",
     "output_type": "stream",
     "text": [
      "enter the number: 5\n"
     ]
    },
    {
     "name": "stdout",
     "output_type": "stream",
     "text": [
      "the chance left is : 0\n",
      "lost\n"
     ]
    }
   ],
   "source": [
    "import random\n",
    "num=eval(input('enter the number of chances you want to give:'))\n",
    "for i in range(1,num+1):\n",
    "    n1=random.randint(1,10)\n",
    "    print(n1)\n",
    "    n2=eval(input('enter the number:'))\n",
    "    if n1==n2:\n",
    "        print('won')\n",
    "        break\n",
    "    else:\n",
    "        print('the chance left is :',num-i)\n",
    "        print('lost')"
   ]
  },
  {
   "cell_type": "code",
   "execution_count": 7,
   "id": "1007a565-46d4-4e29-8852-6723ca4bbac6",
   "metadata": {},
   "outputs": [
    {
     "name": "stdin",
     "output_type": "stream",
     "text": [
      "enter the number of chances you want to give: 3\n"
     ]
    },
    {
     "name": "stdout",
     "output_type": "stream",
     "text": [
      "10\n"
     ]
    },
    {
     "name": "stdin",
     "output_type": "stream",
     "text": [
      "enter the number: 9\n"
     ]
    },
    {
     "name": "stdout",
     "output_type": "stream",
     "text": [
      "the chance left is : 2\n",
      "lost\n",
      "3\n"
     ]
    },
    {
     "name": "stdin",
     "output_type": "stream",
     "text": [
      "enter the number: 4\n"
     ]
    },
    {
     "name": "stdout",
     "output_type": "stream",
     "text": [
      "the chance left is : 1\n",
      "lost\n",
      "2\n"
     ]
    },
    {
     "name": "stdin",
     "output_type": "stream",
     "text": [
      "enter the number: 7\n"
     ]
    },
    {
     "name": "stdout",
     "output_type": "stream",
     "text": [
      "all chance are over try after 24 hours\n"
     ]
    }
   ],
   "source": [
    "import random\n",
    "num=eval(input('enter the number of chances you want to give:'))\n",
    "for i in range(1,num+1):\n",
    "    n1=random.randint(1,10)\n",
    "    print(n1)\n",
    "    n2=eval(input('enter the number:'))\n",
    "    if n1==n2:\n",
    "        print('won')\n",
    "        break\n",
    "    elif num-i==0:\n",
    "        print('all chance are over try after 24 hours')\n",
    "    else:\n",
    "        print('the chance left is :',num-i)\n",
    "        print('lost')"
   ]
  },
  {
   "cell_type": "markdown",
   "id": "594e3925-36d0-41e4-8a89-25228b941fda",
   "metadata": {},
   "source": [
    "**in**"
   ]
  },
  {
   "cell_type": "code",
   "execution_count": null,
   "id": "2cd0b904-a370-49b1-936a-91237d4acde3",
   "metadata": {},
   "outputs": [],
   "source": [
    "- range operator except a value inside \n",
    "\n",
    "- in operator access the value directly"
   ]
  },
  {
   "cell_type": "code",
   "execution_count": null,
   "id": "4f8a9145-f4dc-49d7-adf7-eaa287eea3fd",
   "metadata": {},
   "outputs": [],
   "source": []
  },
  {
   "cell_type": "code",
   "execution_count": 10,
   "id": "230c5064-5b29-4d2f-957b-2bac11e7fd77",
   "metadata": {},
   "outputs": [
    {
     "name": "stdout",
     "output_type": "stream",
     "text": [
      "p y t h o n "
     ]
    }
   ],
   "source": [
    "for i in 'python':\n",
    "    print(i,end=' ')"
   ]
  },
  {
   "cell_type": "code",
   "execution_count": 16,
   "id": "2f4d9280-2e8e-4bfd-83f7-c61065b9d238",
   "metadata": {},
   "outputs": [
    {
     "data": {
      "text/plain": [
       "False"
      ]
     },
     "execution_count": 16,
     "metadata": {},
     "output_type": "execute_result"
    }
   ],
   "source": [
    "#'p'=='P'\n",
    "#'p'=='p'\n",
    "#'p'>'P'\n",
    "'p'<'p'"
   ]
  },
  {
   "cell_type": "code",
   "execution_count": null,
   "id": "2dfee4bb-5164-4d17-bfa1-7bc0de675d02",
   "metadata": {},
   "outputs": [],
   "source": [
    "#ASCII : American standard code for information interchange\n",
    "\n",
    "A=65    a=97\n",
    "B=66    b=98"
   ]
  },
  {
   "cell_type": "markdown",
   "id": "63105d1b-daef-4eb1-bf93-f29c6c38b5ad",
   "metadata": {},
   "source": [
    "**ord-chr**"
   ]
  },
  {
   "cell_type": "code",
   "execution_count": 19,
   "id": "5b903ebf-887f-4dc8-80d9-786fb309843b",
   "metadata": {},
   "outputs": [
    {
     "data": {
      "text/plain": [
       "65"
      ]
     },
     "execution_count": 19,
     "metadata": {},
     "output_type": "execute_result"
    }
   ],
   "source": [
    "ord('A')"
   ]
  },
  {
   "cell_type": "code",
   "execution_count": 20,
   "id": "4b62e634-ab6d-47a8-aa43-64075ff23516",
   "metadata": {},
   "outputs": [
    {
     "data": {
      "text/plain": [
       "90"
      ]
     },
     "execution_count": 20,
     "metadata": {},
     "output_type": "execute_result"
    }
   ],
   "source": [
    "ord('Z')"
   ]
  },
  {
   "cell_type": "code",
   "execution_count": 21,
   "id": "8a1b8907-a836-4bbb-9db1-17aa2b2e9b18",
   "metadata": {},
   "outputs": [
    {
     "data": {
      "text/plain": [
       "122"
      ]
     },
     "execution_count": 21,
     "metadata": {},
     "output_type": "execute_result"
    }
   ],
   "source": [
    "ord('z')"
   ]
  },
  {
   "cell_type": "code",
   "execution_count": 22,
   "id": "f62d9948-a52e-4e15-9bd0-fdae5f8c3be5",
   "metadata": {},
   "outputs": [
    {
     "data": {
      "text/plain": [
       "'A'"
      ]
     },
     "execution_count": 22,
     "metadata": {},
     "output_type": "execute_result"
    }
   ],
   "source": [
    "chr(65)"
   ]
  },
  {
   "cell_type": "code",
   "execution_count": 23,
   "id": "5197f5d6-1ad4-4280-af89-1019120a7ea9",
   "metadata": {},
   "outputs": [
    {
     "data": {
      "text/plain": [
       "97"
      ]
     },
     "execution_count": 23,
     "metadata": {},
     "output_type": "execute_result"
    }
   ],
   "source": [
    "ord('a')"
   ]
  },
  {
   "cell_type": "code",
   "execution_count": 24,
   "id": "bf3d9921-ffce-4149-b6c4-c091546cee88",
   "metadata": {},
   "outputs": [
    {
     "data": {
      "text/plain": [
       "'a'"
      ]
     },
     "execution_count": 24,
     "metadata": {},
     "output_type": "execute_result"
    }
   ],
   "source": [
    "chr(97)"
   ]
  },
  {
   "cell_type": "code",
   "execution_count": 29,
   "id": "970b9388-5e56-43c2-be3e-79f01e553306",
   "metadata": {},
   "outputs": [
    {
     "name": "stdout",
     "output_type": "stream",
     "text": [
      "32 --->   33 ---> ! 34 ---> \" 35 ---> # 36 ---> $ 37 ---> % 38 ---> & 39 ---> ' 40 ---> ( 41 ---> ) 42 ---> * 43 ---> + 44 ---> , 45 ---> - 46 ---> . 47 ---> / 48 ---> 0 49 ---> 1 50 ---> 2 51 ---> 3 52 ---> 4 53 ---> 5 54 ---> 6 55 ---> 7 56 ---> 8 57 ---> 9 58 ---> : 59 ---> ; 60 ---> < 61 ---> = 62 ---> > 63 ---> ? 64 ---> @ 65 ---> A 66 ---> B 67 ---> C 68 ---> D 69 ---> E 70 ---> F 71 ---> G 72 ---> H 73 ---> I 74 ---> J 75 ---> K 76 ---> L 77 ---> M 78 ---> N 79 ---> O 80 ---> P 81 ---> Q 82 ---> R 83 ---> S 84 ---> T 85 ---> U 86 ---> V 87 ---> W 88 ---> X 89 ---> Y 90 ---> Z 91 ---> [ 92 ---> \\ 93 ---> ] 94 ---> ^ 95 ---> _ 96 ---> ` 97 ---> a 98 ---> b 99 ---> c 100 ---> d 101 ---> e 102 ---> f 103 ---> g 104 ---> h 105 ---> i 106 ---> j 107 ---> k 108 ---> l 109 ---> m 110 ---> n 111 ---> o 112 ---> p 113 ---> q 114 ---> r 115 ---> s 116 ---> t 117 ---> u 118 ---> v 119 ---> w 120 ---> x 121 ---> y 122 ---> z 123 ---> { 124 ---> | 125 ---> } 126 ---> ~ 127 --->  "
     ]
    }
   ],
   "source": [
    "for i in range(32,128):\n",
    "    print(i,'--->',chr(i),end=' ')"
   ]
  },
  {
   "cell_type": "code",
   "execution_count": 30,
   "id": "328c9bd8-95c6-4d5d-9040-bfaaba2b233f",
   "metadata": {},
   "outputs": [
    {
     "name": "stdout",
     "output_type": "stream",
     "text": [
      "1000 ---> Ϩ 1001 ---> ϩ 1002 ---> Ϫ 1003 ---> ϫ 1004 ---> Ϭ 1005 ---> ϭ 1006 ---> Ϯ 1007 ---> ϯ 1008 ---> ϰ 1009 ---> ϱ 1010 ---> ϲ 1011 ---> ϳ 1012 ---> ϴ 1013 ---> ϵ 1014 ---> ϶ 1015 ---> Ϸ 1016 ---> ϸ 1017 ---> Ϲ 1018 ---> Ϻ 1019 ---> ϻ 1020 ---> ϼ 1021 ---> Ͻ 1022 ---> Ͼ 1023 ---> Ͽ 1024 ---> Ѐ 1025 ---> Ё 1026 ---> Ђ 1027 ---> Ѓ 1028 ---> Є 1029 ---> Ѕ 1030 ---> І 1031 ---> Ї 1032 ---> Ј 1033 ---> Љ 1034 ---> Њ 1035 ---> Ћ 1036 ---> Ќ 1037 ---> Ѝ 1038 ---> Ў 1039 ---> Џ 1040 ---> А 1041 ---> Б 1042 ---> В 1043 ---> Г 1044 ---> Д 1045 ---> Е 1046 ---> Ж 1047 ---> З 1048 ---> И 1049 ---> Й 1050 ---> К 1051 ---> Л 1052 ---> М 1053 ---> Н 1054 ---> О 1055 ---> П 1056 ---> Р 1057 ---> С 1058 ---> Т 1059 ---> У 1060 ---> Ф 1061 ---> Х 1062 ---> Ц 1063 ---> Ч 1064 ---> Ш 1065 ---> Щ 1066 ---> Ъ 1067 ---> Ы 1068 ---> Ь 1069 ---> Э 1070 ---> Ю 1071 ---> Я 1072 ---> а 1073 ---> б 1074 ---> в 1075 ---> г 1076 ---> д 1077 ---> е 1078 ---> ж 1079 ---> з 1080 ---> и 1081 ---> й 1082 ---> к 1083 ---> л 1084 ---> м 1085 ---> н 1086 ---> о 1087 ---> п 1088 ---> р 1089 ---> с 1090 ---> т 1091 ---> у 1092 ---> ф 1093 ---> х 1094 ---> ц 1095 ---> ч 1096 ---> ш 1097 ---> щ 1098 ---> ъ 1099 ---> ы "
     ]
    }
   ],
   "source": [
    "for i in range(1000,1100):\n",
    "    print(i,'--->',chr(i),end=' ')"
   ]
  },
  {
   "cell_type": "code",
   "execution_count": 31,
   "id": "5ee5af65-3de6-40a3-99d1-dd99cec2190f",
   "metadata": {},
   "outputs": [
    {
     "name": "stdout",
     "output_type": "stream",
     "text": [
      "10000 ---> ✐ 10001 ---> ✑ 10002 ---> ✒ 10003 ---> ✓ 10004 ---> ✔ 10005 ---> ✕ 10006 ---> ✖ 10007 ---> ✗ 10008 ---> ✘ 10009 ---> ✙ 10010 ---> ✚ 10011 ---> ✛ 10012 ---> ✜ 10013 ---> ✝ 10014 ---> ✞ 10015 ---> ✟ 10016 ---> ✠ 10017 ---> ✡ 10018 ---> ✢ 10019 ---> ✣ 10020 ---> ✤ 10021 ---> ✥ 10022 ---> ✦ 10023 ---> ✧ 10024 ---> ✨ 10025 ---> ✩ 10026 ---> ✪ 10027 ---> ✫ 10028 ---> ✬ 10029 ---> ✭ 10030 ---> ✮ 10031 ---> ✯ 10032 ---> ✰ 10033 ---> ✱ 10034 ---> ✲ 10035 ---> ✳ 10036 ---> ✴ 10037 ---> ✵ 10038 ---> ✶ 10039 ---> ✷ 10040 ---> ✸ 10041 ---> ✹ 10042 ---> ✺ 10043 ---> ✻ 10044 ---> ✼ 10045 ---> ✽ 10046 ---> ✾ 10047 ---> ✿ 10048 ---> ❀ 10049 ---> ❁ 10050 ---> ❂ 10051 ---> ❃ 10052 ---> ❄ 10053 ---> ❅ 10054 ---> ❆ 10055 ---> ❇ 10056 ---> ❈ 10057 ---> ❉ 10058 ---> ❊ 10059 ---> ❋ 10060 ---> ❌ 10061 ---> ❍ 10062 ---> ❎ 10063 ---> ❏ 10064 ---> ❐ 10065 ---> ❑ 10066 ---> ❒ 10067 ---> ❓ 10068 ---> ❔ 10069 ---> ❕ 10070 ---> ❖ 10071 ---> ❗ 10072 ---> ❘ 10073 ---> ❙ 10074 ---> ❚ 10075 ---> ❛ 10076 ---> ❜ 10077 ---> ❝ 10078 ---> ❞ 10079 ---> ❟ 10080 ---> ❠ 10081 ---> ❡ 10082 ---> ❢ 10083 ---> ❣ 10084 ---> ❤ 10085 ---> ❥ 10086 ---> ❦ 10087 ---> ❧ 10088 ---> ❨ 10089 ---> ❩ 10090 ---> ❪ 10091 ---> ❫ 10092 ---> ❬ 10093 ---> ❭ 10094 ---> ❮ 10095 ---> ❯ 10096 ---> ❰ 10097 ---> ❱ 10098 ---> ❲ 10099 ---> ❳ 10100 ---> ❴ 10101 ---> ❵ 10102 ---> ❶ 10103 ---> ❷ 10104 ---> ❸ 10105 ---> ❹ 10106 ---> ❺ 10107 ---> ❻ 10108 ---> ❼ 10109 ---> ❽ 10110 ---> ❾ 10111 ---> ❿ 10112 ---> ➀ 10113 ---> ➁ 10114 ---> ➂ 10115 ---> ➃ 10116 ---> ➄ 10117 ---> ➅ 10118 ---> ➆ 10119 ---> ➇ 10120 ---> ➈ 10121 ---> ➉ 10122 ---> ➊ 10123 ---> ➋ 10124 ---> ➌ 10125 ---> ➍ 10126 ---> ➎ 10127 ---> ➏ 10128 ---> ➐ 10129 ---> ➑ 10130 ---> ➒ 10131 ---> ➓ 10132 ---> ➔ 10133 ---> ➕ 10134 ---> ➖ 10135 ---> ➗ 10136 ---> ➘ 10137 ---> ➙ 10138 ---> ➚ 10139 ---> ➛ 10140 ---> ➜ 10141 ---> ➝ 10142 ---> ➞ 10143 ---> ➟ 10144 ---> ➠ 10145 ---> ➡ 10146 ---> ➢ 10147 ---> ➣ 10148 ---> ➤ 10149 ---> ➥ 10150 ---> ➦ 10151 ---> ➧ 10152 ---> ➨ 10153 ---> ➩ 10154 ---> ➪ 10155 ---> ➫ 10156 ---> ➬ 10157 ---> ➭ 10158 ---> ➮ 10159 ---> ➯ 10160 ---> ➰ 10161 ---> ➱ 10162 ---> ➲ 10163 ---> ➳ 10164 ---> ➴ 10165 ---> ➵ 10166 ---> ➶ 10167 ---> ➷ 10168 ---> ➸ 10169 ---> ➹ 10170 ---> ➺ 10171 ---> ➻ 10172 ---> ➼ 10173 ---> ➽ 10174 ---> ➾ 10175 ---> ➿ 10176 ---> ⟀ 10177 ---> ⟁ 10178 ---> ⟂ 10179 ---> ⟃ 10180 ---> ⟄ 10181 ---> ⟅ 10182 ---> ⟆ 10183 ---> ⟇ 10184 ---> ⟈ 10185 ---> ⟉ 10186 ---> ⟊ 10187 ---> ⟋ 10188 ---> ⟌ 10189 ---> ⟍ 10190 ---> ⟎ 10191 ---> ⟏ 10192 ---> ⟐ 10193 ---> ⟑ 10194 ---> ⟒ 10195 ---> ⟓ 10196 ---> ⟔ 10197 ---> ⟕ 10198 ---> ⟖ 10199 ---> ⟗ 10200 ---> ⟘ 10201 ---> ⟙ 10202 ---> ⟚ 10203 ---> ⟛ 10204 ---> ⟜ 10205 ---> ⟝ 10206 ---> ⟞ 10207 ---> ⟟ 10208 ---> ⟠ 10209 ---> ⟡ 10210 ---> ⟢ 10211 ---> ⟣ 10212 ---> ⟤ 10213 ---> ⟥ 10214 ---> ⟦ 10215 ---> ⟧ 10216 ---> ⟨ 10217 ---> ⟩ 10218 ---> ⟪ 10219 ---> ⟫ 10220 ---> ⟬ 10221 ---> ⟭ 10222 ---> ⟮ 10223 ---> ⟯ 10224 ---> ⟰ 10225 ---> ⟱ 10226 ---> ⟲ 10227 ---> ⟳ 10228 ---> ⟴ 10229 ---> ⟵ 10230 ---> ⟶ 10231 ---> ⟷ 10232 ---> ⟸ 10233 ---> ⟹ 10234 ---> ⟺ 10235 ---> ⟻ 10236 ---> ⟼ 10237 ---> ⟽ 10238 ---> ⟾ 10239 ---> ⟿ 10240 ---> ⠀ 10241 ---> ⠁ 10242 ---> ⠂ 10243 ---> ⠃ 10244 ---> ⠄ 10245 ---> ⠅ 10246 ---> ⠆ 10247 ---> ⠇ 10248 ---> ⠈ 10249 ---> ⠉ 10250 ---> ⠊ 10251 ---> ⠋ 10252 ---> ⠌ 10253 ---> ⠍ 10254 ---> ⠎ 10255 ---> ⠏ 10256 ---> ⠐ 10257 ---> ⠑ 10258 ---> ⠒ 10259 ---> ⠓ 10260 ---> ⠔ 10261 ---> ⠕ 10262 ---> ⠖ 10263 ---> ⠗ 10264 ---> ⠘ 10265 ---> ⠙ 10266 ---> ⠚ 10267 ---> ⠛ 10268 ---> ⠜ 10269 ---> ⠝ 10270 ---> ⠞ 10271 ---> ⠟ 10272 ---> ⠠ 10273 ---> ⠡ 10274 ---> ⠢ 10275 ---> ⠣ 10276 ---> ⠤ 10277 ---> ⠥ 10278 ---> ⠦ 10279 ---> ⠧ 10280 ---> ⠨ 10281 ---> ⠩ 10282 ---> ⠪ 10283 ---> ⠫ 10284 ---> ⠬ 10285 ---> ⠭ 10286 ---> ⠮ 10287 ---> ⠯ 10288 ---> ⠰ 10289 ---> ⠱ 10290 ---> ⠲ 10291 ---> ⠳ 10292 ---> ⠴ 10293 ---> ⠵ 10294 ---> ⠶ 10295 ---> ⠷ 10296 ---> ⠸ 10297 ---> ⠹ 10298 ---> ⠺ 10299 ---> ⠻ 10300 ---> ⠼ 10301 ---> ⠽ 10302 ---> ⠾ 10303 ---> ⠿ 10304 ---> ⡀ 10305 ---> ⡁ 10306 ---> ⡂ 10307 ---> ⡃ 10308 ---> ⡄ 10309 ---> ⡅ 10310 ---> ⡆ 10311 ---> ⡇ 10312 ---> ⡈ 10313 ---> ⡉ 10314 ---> ⡊ 10315 ---> ⡋ 10316 ---> ⡌ 10317 ---> ⡍ 10318 ---> ⡎ 10319 ---> ⡏ 10320 ---> ⡐ 10321 ---> ⡑ 10322 ---> ⡒ 10323 ---> ⡓ 10324 ---> ⡔ 10325 ---> ⡕ 10326 ---> ⡖ 10327 ---> ⡗ 10328 ---> ⡘ 10329 ---> ⡙ 10330 ---> ⡚ 10331 ---> ⡛ 10332 ---> ⡜ 10333 ---> ⡝ 10334 ---> ⡞ 10335 ---> ⡟ 10336 ---> ⡠ 10337 ---> ⡡ 10338 ---> ⡢ 10339 ---> ⡣ 10340 ---> ⡤ 10341 ---> ⡥ 10342 ---> ⡦ 10343 ---> ⡧ 10344 ---> ⡨ 10345 ---> ⡩ 10346 ---> ⡪ 10347 ---> ⡫ 10348 ---> ⡬ 10349 ---> ⡭ 10350 ---> ⡮ 10351 ---> ⡯ 10352 ---> ⡰ 10353 ---> ⡱ 10354 ---> ⡲ 10355 ---> ⡳ 10356 ---> ⡴ 10357 ---> ⡵ 10358 ---> ⡶ 10359 ---> ⡷ 10360 ---> ⡸ 10361 ---> ⡹ 10362 ---> ⡺ 10363 ---> ⡻ 10364 ---> ⡼ 10365 ---> ⡽ 10366 ---> ⡾ 10367 ---> ⡿ 10368 ---> ⢀ 10369 ---> ⢁ 10370 ---> ⢂ 10371 ---> ⢃ 10372 ---> ⢄ 10373 ---> ⢅ 10374 ---> ⢆ 10375 ---> ⢇ 10376 ---> ⢈ 10377 ---> ⢉ 10378 ---> ⢊ 10379 ---> ⢋ 10380 ---> ⢌ 10381 ---> ⢍ 10382 ---> ⢎ 10383 ---> ⢏ 10384 ---> ⢐ 10385 ---> ⢑ 10386 ---> ⢒ 10387 ---> ⢓ 10388 ---> ⢔ 10389 ---> ⢕ 10390 ---> ⢖ 10391 ---> ⢗ 10392 ---> ⢘ 10393 ---> ⢙ 10394 ---> ⢚ 10395 ---> ⢛ 10396 ---> ⢜ 10397 ---> ⢝ 10398 ---> ⢞ 10399 ---> ⢟ 10400 ---> ⢠ 10401 ---> ⢡ 10402 ---> ⢢ 10403 ---> ⢣ 10404 ---> ⢤ 10405 ---> ⢥ 10406 ---> ⢦ 10407 ---> ⢧ 10408 ---> ⢨ 10409 ---> ⢩ 10410 ---> ⢪ 10411 ---> ⢫ 10412 ---> ⢬ 10413 ---> ⢭ 10414 ---> ⢮ 10415 ---> ⢯ 10416 ---> ⢰ 10417 ---> ⢱ 10418 ---> ⢲ 10419 ---> ⢳ 10420 ---> ⢴ 10421 ---> ⢵ 10422 ---> ⢶ 10423 ---> ⢷ 10424 ---> ⢸ 10425 ---> ⢹ 10426 ---> ⢺ 10427 ---> ⢻ 10428 ---> ⢼ 10429 ---> ⢽ 10430 ---> ⢾ 10431 ---> ⢿ 10432 ---> ⣀ 10433 ---> ⣁ 10434 ---> ⣂ 10435 ---> ⣃ 10436 ---> ⣄ 10437 ---> ⣅ 10438 ---> ⣆ 10439 ---> ⣇ 10440 ---> ⣈ 10441 ---> ⣉ 10442 ---> ⣊ 10443 ---> ⣋ 10444 ---> ⣌ 10445 ---> ⣍ 10446 ---> ⣎ 10447 ---> ⣏ 10448 ---> ⣐ 10449 ---> ⣑ 10450 ---> ⣒ 10451 ---> ⣓ 10452 ---> ⣔ 10453 ---> ⣕ 10454 ---> ⣖ 10455 ---> ⣗ 10456 ---> ⣘ 10457 ---> ⣙ 10458 ---> ⣚ 10459 ---> ⣛ 10460 ---> ⣜ 10461 ---> ⣝ 10462 ---> ⣞ 10463 ---> ⣟ 10464 ---> ⣠ 10465 ---> ⣡ 10466 ---> ⣢ 10467 ---> ⣣ 10468 ---> ⣤ 10469 ---> ⣥ 10470 ---> ⣦ 10471 ---> ⣧ 10472 ---> ⣨ 10473 ---> ⣩ 10474 ---> ⣪ 10475 ---> ⣫ 10476 ---> ⣬ 10477 ---> ⣭ 10478 ---> ⣮ 10479 ---> ⣯ 10480 ---> ⣰ 10481 ---> ⣱ 10482 ---> ⣲ 10483 ---> ⣳ 10484 ---> ⣴ 10485 ---> ⣵ 10486 ---> ⣶ 10487 ---> ⣷ 10488 ---> ⣸ 10489 ---> ⣹ 10490 ---> ⣺ 10491 ---> ⣻ 10492 ---> ⣼ 10493 ---> ⣽ 10494 ---> ⣾ 10495 ---> ⣿ 10496 ---> ⤀ 10497 ---> ⤁ 10498 ---> ⤂ 10499 ---> ⤃ 10500 ---> ⤄ 10501 ---> ⤅ 10502 ---> ⤆ 10503 ---> ⤇ 10504 ---> ⤈ 10505 ---> ⤉ 10506 ---> ⤊ 10507 ---> ⤋ 10508 ---> ⤌ 10509 ---> ⤍ 10510 ---> ⤎ 10511 ---> ⤏ 10512 ---> ⤐ 10513 ---> ⤑ 10514 ---> ⤒ 10515 ---> ⤓ 10516 ---> ⤔ 10517 ---> ⤕ 10518 ---> ⤖ 10519 ---> ⤗ 10520 ---> ⤘ 10521 ---> ⤙ 10522 ---> ⤚ 10523 ---> ⤛ 10524 ---> ⤜ 10525 ---> ⤝ 10526 ---> ⤞ 10527 ---> ⤟ 10528 ---> ⤠ 10529 ---> ⤡ 10530 ---> ⤢ 10531 ---> ⤣ 10532 ---> ⤤ 10533 ---> ⤥ 10534 ---> ⤦ 10535 ---> ⤧ 10536 ---> ⤨ 10537 ---> ⤩ 10538 ---> ⤪ 10539 ---> ⤫ 10540 ---> ⤬ 10541 ---> ⤭ 10542 ---> ⤮ 10543 ---> ⤯ 10544 ---> ⤰ 10545 ---> ⤱ 10546 ---> ⤲ 10547 ---> ⤳ 10548 ---> ⤴ 10549 ---> ⤵ 10550 ---> ⤶ 10551 ---> ⤷ 10552 ---> ⤸ 10553 ---> ⤹ 10554 ---> ⤺ 10555 ---> ⤻ 10556 ---> ⤼ 10557 ---> ⤽ 10558 ---> ⤾ 10559 ---> ⤿ 10560 ---> ⥀ 10561 ---> ⥁ 10562 ---> ⥂ 10563 ---> ⥃ 10564 ---> ⥄ 10565 ---> ⥅ 10566 ---> ⥆ 10567 ---> ⥇ 10568 ---> ⥈ 10569 ---> ⥉ 10570 ---> ⥊ 10571 ---> ⥋ 10572 ---> ⥌ 10573 ---> ⥍ 10574 ---> ⥎ 10575 ---> ⥏ 10576 ---> ⥐ 10577 ---> ⥑ 10578 ---> ⥒ 10579 ---> ⥓ 10580 ---> ⥔ 10581 ---> ⥕ 10582 ---> ⥖ 10583 ---> ⥗ 10584 ---> ⥘ 10585 ---> ⥙ 10586 ---> ⥚ 10587 ---> ⥛ 10588 ---> ⥜ 10589 ---> ⥝ 10590 ---> ⥞ 10591 ---> ⥟ 10592 ---> ⥠ 10593 ---> ⥡ 10594 ---> ⥢ 10595 ---> ⥣ 10596 ---> ⥤ 10597 ---> ⥥ 10598 ---> ⥦ 10599 ---> ⥧ 10600 ---> ⥨ 10601 ---> ⥩ 10602 ---> ⥪ 10603 ---> ⥫ 10604 ---> ⥬ 10605 ---> ⥭ 10606 ---> ⥮ 10607 ---> ⥯ 10608 ---> ⥰ 10609 ---> ⥱ 10610 ---> ⥲ 10611 ---> ⥳ 10612 ---> ⥴ 10613 ---> ⥵ 10614 ---> ⥶ 10615 ---> ⥷ 10616 ---> ⥸ 10617 ---> ⥹ 10618 ---> ⥺ 10619 ---> ⥻ 10620 ---> ⥼ 10621 ---> ⥽ 10622 ---> ⥾ 10623 ---> ⥿ 10624 ---> ⦀ 10625 ---> ⦁ 10626 ---> ⦂ 10627 ---> ⦃ 10628 ---> ⦄ 10629 ---> ⦅ 10630 ---> ⦆ 10631 ---> ⦇ 10632 ---> ⦈ 10633 ---> ⦉ 10634 ---> ⦊ 10635 ---> ⦋ 10636 ---> ⦌ 10637 ---> ⦍ 10638 ---> ⦎ 10639 ---> ⦏ 10640 ---> ⦐ 10641 ---> ⦑ 10642 ---> ⦒ 10643 ---> ⦓ 10644 ---> ⦔ 10645 ---> ⦕ 10646 ---> ⦖ 10647 ---> ⦗ 10648 ---> ⦘ 10649 ---> ⦙ 10650 ---> ⦚ 10651 ---> ⦛ 10652 ---> ⦜ 10653 ---> ⦝ 10654 ---> ⦞ 10655 ---> ⦟ 10656 ---> ⦠ 10657 ---> ⦡ 10658 ---> ⦢ 10659 ---> ⦣ 10660 ---> ⦤ 10661 ---> ⦥ 10662 ---> ⦦ 10663 ---> ⦧ 10664 ---> ⦨ 10665 ---> ⦩ 10666 ---> ⦪ 10667 ---> ⦫ 10668 ---> ⦬ 10669 ---> ⦭ 10670 ---> ⦮ 10671 ---> ⦯ 10672 ---> ⦰ 10673 ---> ⦱ 10674 ---> ⦲ 10675 ---> ⦳ 10676 ---> ⦴ 10677 ---> ⦵ 10678 ---> ⦶ 10679 ---> ⦷ 10680 ---> ⦸ 10681 ---> ⦹ 10682 ---> ⦺ 10683 ---> ⦻ 10684 ---> ⦼ 10685 ---> ⦽ 10686 ---> ⦾ 10687 ---> ⦿ 10688 ---> ⧀ 10689 ---> ⧁ 10690 ---> ⧂ 10691 ---> ⧃ 10692 ---> ⧄ 10693 ---> ⧅ 10694 ---> ⧆ 10695 ---> ⧇ 10696 ---> ⧈ 10697 ---> ⧉ 10698 ---> ⧊ 10699 ---> ⧋ 10700 ---> ⧌ 10701 ---> ⧍ 10702 ---> ⧎ 10703 ---> ⧏ 10704 ---> ⧐ 10705 ---> ⧑ 10706 ---> ⧒ 10707 ---> ⧓ 10708 ---> ⧔ 10709 ---> ⧕ 10710 ---> ⧖ 10711 ---> ⧗ 10712 ---> ⧘ 10713 ---> ⧙ 10714 ---> ⧚ 10715 ---> ⧛ 10716 ---> ⧜ 10717 ---> ⧝ 10718 ---> ⧞ 10719 ---> ⧟ 10720 ---> ⧠ 10721 ---> ⧡ 10722 ---> ⧢ 10723 ---> ⧣ 10724 ---> ⧤ 10725 ---> ⧥ 10726 ---> ⧦ 10727 ---> ⧧ 10728 ---> ⧨ 10729 ---> ⧩ 10730 ---> ⧪ 10731 ---> ⧫ 10732 ---> ⧬ 10733 ---> ⧭ 10734 ---> ⧮ 10735 ---> ⧯ 10736 ---> ⧰ 10737 ---> ⧱ 10738 ---> ⧲ 10739 ---> ⧳ 10740 ---> ⧴ 10741 ---> ⧵ 10742 ---> ⧶ 10743 ---> ⧷ 10744 ---> ⧸ 10745 ---> ⧹ 10746 ---> ⧺ 10747 ---> ⧻ 10748 ---> ⧼ 10749 ---> ⧽ 10750 ---> ⧾ 10751 ---> ⧿ 10752 ---> ⨀ 10753 ---> ⨁ 10754 ---> ⨂ 10755 ---> ⨃ 10756 ---> ⨄ 10757 ---> ⨅ 10758 ---> ⨆ 10759 ---> ⨇ 10760 ---> ⨈ 10761 ---> ⨉ 10762 ---> ⨊ 10763 ---> ⨋ 10764 ---> ⨌ 10765 ---> ⨍ 10766 ---> ⨎ 10767 ---> ⨏ 10768 ---> ⨐ 10769 ---> ⨑ 10770 ---> ⨒ 10771 ---> ⨓ 10772 ---> ⨔ 10773 ---> ⨕ 10774 ---> ⨖ 10775 ---> ⨗ 10776 ---> ⨘ 10777 ---> ⨙ 10778 ---> ⨚ 10779 ---> ⨛ 10780 ---> ⨜ 10781 ---> ⨝ 10782 ---> ⨞ 10783 ---> ⨟ 10784 ---> ⨠ 10785 ---> ⨡ 10786 ---> ⨢ 10787 ---> ⨣ 10788 ---> ⨤ 10789 ---> ⨥ 10790 ---> ⨦ 10791 ---> ⨧ 10792 ---> ⨨ 10793 ---> ⨩ 10794 ---> ⨪ 10795 ---> ⨫ 10796 ---> ⨬ 10797 ---> ⨭ 10798 ---> ⨮ 10799 ---> ⨯ 10800 ---> ⨰ 10801 ---> ⨱ 10802 ---> ⨲ 10803 ---> ⨳ 10804 ---> ⨴ 10805 ---> ⨵ 10806 ---> ⨶ 10807 ---> ⨷ 10808 ---> ⨸ 10809 ---> ⨹ 10810 ---> ⨺ 10811 ---> ⨻ 10812 ---> ⨼ 10813 ---> ⨽ 10814 ---> ⨾ 10815 ---> ⨿ 10816 ---> ⩀ 10817 ---> ⩁ 10818 ---> ⩂ 10819 ---> ⩃ 10820 ---> ⩄ 10821 ---> ⩅ 10822 ---> ⩆ 10823 ---> ⩇ 10824 ---> ⩈ 10825 ---> ⩉ 10826 ---> ⩊ 10827 ---> ⩋ 10828 ---> ⩌ 10829 ---> ⩍ 10830 ---> ⩎ 10831 ---> ⩏ 10832 ---> ⩐ 10833 ---> ⩑ 10834 ---> ⩒ 10835 ---> ⩓ 10836 ---> ⩔ 10837 ---> ⩕ 10838 ---> ⩖ 10839 ---> ⩗ 10840 ---> ⩘ 10841 ---> ⩙ 10842 ---> ⩚ 10843 ---> ⩛ 10844 ---> ⩜ 10845 ---> ⩝ 10846 ---> ⩞ 10847 ---> ⩟ 10848 ---> ⩠ 10849 ---> ⩡ 10850 ---> ⩢ 10851 ---> ⩣ 10852 ---> ⩤ 10853 ---> ⩥ 10854 ---> ⩦ 10855 ---> ⩧ 10856 ---> ⩨ 10857 ---> ⩩ 10858 ---> ⩪ 10859 ---> ⩫ 10860 ---> ⩬ 10861 ---> ⩭ 10862 ---> ⩮ 10863 ---> ⩯ 10864 ---> ⩰ 10865 ---> ⩱ 10866 ---> ⩲ 10867 ---> ⩳ 10868 ---> ⩴ 10869 ---> ⩵ 10870 ---> ⩶ 10871 ---> ⩷ 10872 ---> ⩸ 10873 ---> ⩹ 10874 ---> ⩺ 10875 ---> ⩻ 10876 ---> ⩼ 10877 ---> ⩽ 10878 ---> ⩾ 10879 ---> ⩿ 10880 ---> ⪀ 10881 ---> ⪁ 10882 ---> ⪂ 10883 ---> ⪃ 10884 ---> ⪄ 10885 ---> ⪅ 10886 ---> ⪆ 10887 ---> ⪇ 10888 ---> ⪈ 10889 ---> ⪉ 10890 ---> ⪊ 10891 ---> ⪋ 10892 ---> ⪌ 10893 ---> ⪍ 10894 ---> ⪎ 10895 ---> ⪏ 10896 ---> ⪐ 10897 ---> ⪑ 10898 ---> ⪒ 10899 ---> ⪓ 10900 ---> ⪔ 10901 ---> ⪕ 10902 ---> ⪖ 10903 ---> ⪗ 10904 ---> ⪘ 10905 ---> ⪙ 10906 ---> ⪚ 10907 ---> ⪛ 10908 ---> ⪜ 10909 ---> ⪝ 10910 ---> ⪞ 10911 ---> ⪟ 10912 ---> ⪠ 10913 ---> ⪡ 10914 ---> ⪢ 10915 ---> ⪣ 10916 ---> ⪤ 10917 ---> ⪥ 10918 ---> ⪦ 10919 ---> ⪧ 10920 ---> ⪨ 10921 ---> ⪩ 10922 ---> ⪪ 10923 ---> ⪫ 10924 ---> ⪬ 10925 ---> ⪭ 10926 ---> ⪮ 10927 ---> ⪯ 10928 ---> ⪰ 10929 ---> ⪱ 10930 ---> ⪲ 10931 ---> ⪳ 10932 ---> ⪴ 10933 ---> ⪵ 10934 ---> ⪶ 10935 ---> ⪷ 10936 ---> ⪸ 10937 ---> ⪹ 10938 ---> ⪺ 10939 ---> ⪻ 10940 ---> ⪼ 10941 ---> ⪽ 10942 ---> ⪾ 10943 ---> ⪿ 10944 ---> ⫀ 10945 ---> ⫁ 10946 ---> ⫂ 10947 ---> ⫃ 10948 ---> ⫄ 10949 ---> ⫅ 10950 ---> ⫆ 10951 ---> ⫇ 10952 ---> ⫈ 10953 ---> ⫉ 10954 ---> ⫊ 10955 ---> ⫋ 10956 ---> ⫌ 10957 ---> ⫍ 10958 ---> ⫎ 10959 ---> ⫏ 10960 ---> ⫐ 10961 ---> ⫑ 10962 ---> ⫒ 10963 ---> ⫓ 10964 ---> ⫔ 10965 ---> ⫕ 10966 ---> ⫖ 10967 ---> ⫗ 10968 ---> ⫘ 10969 ---> ⫙ 10970 ---> ⫚ 10971 ---> ⫛ 10972 ---> ⫝̸ 10973 ---> ⫝ 10974 ---> ⫞ 10975 ---> ⫟ 10976 ---> ⫠ 10977 ---> ⫡ 10978 ---> ⫢ 10979 ---> ⫣ 10980 ---> ⫤ 10981 ---> ⫥ 10982 ---> ⫦ 10983 ---> ⫧ 10984 ---> ⫨ 10985 ---> ⫩ 10986 ---> ⫪ 10987 ---> ⫫ 10988 ---> ⫬ 10989 ---> ⫭ 10990 ---> ⫮ 10991 ---> ⫯ 10992 ---> ⫰ 10993 ---> ⫱ 10994 ---> ⫲ 10995 ---> ⫳ 10996 ---> ⫴ 10997 ---> ⫵ 10998 ---> ⫶ 10999 ---> ⫷ "
     ]
    }
   ],
   "source": [
    "for i in range(10000,11000):\n",
    "    print(i,'--->',chr(i),end=' ')"
   ]
  },
  {
   "cell_type": "code",
   "execution_count": 32,
   "id": "a7403dda-b7ee-4511-a647-42e53398fcb1",
   "metadata": {},
   "outputs": [
    {
     "name": "stdout",
     "output_type": "stream",
     "text": [
      "2821 ---> ଅ 2822 ---> ଆ 2823 ---> ଇ 2824 ---> ଈ 2825 ---> ଉ 2826 ---> ଊ 2827 ---> ଋ 2828 ---> ଌ 2829 ---> ଍ 2830 ---> ଎ 2831 ---> ଏ 2832 ---> ଐ 2833 ---> ଑ 2834 ---> ଒ 2835 ---> ଓ 2836 ---> ଔ 2837 ---> କ 2838 ---> ଖ 2839 ---> ଗ 2840 ---> ଘ 2841 ---> ଙ 2842 ---> ଚ 2843 ---> ଛ 2844 ---> ଜ 2845 ---> ଝ 2846 ---> ଞ 2847 ---> ଟ 2848 ---> ଠ 2849 ---> ଡ 2850 ---> ଢ 2851 ---> ଣ 2852 ---> ତ 2853 ---> ଥ 2854 ---> ଦ 2855 ---> ଧ 2856 ---> ନ 2857 ---> ଩ 2858 ---> ପ 2859 ---> ଫ 2860 ---> ବ 2861 ---> ଭ 2862 ---> ମ 2863 ---> ଯ 2864 ---> ର 2865 ---> ଱ 2866 ---> ଲ 2867 ---> ଳ 2868 ---> ଴ 2869 ---> ଵ 2870 ---> ଶ 2871 ---> ଷ 2872 ---> ସ 2873 ---> ହ 2874 ---> ଺ 2875 ---> ଻ 2876 ---> ଼ 2877 ---> ଽ 2878 ---> ା 2879 ---> ି 2880 ---> ୀ 2881 ---> ୁ 2882 ---> ୂ 2883 ---> ୃ 2884 ---> ୄ 2885 ---> ୅ 2886 ---> ୆ 2887 ---> େ 2888 ---> ୈ 2889 ---> ୉ 2890 ---> ୊ 2891 ---> ୋ 2892 ---> ୌ "
     ]
    }
   ],
   "source": [
    "for i in range(2821,2893):\n",
    "    print(i,'--->',chr(i),end=' ')"
   ]
  },
  {
   "cell_type": "code",
   "execution_count": 33,
   "id": "05f480ea-2e60-47ac-b53d-e2163bfa7904",
   "metadata": {},
   "outputs": [
    {
     "name": "stdout",
     "output_type": "stream",
     "text": [
      "2306 ---> ं 2307 ---> ः 2308 ---> ऄ 2309 ---> अ 2310 ---> आ 2311 ---> इ 2312 ---> ई 2313 ---> उ 2314 ---> ऊ 2315 ---> ऋ 2316 ---> ऌ 2317 ---> ऍ 2318 ---> ऎ 2319 ---> ए 2320 ---> ऐ 2321 ---> ऑ 2322 ---> ऒ 2323 ---> ओ 2324 ---> औ 2325 ---> क 2326 ---> ख 2327 ---> ग 2328 ---> घ 2329 ---> ङ 2330 ---> च 2331 ---> छ 2332 ---> ज 2333 ---> झ 2334 ---> ञ 2335 ---> ट 2336 ---> ठ 2337 ---> ड 2338 ---> ढ 2339 ---> ण 2340 ---> त 2341 ---> थ 2342 ---> द 2343 ---> ध 2344 ---> न 2345 ---> ऩ 2346 ---> प 2347 ---> फ 2348 ---> ब 2349 ---> भ 2350 ---> म 2351 ---> य 2352 ---> र 2353 ---> ऱ 2354 ---> ल 2355 ---> ळ 2356 ---> ऴ 2357 ---> व 2358 ---> श 2359 ---> ष 2360 ---> स 2361 ---> ह 2362 ---> ऺ 2363 ---> ऻ 2364 ---> ़ 2365 ---> ऽ 2366 ---> ा 2367 ---> ि 2368 ---> ी 2369 ---> ु 2370 ---> ू 2371 ---> ृ 2372 ---> ॄ 2373 ---> ॅ 2374 ---> ॆ 2375 ---> े 2376 ---> ै 2377 ---> ॉ 2378 ---> ॊ 2379 ---> ो 2380 ---> ौ 2381 ---> ् 2382 ---> ॎ 2383 ---> ॏ 2384 ---> ॐ 2385 ---> ॑ 2386 ---> ॒ 2387 ---> ॓ 2388 ---> ॔ 2389 ---> ॕ 2390 ---> ॖ 2391 ---> ॗ 2392 ---> क़ 2393 ---> ख़ 2394 ---> ग़ 2395 ---> ज़ 2396 ---> ड़ 2397 ---> ढ़ 2398 ---> फ़ 2399 ---> य़ 2400 ---> ॠ 2401 ---> ॡ 2402 ---> ॢ 2403 ---> ॣ 2404 ---> । 2405 ---> ॥ 2406 ---> ० 2407 ---> १ 2408 ---> २ 2409 ---> ३ 2410 ---> ४ 2411 ---> ५ 2412 ---> ६ 2413 ---> ७ 2414 ---> ८ 2415 ---> ९ 2416 ---> ॰ 2417 ---> ॱ 2418 ---> ॲ 2419 ---> ॳ 2420 ---> ॴ 2421 ---> ॵ 2422 ---> ॶ 2423 ---> ॷ 2424 ---> ॸ 2425 ---> ॹ 2426 ---> ॺ 2427 ---> ॻ 2428 ---> ॼ 2429 ---> ॽ 2430 ---> ॾ 2431 ---> ॿ 2432 ---> ঀ 2433 ---> ঁ 2434 ---> ং 2435 ---> ঃ "
     ]
    }
   ],
   "source": [
    "for i in range(2306,2436):\n",
    "    print(i,'--->',chr(i),end=' ')"
   ]
  },
  {
   "cell_type": "code",
   "execution_count": 47,
   "id": "5da4093b-035b-4bc0-9108-5334a24f37f8",
   "metadata": {},
   "outputs": [
    {
     "name": "stdout",
     "output_type": "stream",
     "text": [
      "A 65\n",
      "B 66\n",
      "C 67\n",
      "D 68\n",
      "E 69\n",
      "F 70\n",
      "G 71\n",
      "H 72\n",
      "I 73\n",
      "J 74\n",
      "K 75\n",
      "L 76\n",
      "M 77\n",
      "N 78\n",
      "O 79\n",
      "P 80\n",
      "Q 81\n",
      "R 82\n",
      "S 83\n",
      "T 84\n",
      "U 85\n",
      "V 86\n",
      "W 87\n",
      "X 88\n",
      "Y 89\n",
      "Z 90\n"
     ]
    }
   ],
   "source": [
    "import string\n",
    "for i in string.ascii_uppercase:\n",
    "    print(i,ord(i))"
   ]
  },
  {
   "cell_type": "code",
   "execution_count": 48,
   "id": "db6a1462-fa96-4aa8-951c-b788ae0ad9cb",
   "metadata": {},
   "outputs": [
    {
     "data": {
      "text/plain": [
       "['Formatter',\n",
       " 'Template',\n",
       " '_ChainMap',\n",
       " '__all__',\n",
       " '__builtins__',\n",
       " '__cached__',\n",
       " '__doc__',\n",
       " '__file__',\n",
       " '__loader__',\n",
       " '__name__',\n",
       " '__package__',\n",
       " '__spec__',\n",
       " '_re',\n",
       " '_sentinel_dict',\n",
       " '_string',\n",
       " 'ascii_letters',\n",
       " 'ascii_lowercase',\n",
       " 'ascii_uppercase',\n",
       " 'capwords',\n",
       " 'digits',\n",
       " 'hexdigits',\n",
       " 'octdigits',\n",
       " 'printable',\n",
       " 'punctuation',\n",
       " 'whitespace']"
      ]
     },
     "execution_count": 48,
     "metadata": {},
     "output_type": "execute_result"
    }
   ],
   "source": [
    "import string\n",
    "dir(string)"
   ]
  },
  {
   "cell_type": "markdown",
   "id": "d5158e59-5c04-45a5-8831-ade4a4884ee0",
   "metadata": {},
   "source": [
    "**iterator**"
   ]
  },
  {
   "cell_type": "markdown",
   "id": "1ce43a1f-e95f-4a6f-ba75-30256ddf1ad8",
   "metadata": {},
   "source": [
    "- in operator access direct elements which is called iterator\n",
    "\n",
    "- iterator means\n",
    "\n",
    "    - String\n",
    "\n",
    "    - list\n",
    "\n",
    "    - tuple\n",
    "\n",
    "    - dict\n",
    "\n",
    "- iterator means which can be print by using for loop\n",
    "\n",
    "- whenever we use in operator do not give the number\n",
    "\n",
    "- whenever we use range operator do not give any iterator\n",
    "\n",
    "- range needs only a number."
   ]
  },
  {
   "cell_type": "code",
   "execution_count": 50,
   "id": "bf062144-272d-4a4f-8ae3-350b6287163e",
   "metadata": {},
   "outputs": [
    {
     "data": {
      "text/plain": [
       "['h', 'n', 'o', 'p', 't', 'y']"
      ]
     },
     "execution_count": 50,
     "metadata": {},
     "output_type": "execute_result"
    }
   ],
   "source": [
    "sorted('python')"
   ]
  },
  {
   "cell_type": "code",
   "execution_count": null,
   "id": "b9a90057-65d9-4d8f-bda7-7f92c09a73b5",
   "metadata": {},
   "outputs": [],
   "source": []
  }
 ],
 "metadata": {
  "kernelspec": {
   "display_name": "Python 3 (ipykernel)",
   "language": "python",
   "name": "python3"
  },
  "language_info": {
   "codemirror_mode": {
    "name": "ipython",
    "version": 3
   },
   "file_extension": ".py",
   "mimetype": "text/x-python",
   "name": "python",
   "nbconvert_exporter": "python",
   "pygments_lexer": "ipython3",
   "version": "3.12.4"
  }
 },
 "nbformat": 4,
 "nbformat_minor": 5
}
