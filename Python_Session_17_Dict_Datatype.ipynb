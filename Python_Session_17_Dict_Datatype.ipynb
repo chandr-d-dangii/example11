{
 "cells": [
  {
   "cell_type": "code",
   "execution_count": 7,
   "id": "33ffc4ea-0145-4cc0-94f6-11c540a3dc2f",
   "metadata": {},
   "outputs": [
    {
     "name": "stdout",
     "output_type": "stream",
     "text": [
      "Ramesh age is 20\n",
      "Suresh age is 30\n",
      "Sathish age is 40\n"
     ]
    }
   ],
   "source": [
    "l1=['Ramesh','Suresh','Sathish']\n",
    "l2=[20,30,40]\n",
    "for i in range(len(l1)):\n",
    "    print(f'{l1[i]} age is {l2[i]}')\n",
    "    "
   ]
  },
  {
   "cell_type": "markdown",
   "id": "ccc53f05-ad12-4a96-8f44-0ade509a1fe9",
   "metadata": {},
   "source": [
    "$zip$\n",
    "\n",
    "- combine two list"
   ]
  },
  {
   "cell_type": "code",
   "execution_count": 10,
   "id": "0258c09d-de4c-42ea-aa2a-0c5966c78172",
   "metadata": {},
   "outputs": [
    {
     "name": "stdout",
     "output_type": "stream",
     "text": [
      "Ramesh has age is 20 and he is from Hyd\n",
      "Suresh has age is 30 and he is from Mimbai\n",
      "Sathish has age is 40 and he is from Chennai\n"
     ]
    }
   ],
   "source": [
    "l1=['Ramesh','Suresh','Sathish']\n",
    "l2=[20,30,40]\n",
    "l3=['Hyd','Mimbai','Chennai']\n",
    "for i,j,k in zip(l1,l2,l3):\n",
    "    print(f\"{i} has age is {j} and he is from {k}\")"
   ]
  },
  {
   "cell_type": "markdown",
   "id": "4ffa639e-02fd-4a27-a936-2113bfa16276",
   "metadata": {},
   "source": [
    "**Dictionary**\n",
    "\n",
    "- string represnent in quotes\n",
    "\n",
    "- list represent in square bracket \n",
    "\n",
    "- tuple represent in parnthases\n",
    "\n",
    "- set represent in curly braces with only one value\n",
    "\n",
    "- dict also represent in curly braces with two values\n",
    "\n",
    "- dict has key:value pair\n",
    "\n",
    "- dict elements are in pair \n",
    "\n",
    "    - one elements is called as **key**\n",
    "\n",
    "    - another elements is called as **value**"
   ]
  },
  {
   "cell_type": "code",
   "execution_count": null,
   "id": "2eeb3ae7-4cfd-4429-8068-be060e3ad128",
   "metadata": {},
   "outputs": [],
   "source": [
    "l1=['Ramesh','Suresh','Sathish']\n",
    "l2=[20,30,40]\n",
    "\n",
    "{key:value}\n",
    "{key1:value1,key2:value2,key3:value3}"
   ]
  },
  {
   "cell_type": "code",
   "execution_count": 11,
   "id": "c97e6fa0-57d3-46a8-b067-d8b3412a58aa",
   "metadata": {},
   "outputs": [
    {
     "data": {
      "text/plain": [
       "{'Ramesh': 20, 'Suresh': 30, 'Sathish': 40}"
      ]
     },
     "execution_count": 11,
     "metadata": {},
     "output_type": "execute_result"
    }
   ],
   "source": [
    "dict1={'Ramesh':20,\"Suresh\":30,'Sathish':40}\n",
    "dict1"
   ]
  },
  {
   "cell_type": "code",
   "execution_count": 12,
   "id": "7c30122b-6c9f-4851-83ee-0590a019a087",
   "metadata": {},
   "outputs": [
    {
     "data": {
      "text/plain": [
       "dict"
      ]
     },
     "execution_count": 12,
     "metadata": {},
     "output_type": "execute_result"
    }
   ],
   "source": [
    "type(dict1)"
   ]
  },
  {
   "cell_type": "markdown",
   "id": "22699a33-3c64-4097-b1f7-d6136468fcb8",
   "metadata": {},
   "source": [
    "**intialization**"
   ]
  },
  {
   "cell_type": "code",
   "execution_count": null,
   "id": "99c5a2c0-56f6-4887-93cb-66cfc4cf3a89",
   "metadata": {},
   "outputs": [],
   "source": [
    "dict1={'Ramesh':20,\"Suresh\":30,'Sathish':40}\n",
    "\n",
    "#key int value string\n",
    "# key string value list vice versa\n",
    "# key list value"
   ]
  },
  {
   "cell_type": "code",
   "execution_count": 13,
   "id": "4169a0ea-2b1f-4122-86ed-5ba0585479fc",
   "metadata": {},
   "outputs": [
    {
     "data": {
      "text/plain": [
       "{20: 'Ramesh', 30: 'Suresh', 40: 'Sathish'}"
      ]
     },
     "execution_count": 13,
     "metadata": {},
     "output_type": "execute_result"
    }
   ],
   "source": [
    "dict2={20:'Ramesh',30:'Suresh',40:'Sathish'}\n",
    "dict2"
   ]
  },
  {
   "cell_type": "code",
   "execution_count": 15,
   "id": "6c6513c6-f348-45d2-8365-1b40547ce028",
   "metadata": {},
   "outputs": [
    {
     "data": {
      "text/plain": [
       "{'Kal': [10, 10], 'Sahu': [[20], [30]], 'Sourabh': [30]}"
      ]
     },
     "execution_count": 15,
     "metadata": {},
     "output_type": "execute_result"
    }
   ],
   "source": [
    "dict3={'Kal':[10,10],'Sahu':[[20],[30]],'Sourabh':[30]}\n",
    "dict3"
   ]
  },
  {
   "cell_type": "code",
   "execution_count": 16,
   "id": "db168a68-6946-4f87-b72f-5a476a08e272",
   "metadata": {},
   "outputs": [
    {
     "ename": "TypeError",
     "evalue": "unhashable type: 'list'",
     "output_type": "error",
     "traceback": [
      "\u001b[1;31m---------------------------------------------------------------------------\u001b[0m",
      "\u001b[1;31mTypeError\u001b[0m                                 Traceback (most recent call last)",
      "Cell \u001b[1;32mIn[16], line 1\u001b[0m\n\u001b[1;32m----> 1\u001b[0m dict4\u001b[38;5;241m=\u001b[39m{[\u001b[38;5;241m10\u001b[39m,\u001b[38;5;241m20\u001b[39m,\u001b[38;5;241m30\u001b[39m]:\u001b[38;5;124m'\u001b[39m\u001b[38;5;124mSahu\u001b[39m\u001b[38;5;124m'\u001b[39m,[\u001b[38;5;241m20\u001b[39m,\u001b[38;5;241m45\u001b[39m]:\u001b[38;5;124m'\u001b[39m\u001b[38;5;124mKal\u001b[39m\u001b[38;5;124m'\u001b[39m,[\u001b[38;5;241m25\u001b[39m]:\u001b[38;5;124m'\u001b[39m\u001b[38;5;124mSourabh\u001b[39m\u001b[38;5;124m'\u001b[39m}\n\u001b[0;32m      2\u001b[0m dict4\n",
      "\u001b[1;31mTypeError\u001b[0m: unhashable type: 'list'"
     ]
    }
   ],
   "source": [
    "dict4={[10,20,30]:'Sahu',[20,45]:'Kal',[25]:'Sourabh'}\n",
    "dict4"
   ]
  },
  {
   "cell_type": "code",
   "execution_count": 17,
   "id": "7e4e2466-4357-4e5f-8f12-3a6ff6fc01aa",
   "metadata": {},
   "outputs": [
    {
     "data": {
      "text/plain": [
       "{(20, 10): 'Ksl', (45, 85): 'Sahu', (25.5, 85.64): 'Sourabh'}"
      ]
     },
     "execution_count": 17,
     "metadata": {},
     "output_type": "execute_result"
    }
   ],
   "source": [
    "dict5={(20,10):'Ksl',(45,85):'Sahu',(25.5,85.64):'Sourabh'}\n",
    "dict5"
   ]
  },
  {
   "cell_type": "markdown",
   "id": "520bfa6f-472a-4fbe-b219-f177e6626cdd",
   "metadata": {},
   "source": [
    "- list is mutable\n",
    "\n",
    "- tuple is immutable \n",
    "\n",
    "- list can not be key\n",
    "\n",
    "- **keys** are very important"
   ]
  },
  {
   "cell_type": "code",
   "execution_count": 18,
   "id": "6941aab7-fcce-4b5e-87a4-c56541042ec1",
   "metadata": {},
   "outputs": [
    {
     "data": {
      "text/plain": [
       "3"
      ]
     },
     "execution_count": 18,
     "metadata": {},
     "output_type": "execute_result"
    }
   ],
   "source": [
    "dict1={'Ramesh':20,\"Suresh\":30,'Sathish':40}\n",
    "len(dict1)"
   ]
  },
  {
   "cell_type": "code",
   "execution_count": 19,
   "id": "a9a0a678-a095-4be5-b4fd-06c1c9cf2e82",
   "metadata": {},
   "outputs": [
    {
     "data": {
      "text/plain": [
       "'Suresh'"
      ]
     },
     "execution_count": 19,
     "metadata": {},
     "output_type": "execute_result"
    }
   ],
   "source": [
    "dict1={'Ramesh':20,\"Suresh\":30,'Sathish':40}\n",
    "max(dict1)"
   ]
  },
  {
   "cell_type": "code",
   "execution_count": 20,
   "id": "bbf614a3-df0d-4596-8800-e40b0699f009",
   "metadata": {},
   "outputs": [
    {
     "data": {
      "text/plain": [
       "'Ramesh'"
      ]
     },
     "execution_count": 20,
     "metadata": {},
     "output_type": "execute_result"
    }
   ],
   "source": [
    "dict1={'Ramesh':20,\"Suresh\":30,'Sathish':40}\n",
    "min(dict1)"
   ]
  },
  {
   "cell_type": "code",
   "execution_count": 21,
   "id": "4553ef9d-cdd1-4ff2-9468-bf09a0990992",
   "metadata": {},
   "outputs": [
    {
     "data": {
      "text/plain": [
       "['Ramesh', 'Sathish', 'Suresh']"
      ]
     },
     "execution_count": 21,
     "metadata": {},
     "output_type": "execute_result"
    }
   ],
   "source": [
    "sorted(dict1)"
   ]
  },
  {
   "cell_type": "code",
   "execution_count": 25,
   "id": "d1a78b60-d420-434c-8a6c-75a5651a2f70",
   "metadata": {},
   "outputs": [
    {
     "data": {
      "text/plain": [
       "['Sathish', 'Suresh', 'Ramesh']"
      ]
     },
     "execution_count": 25,
     "metadata": {},
     "output_type": "execute_result"
    }
   ],
   "source": [
    "list(reversed(dict1))"
   ]
  },
  {
   "cell_type": "code",
   "execution_count": 26,
   "id": "07984587-4896-4f33-bd1b-cc535d9c4f5b",
   "metadata": {},
   "outputs": [
    {
     "ename": "TypeError",
     "evalue": "unsupported operand type(s) for +: 'int' and 'str'",
     "output_type": "error",
     "traceback": [
      "\u001b[1;31m---------------------------------------------------------------------------\u001b[0m",
      "\u001b[1;31mTypeError\u001b[0m                                 Traceback (most recent call last)",
      "Cell \u001b[1;32mIn[26], line 1\u001b[0m\n\u001b[1;32m----> 1\u001b[0m \u001b[38;5;28msum\u001b[39m(dict1)\n",
      "\u001b[1;31mTypeError\u001b[0m: unsupported operand type(s) for +: 'int' and 'str'"
     ]
    }
   ],
   "source": [
    "sum(dict1)"
   ]
  },
  {
   "cell_type": "code",
   "execution_count": 28,
   "id": "f6684c11-c197-491f-979a-45cce7cf3cec",
   "metadata": {},
   "outputs": [
    {
     "name": "stdout",
     "output_type": "stream",
     "text": [
      "3\n",
      "Suresh\n",
      "Ramesh\n",
      "['Ramesh', 'Sathish', 'Suresh']\n",
      "['Sathish', 'Suresh', 'Ramesh']\n"
     ]
    },
    {
     "ename": "TypeError",
     "evalue": "unsupported operand type(s) for +: 'int' and 'str'",
     "output_type": "error",
     "traceback": [
      "\u001b[1;31m---------------------------------------------------------------------------\u001b[0m",
      "\u001b[1;31mTypeError\u001b[0m                                 Traceback (most recent call last)",
      "Cell \u001b[1;32mIn[28], line 7\u001b[0m\n\u001b[0;32m      5\u001b[0m \u001b[38;5;28mprint\u001b[39m(\u001b[38;5;28msorted\u001b[39m(d2))\n\u001b[0;32m      6\u001b[0m \u001b[38;5;28mprint\u001b[39m(\u001b[38;5;28mlist\u001b[39m(\u001b[38;5;28mreversed\u001b[39m(d2)))\n\u001b[1;32m----> 7\u001b[0m \u001b[38;5;28mprint\u001b[39m(\u001b[38;5;28msum\u001b[39m(d2))\n",
      "\u001b[1;31mTypeError\u001b[0m: unsupported operand type(s) for +: 'int' and 'str'"
     ]
    }
   ],
   "source": [
    "d2={'Ramesh':'20','Suresh':'30','Sathish':'40'}\n",
    "print(len(d2))\n",
    "print(max(d2))\n",
    "print(min(d2))\n",
    "print(sorted(d2))\n",
    "print(list(reversed(d2)))\n",
    "print(sum(d2))"
   ]
  },
  {
   "cell_type": "code",
   "execution_count": 29,
   "id": "06f64d72-0554-4800-8720-a5f8d8731de9",
   "metadata": {},
   "outputs": [
    {
     "name": "stdout",
     "output_type": "stream",
     "text": [
      "3\n",
      "Suresh\n",
      "Ramesh\n",
      "['Ramesh', 'Sathish', 'Suresh']\n",
      "['Sathish', 'Suresh', 'Ramesh']\n"
     ]
    },
    {
     "ename": "TypeError",
     "evalue": "unsupported operand type(s) for +: 'int' and 'str'",
     "output_type": "error",
     "traceback": [
      "\u001b[1;31m---------------------------------------------------------------------------\u001b[0m",
      "\u001b[1;31mTypeError\u001b[0m                                 Traceback (most recent call last)",
      "Cell \u001b[1;32mIn[29], line 7\u001b[0m\n\u001b[0;32m      5\u001b[0m \u001b[38;5;28mprint\u001b[39m(\u001b[38;5;28msorted\u001b[39m(d2))\n\u001b[0;32m      6\u001b[0m \u001b[38;5;28mprint\u001b[39m(\u001b[38;5;28mlist\u001b[39m(\u001b[38;5;28mreversed\u001b[39m(d2)))\n\u001b[1;32m----> 7\u001b[0m \u001b[38;5;28mprint\u001b[39m(\u001b[38;5;28msum\u001b[39m(d2))\n",
      "\u001b[1;31mTypeError\u001b[0m: unsupported operand type(s) for +: 'int' and 'str'"
     ]
    }
   ],
   "source": [
    "d3={20:'Ramesh',30:'Suresh',40:'Sathish'}\n",
    "print(len(d2))\n",
    "print(max(d2))\n",
    "print(min(d2))\n",
    "print(sorted(d2))\n",
    "print(list(reversed(d2)))\n",
    "print(sum(d2))"
   ]
  },
  {
   "cell_type": "code",
   "execution_count": 30,
   "id": "b063ef4e-01bf-45a3-b6bb-7c186b18dd5f",
   "metadata": {},
   "outputs": [
    {
     "name": "stdout",
     "output_type": "stream",
     "text": [
      "3\n",
      "Suresh\n",
      "Ramesh\n",
      "['Ramesh', 'Sathish', 'Suresh']\n",
      "['Sathish', 'Suresh', 'Ramesh']\n"
     ]
    },
    {
     "ename": "TypeError",
     "evalue": "unsupported operand type(s) for +: 'int' and 'str'",
     "output_type": "error",
     "traceback": [
      "\u001b[1;31m---------------------------------------------------------------------------\u001b[0m",
      "\u001b[1;31mTypeError\u001b[0m                                 Traceback (most recent call last)",
      "Cell \u001b[1;32mIn[30], line 7\u001b[0m\n\u001b[0;32m      5\u001b[0m \u001b[38;5;28mprint\u001b[39m(\u001b[38;5;28msorted\u001b[39m(d2))\n\u001b[0;32m      6\u001b[0m \u001b[38;5;28mprint\u001b[39m(\u001b[38;5;28mlist\u001b[39m(\u001b[38;5;28mreversed\u001b[39m(d2)))\n\u001b[1;32m----> 7\u001b[0m \u001b[38;5;28mprint\u001b[39m(\u001b[38;5;28msum\u001b[39m(d2))\n",
      "\u001b[1;31mTypeError\u001b[0m: unsupported operand type(s) for +: 'int' and 'str'"
     ]
    }
   ],
   "source": [
    "d4={'Ramesh':'20','Suresh':30,40:'Sathish'}\n",
    "print(len(d2))\n",
    "print(max(d2))\n",
    "print(min(d2))\n",
    "print(sorted(d2))\n",
    "print(list(reversed(d2)))\n",
    "print(sum(d2))"
   ]
  },
  {
   "cell_type": "code",
   "execution_count": 32,
   "id": "fe296303-5a07-4ce6-b1ad-d8fda8961336",
   "metadata": {},
   "outputs": [
    {
     "name": "stdout",
     "output_type": "stream",
     "text": [
      "634\n"
     ]
    }
   ],
   "source": [
    "str1='Suresh'\n",
    "summ=0\n",
    "for i in str1:\n",
    "    summ=summ+ord(i)\n",
    "print(summ)"
   ]
  },
  {
   "cell_type": "code",
   "execution_count": 33,
   "id": "f90bde43-3a36-434e-a6e4-ca33489dfd17",
   "metadata": {},
   "outputs": [
    {
     "name": "stdout",
     "output_type": "stream",
     "text": [
      "608\n"
     ]
    }
   ],
   "source": [
    "str1='Ramesh'\n",
    "summ=0\n",
    "for i in str1:\n",
    "    summ=summ+ord(i)\n",
    "print(summ)"
   ]
  },
  {
   "cell_type": "code",
   "execution_count": 35,
   "id": "a896a48d-28d1-4831-9252-a0aa5d887ca8",
   "metadata": {},
   "outputs": [
    {
     "name": "stdout",
     "output_type": "stream",
     "text": [
      "724\n"
     ]
    }
   ],
   "source": [
    "str2='Sathish'\n",
    "summ=0\n",
    "for i in str1:\n",
    "    summ=summ+ord(i)\n",
    "print(summ)"
   ]
  },
  {
   "cell_type": "code",
   "execution_count": 36,
   "id": "e3fe3886-1382-4215-a163-5dea5374ea49",
   "metadata": {},
   "outputs": [
    {
     "name": "stdout",
     "output_type": "stream",
     "text": [
      "S 83\n",
      "a 97\n",
      "t 116\n",
      "h 104\n",
      "i 105\n",
      "s 115\n",
      "h 104\n"
     ]
    }
   ],
   "source": [
    "for i in str2:\n",
    "    print(i,ord(i))"
   ]
  },
  {
   "cell_type": "code",
   "execution_count": 37,
   "id": "d3f9702c-f5b4-4ad3-9d86-9695202d8cf1",
   "metadata": {},
   "outputs": [
    {
     "data": {
      "text/plain": [
       "724"
      ]
     },
     "execution_count": 37,
     "metadata": {},
     "output_type": "execute_result"
    }
   ],
   "source": []
  },
  {
   "cell_type": "code",
   "execution_count": null,
   "id": "2a51fbed-817d-466f-984a-a369dfe957ed",
   "metadata": {},
   "outputs": [],
   "source": [
    "- Max/Min/sorted"
   ]
  },
  {
   "cell_type": "markdown",
   "id": "48ee7957-b001-4a7d-a531-d86b4bcdfead",
   "metadata": {},
   "source": [
    "**index**"
   ]
  },
  {
   "cell_type": "code",
   "execution_count": 39,
   "id": "def33cf1-6f4b-40b4-9641-7b526b0feafc",
   "metadata": {},
   "outputs": [
    {
     "data": {
      "text/plain": [
       "20"
      ]
     },
     "execution_count": 39,
     "metadata": {},
     "output_type": "execute_result"
    }
   ],
   "source": [
    "dict1={'Ramesh':20,\"Suresh\":30,'Sathish':40}\n",
    "dict1['Ramesh']"
   ]
  },
  {
   "cell_type": "code",
   "execution_count": 45,
   "id": "1e575c50-77ee-442d-994b-afea4a588a71",
   "metadata": {},
   "outputs": [
    {
     "name": "stdout",
     "output_type": "stream",
     "text": [
      "Ramesh 20\n",
      "Ramesh has age : 20\n",
      "Suresh 30\n",
      "Suresh has age : 30\n",
      "Sathish 40\n",
      "Sathish has age : 40\n"
     ]
    }
   ],
   "source": [
    "dict1={'Ramesh':20,\"Suresh\":30,'Sathish':40}\n",
    "for i in dict1:\n",
    "    print(i,dict1[i])\n",
    "    print(f'{i} has age : {dict1[i]}')"
   ]
  },
  {
   "cell_type": "markdown",
   "id": "5c3a26b8-4a14-4729-9d12-5264e81c7d3a",
   "metadata": {},
   "source": [
    "- whenever we iterate dict for loop using in operator  it will gives only keys\n",
    "\n",
    "- if we want to get value we will access through keys only\n",
    "\n",
    "- key will work as index"
   ]
  },
  {
   "cell_type": "code",
   "execution_count": 46,
   "id": "b2b5cabb-f4e4-4b3a-a3d8-a298cb279144",
   "metadata": {},
   "outputs": [
    {
     "data": {
      "text/plain": [
       "'Cherry'"
      ]
     },
     "execution_count": 46,
     "metadata": {},
     "output_type": "execute_result"
    }
   ],
   "source": [
    "d1={'Fruites':['Apple','Banana','Cherry']}\n",
    "d1['Fruites'][2]"
   ]
  },
  {
   "cell_type": "code",
   "execution_count": 50,
   "id": "48b532a1-51eb-4e4d-9802-75188b2e94f8",
   "metadata": {},
   "outputs": [
    {
     "data": {
      "text/plain": [
       "'Green'"
      ]
     },
     "execution_count": 50,
     "metadata": {},
     "output_type": "execute_result"
    }
   ],
   "source": [
    "d1={'Fruites':{'Apple':['Sweet','Green','custred']}}\n",
    "d1['Fruites']['Apple'][1]"
   ]
  },
  {
   "cell_type": "code",
   "execution_count": 54,
   "id": "b3dfb8ef-1288-4188-8823-065be6e48721",
   "metadata": {},
   "outputs": [
    {
     "data": {
      "text/plain": [
       "300"
      ]
     },
     "execution_count": 54,
     "metadata": {},
     "output_type": "execute_result"
    }
   ],
   "source": [
    "d1={'Fruites':[{'Cost':[100,200,300]}]}\n",
    "d1['Fruites'][0]['Cost'][2]"
   ]
  },
  {
   "cell_type": "code",
   "execution_count": 55,
   "id": "6de476f2-0f1f-4a04-b771-a8fc7ab62bc3",
   "metadata": {},
   "outputs": [
    {
     "data": {
      "text/plain": [
       "'None'"
      ]
     },
     "execution_count": 55,
     "metadata": {},
     "output_type": "execute_result"
    }
   ],
   "source": [
    "d1={'Fruites':['Apple'],'Cost':[{'1kg':[300,500],\n",
    "                               '2kg':['None']}]}\n",
    "d1['Cost'][0]['2kg'][0]"
   ]
  },
  {
   "cell_type": "code",
   "execution_count": 69,
   "id": "5e3dbd4b-a0ce-4ca3-b4bd-2b95589c2b90",
   "metadata": {},
   "outputs": [
    {
     "ename": "TypeError",
     "evalue": "'set' object is not subscriptable",
     "output_type": "error",
     "traceback": [
      "\u001b[1;31m---------------------------------------------------------------------------\u001b[0m",
      "\u001b[1;31mTypeError\u001b[0m                                 Traceback (most recent call last)",
      "Cell \u001b[1;32mIn[69], line 2\u001b[0m\n\u001b[0;32m      1\u001b[0m d1\u001b[38;5;241m=\u001b[39m{\u001b[38;5;124m'\u001b[39m\u001b[38;5;124mFruites\u001b[39m\u001b[38;5;124m'\u001b[39m:{\u001b[38;5;124m'\u001b[39m\u001b[38;5;124mMango\u001b[39m\u001b[38;5;124m'\u001b[39m:{\u001b[38;5;124m'\u001b[39m\u001b[38;5;124mNagpur\u001b[39m\u001b[38;5;124m'\u001b[39m:{\u001b[38;5;124m'\u001b[39m\u001b[38;5;124mMH\u001b[39m\u001b[38;5;124m'\u001b[39m:{\u001b[38;5;124m'\u001b[39m\u001b[38;5;124mKing\u001b[39m\u001b[38;5;124m'\u001b[39m:{\u001b[38;5;124m'\u001b[39m\u001b[38;5;124mShivaji\u001b[39m\u001b[38;5;124m'\u001b[39m:{\u001b[38;5;124m'\u001b[39m\u001b[38;5;124mShambaji\u001b[39m\u001b[38;5;124m'\u001b[39m}}}}}}}\n\u001b[1;32m----> 2\u001b[0m d1[\u001b[38;5;124m'\u001b[39m\u001b[38;5;124mFruites\u001b[39m\u001b[38;5;124m'\u001b[39m][\u001b[38;5;124m'\u001b[39m\u001b[38;5;124mMango\u001b[39m\u001b[38;5;124m'\u001b[39m][\u001b[38;5;124m'\u001b[39m\u001b[38;5;124mNagpur\u001b[39m\u001b[38;5;124m'\u001b[39m][\u001b[38;5;124m'\u001b[39m\u001b[38;5;124mMH\u001b[39m\u001b[38;5;124m'\u001b[39m][\u001b[38;5;124m'\u001b[39m\u001b[38;5;124mKing\u001b[39m\u001b[38;5;124m'\u001b[39m][\u001b[38;5;124m'\u001b[39m\u001b[38;5;124mShivaji\u001b[39m\u001b[38;5;124m'\u001b[39m][\u001b[38;5;241m0\u001b[39m]\n",
      "\u001b[1;31mTypeError\u001b[0m: 'set' object is not subscriptable"
     ]
    }
   ],
   "source": [
    "d1={'Fruites':{'Mango':{'Nagpur':{'MH':{'King':{'Shivaji':{'Shambaji'}}}}}}}\n",
    "d1['Fruites']['Mango']['Nagpur']['MH']['King']['Shivaji'][0]"
   ]
  },
  {
   "cell_type": "code",
   "execution_count": 1,
   "id": "fee3ed49-e0fd-4a5a-a60a-08223ec6610f",
   "metadata": {},
   "outputs": [
    {
     "data": {
      "text/plain": [
       "{'Ramesh': 20, 'Suresh': 30, 'Sathish': 40}"
      ]
     },
     "execution_count": 1,
     "metadata": {},
     "output_type": "execute_result"
    }
   ],
   "source": [
    "names=['Ramesh','Suresh','Sathish']\n",
    "age=[20,30,40]\n",
    "dict1={}\n",
    "dict1['Ramesh']=20\n",
    "dict1['Suresh']=30\n",
    "dict1['Sathish']=40\n",
    "dict1"
   ]
  },
  {
   "cell_type": "code",
   "execution_count": 4,
   "id": "ae0d0d13-c942-40fc-bca7-fe969cdc8e8f",
   "metadata": {},
   "outputs": [
    {
     "name": "stdout",
     "output_type": "stream",
     "text": [
      "{'Ramesh': 20, 'Suresh': 30, 'Sathish': 40}\n"
     ]
    }
   ],
   "source": [
    "names=['Ramesh','Suresh','Sathish']\n",
    "age=[20,30,40]\n",
    "dict2={}\n",
    "for i,j in zip(names,age):\n",
    "    dict2[i]=j\n",
    "\n",
    "print(dict2)"
   ]
  },
  {
   "cell_type": "code",
   "execution_count": 9,
   "id": "733307cd-12a0-4ac6-b657-a6780d56b464",
   "metadata": {},
   "outputs": [
    {
     "name": "stdout",
     "output_type": "stream",
     "text": [
      "['Ramesh', 'Suresh', 'Sathish']\n",
      "[20, 30, 40]\n"
     ]
    }
   ],
   "source": [
    "l1=[]\n",
    "l2=[]\n",
    "for i,j in dict2.items():\n",
    "    l1.append(i)\n",
    "    l2.append(j)\n",
    "\n",
    "print(l1)\n",
    "print(l2)"
   ]
  },
  {
   "cell_type": "code",
   "execution_count": 14,
   "id": "59784f36-d501-44aa-9326-d4b9dd0d2149",
   "metadata": {},
   "outputs": [
    {
     "name": "stdout",
     "output_type": "stream",
     "text": [
      "['Ramesh', 'Suresh', 'Sathish'] [20, 30, 40]\n"
     ]
    }
   ],
   "source": [
    "l1=[]\n",
    "l2=[]\n",
    "for i in dict2:\n",
    "    l1.append(i)\n",
    "    l2.append(dict2[i])\n",
    "print(l1,l2)"
   ]
  },
  {
   "cell_type": "code",
   "execution_count": null,
   "id": "fb2fb495-7478-427c-9f8a-36e408346bfc",
   "metadata": {},
   "outputs": [],
   "source": [
    "# strings to list (split)\n",
    "# list to strings (join)\n",
    "# list to dictionary\n",
    "#dict to list"
   ]
  },
  {
   "cell_type": "code",
   "execution_count": 15,
   "id": "61ddf887-5659-4df8-b770-fde4be8f5661",
   "metadata": {},
   "outputs": [
    {
     "data": {
      "text/plain": [
       "{'Ramesh': 20, 'Suresh': 30, 'Sathish': 40}"
      ]
     },
     "execution_count": 15,
     "metadata": {},
     "output_type": "execute_result"
    }
   ],
   "source": [
    "names=['Ramesh','Suresh','Sathish']\n",
    "age=[20,30,40]\n",
    "dict2={}\n",
    "for i,j in zip(names,age):\n",
    "    dict2[i]=j\n",
    "{i:j for i,j in zip(names,age)}"
   ]
  },
  {
   "cell_type": "markdown",
   "id": "ed518572-2972-4522-a781-329f0dc659c8",
   "metadata": {},
   "source": [
    "- dict is similar to database operations\n",
    "\n",
    "- keys always unique but values can be change."
   ]
  },
  {
   "cell_type": "code",
   "execution_count": 16,
   "id": "1128c0d4-e837-40fe-9e7f-e193322696d1",
   "metadata": {},
   "outputs": [
    {
     "ename": "TypeError",
     "evalue": "unsupported operand type(s) for +: 'dict' and 'dict'",
     "output_type": "error",
     "traceback": [
      "\u001b[1;31m---------------------------------------------------------------------------\u001b[0m",
      "\u001b[1;31mTypeError\u001b[0m                                 Traceback (most recent call last)",
      "Cell \u001b[1;32mIn[16], line 3\u001b[0m\n\u001b[0;32m      1\u001b[0m d1\u001b[38;5;241m=\u001b[39m{\u001b[38;5;124m'\u001b[39m\u001b[38;5;124mRamesh\u001b[39m\u001b[38;5;124m'\u001b[39m:\u001b[38;5;241m20\u001b[39m}\n\u001b[0;32m      2\u001b[0m d2\u001b[38;5;241m=\u001b[39m{\u001b[38;5;124m'\u001b[39m\u001b[38;5;124mFruits\u001b[39m\u001b[38;5;124m'\u001b[39m:\u001b[38;5;124m'\u001b[39m\u001b[38;5;124mApple\u001b[39m\u001b[38;5;124m'\u001b[39m}\n\u001b[1;32m----> 3\u001b[0m d1\u001b[38;5;241m+\u001b[39md2\n",
      "\u001b[1;31mTypeError\u001b[0m: unsupported operand type(s) for +: 'dict' and 'dict'"
     ]
    }
   ],
   "source": [
    "d1={'Ramesh':20}\n",
    "d2={'Fruits':'Apple'}\n",
    "d1+d2"
   ]
  },
  {
   "cell_type": "markdown",
   "id": "06cd6478-2f6d-4289-b35c-1f585dc16a22",
   "metadata": {},
   "source": [
    "**items-values-keys**"
   ]
  },
  {
   "cell_type": "code",
   "execution_count": null,
   "id": "8c33f04b-6989-4e53-8c0f-47350fb1acb1",
   "metadata": {},
   "outputs": [],
   "source": [
    "- dict_keys is a type of keys represented in a list\n",
    "\n",
    "- it is looks like list but not list\n",
    "\n",
    "- we can not use list methods here\n",
    "\n",
    "- for that we need to convert dict_keys to list"
   ]
  },
  {
   "cell_type": "code",
   "execution_count": 18,
   "id": "b91e737d-6522-4254-bd51-46844542b36b",
   "metadata": {},
   "outputs": [
    {
     "data": {
      "text/plain": [
       "[20, 30, 40]"
      ]
     },
     "execution_count": 18,
     "metadata": {},
     "output_type": "execute_result"
    }
   ],
   "source": [
    "d1={'Ramesh':20,\"Suresh\":30,'Sathish':40}\n",
    "values=d1.values()\n",
    "list(values)"
   ]
  },
  {
   "cell_type": "code",
   "execution_count": 20,
   "id": "7ba6c348-41ec-4df4-9d0d-b37602e873a5",
   "metadata": {},
   "outputs": [
    {
     "data": {
      "text/plain": [
       "[('Ramesh', 20), ('Suresh', 30), ('Sathish', 40)]"
      ]
     },
     "execution_count": 20,
     "metadata": {},
     "output_type": "execute_result"
    }
   ],
   "source": [
    "dict1={'Ramesh':20,\"Suresh\":30,'Sathish':40}\n",
    "l1=dict1.items()\n",
    "list(l1)"
   ]
  },
  {
   "cell_type": "code",
   "execution_count": 24,
   "id": "44131221-1411-47cd-b38f-b6fde6db479e",
   "metadata": {},
   "outputs": [
    {
     "data": {
      "text/plain": [
       "(['Ramesh', 'Suresh', 'Sathish'], [20, 30, 40])"
      ]
     },
     "execution_count": 24,
     "metadata": {},
     "output_type": "execute_result"
    }
   ],
   "source": [
    "dict1={'Ramesh':20,\"Suresh\":30,'Sathish':40}\n",
    "keys,values=[],[]\n",
    "for i in dict1:\n",
    "    keys.append(i)\n",
    "    values.append(dict1[i])\n",
    "\n",
    "keys,values"
   ]
  },
  {
   "cell_type": "code",
   "execution_count": 27,
   "id": "4a04852c-ea8d-4b8e-b90f-f7fdf1578fee",
   "metadata": {},
   "outputs": [
    {
     "name": "stdout",
     "output_type": "stream",
     "text": [
      "['Ramesh', 'Suresh', 'Sathish']\n"
     ]
    }
   ],
   "source": [
    "keys=[keys for keys in dict1]\n",
    "print(keys)"
   ]
  },
  {
   "cell_type": "code",
   "execution_count": 38,
   "id": "079e6287-bd58-44fd-845a-cef5625d73bc",
   "metadata": {},
   "outputs": [
    {
     "data": {
      "text/plain": [
       "{'ramesh': '20', 'suresh': '30', 'sathish': '40'}"
      ]
     },
     "execution_count": 38,
     "metadata": {},
     "output_type": "execute_result"
    }
   ],
   "source": [
    "d1={'Ramesh':20,\"Suresh\":30,'Sathish':40}\n",
    "keys=[i.lower() for i in list(d1.keys())]\n",
    "values=[str(i) for i in list(d1.values())]\n",
    "{keys:values for keys,values in zip(keys,values)}"
   ]
  },
  {
   "cell_type": "code",
   "execution_count": 41,
   "id": "9a3797c4-dcd2-46d1-8ce7-d0f0063a77a2",
   "metadata": {},
   "outputs": [
    {
     "name": "stdout",
     "output_type": "stream",
     "text": [
      "{200: 'Marks'}\n"
     ]
    }
   ],
   "source": [
    "d={}\n",
    "d.update([(200,'Marks')])\n",
    "print(d)"
   ]
  },
  {
   "cell_type": "code",
   "execution_count": null,
   "id": "a5dfe85f-9b89-408d-b658-bc379e48703e",
   "metadata": {},
   "outputs": [],
   "source": [
    "- concatenate "
   ]
  },
  {
   "cell_type": "code",
   "execution_count": 43,
   "id": "5473b8d9-36d6-49fc-9e4f-d2ce360f4b90",
   "metadata": {},
   "outputs": [
    {
     "name": "stdout",
     "output_type": "stream",
     "text": [
      "{'Ramesh': 20, 'Suresh': 30, 'Sathish': 40, 'Fruites': 'Apple', 'Apple': 200, 200: 'Apple'}\n"
     ]
    }
   ],
   "source": [
    "d={'Ramesh':20,\"Suresh\":30,'Sathish':40}\n",
    "d1={'Fruites':'Apple'}\n",
    "d.update(d1)\n",
    "d.update(Apple=200)\n",
    "d.update([(200,'Apple')])\n",
    "print(d)"
   ]
  },
  {
   "cell_type": "markdown",
   "id": "74a7782d-f6ca-4e72-92a2-2b224a4e4d7f",
   "metadata": {},
   "source": [
    "- pop will excpect a key , corresponding value will be removed \n",
    "\n",
    "    - pop will return the **value which is removing**\n",
    "\n",
    "- popitem has no argument, last key-value pair will be removed\n",
    "\n",
    "    - pop item return last **key-value pair**"
   ]
  },
  {
   "cell_type": "markdown",
   "id": "a0aed705-6cd3-4425-a9f3-3272cce5349f",
   "metadata": {},
   "source": [
    "**del**"
   ]
  },
  {
   "cell_type": "code",
   "execution_count": 44,
   "id": "93627aa3-47bb-4f00-8baa-32e4513ef1db",
   "metadata": {},
   "outputs": [],
   "source": [
    "l=[100,200,333,444]\n",
    "del l[0]"
   ]
  },
  {
   "cell_type": "code",
   "execution_count": 45,
   "id": "215801b6-6201-45f4-881e-e88403c050a0",
   "metadata": {},
   "outputs": [
    {
     "name": "stdout",
     "output_type": "stream",
     "text": [
      "[200, 333, 444]\n"
     ]
    }
   ],
   "source": [
    "print(l)"
   ]
  },
  {
   "cell_type": "code",
   "execution_count": 46,
   "id": "0f1b8415-2565-4dc4-86ff-c5ce9f001131",
   "metadata": {},
   "outputs": [],
   "source": [
    "d={'Ramesh':20,\"Suresh\":30,'Sathish':40}\n",
    "del d['Ramesh']"
   ]
  },
  {
   "cell_type": "code",
   "execution_count": 47,
   "id": "d245ef25-60c6-420a-a513-f620b9d7dea8",
   "metadata": {},
   "outputs": [
    {
     "data": {
      "text/plain": [
       "{'Suresh': 30, 'Sathish': 40}"
      ]
     },
     "execution_count": 47,
     "metadata": {},
     "output_type": "execute_result"
    }
   ],
   "source": [
    "d"
   ]
  },
  {
   "cell_type": "code",
   "execution_count": 48,
   "id": "3ee1cd64-d97a-47bb-a5aa-ffb4ad407f98",
   "metadata": {},
   "outputs": [],
   "source": [
    "del d"
   ]
  },
  {
   "cell_type": "code",
   "execution_count": 49,
   "id": "67b1d5ed-baa3-4336-bf72-801338f594d5",
   "metadata": {},
   "outputs": [
    {
     "ename": "NameError",
     "evalue": "name 'd' is not defined",
     "output_type": "error",
     "traceback": [
      "\u001b[1;31m---------------------------------------------------------------------------\u001b[0m",
      "\u001b[1;31mNameError\u001b[0m                                 Traceback (most recent call last)",
      "Cell \u001b[1;32mIn[49], line 1\u001b[0m\n\u001b[1;32m----> 1\u001b[0m d\n",
      "\u001b[1;31mNameError\u001b[0m: name 'd' is not defined"
     ]
    }
   ],
   "source": [
    "d"
   ]
  },
  {
   "cell_type": "code",
   "execution_count": 50,
   "id": "3e4a4769-1c8f-4511-8de5-82a2e8e71a96",
   "metadata": {},
   "outputs": [
    {
     "data": {
      "text/plain": [
       "['__class__',\n",
       " '__class_getitem__',\n",
       " '__contains__',\n",
       " '__delattr__',\n",
       " '__delitem__',\n",
       " '__dir__',\n",
       " '__doc__',\n",
       " '__eq__',\n",
       " '__format__',\n",
       " '__ge__',\n",
       " '__getattribute__',\n",
       " '__getitem__',\n",
       " '__getstate__',\n",
       " '__gt__',\n",
       " '__hash__',\n",
       " '__init__',\n",
       " '__init_subclass__',\n",
       " '__ior__',\n",
       " '__iter__',\n",
       " '__le__',\n",
       " '__len__',\n",
       " '__lt__',\n",
       " '__ne__',\n",
       " '__new__',\n",
       " '__or__',\n",
       " '__reduce__',\n",
       " '__reduce_ex__',\n",
       " '__repr__',\n",
       " '__reversed__',\n",
       " '__ror__',\n",
       " '__setattr__',\n",
       " '__setitem__',\n",
       " '__sizeof__',\n",
       " '__str__',\n",
       " '__subclasshook__',\n",
       " 'clear',\n",
       " 'copy',\n",
       " 'fromkeys',\n",
       " 'get',\n",
       " 'items',\n",
       " 'keys',\n",
       " 'pop',\n",
       " 'popitem',\n",
       " 'setdefault',\n",
       " 'update',\n",
       " 'values']"
      ]
     },
     "execution_count": 50,
     "metadata": {},
     "output_type": "execute_result"
    }
   ],
   "source": [
    "dir({})"
   ]
  },
  {
   "cell_type": "code",
   "execution_count": null,
   "id": "41783065-b4ff-4eb0-afad-429030b9faba",
   "metadata": {},
   "outputs": [],
   "source": []
  }
 ],
 "metadata": {
  "kernelspec": {
   "display_name": "Python 3 (ipykernel)",
   "language": "python",
   "name": "python3"
  },
  "language_info": {
   "codemirror_mode": {
    "name": "ipython",
    "version": 3
   },
   "file_extension": ".py",
   "mimetype": "text/x-python",
   "name": "python",
   "nbconvert_exporter": "python",
   "pygments_lexer": "ipython3",
   "version": "3.12.4"
  }
 },
 "nbformat": 4,
 "nbformat_minor": 5
}
