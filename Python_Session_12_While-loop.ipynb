{
 "cells": [
  {
   "cell_type": "markdown",
   "id": "a370562b-ad66-4ffb-930d-8caf8c195827",
   "metadata": {},
   "source": [
    "**While loop**"
   ]
  },
  {
   "cell_type": "code",
   "execution_count": null,
   "id": "6c371ba6-e166-435a-8c06-4bceb163586b",
   "metadata": {},
   "outputs": [],
   "source": [
    "- Intialization\n",
    "\n",
    "- Increment or decrement \n",
    "\n",
    "- condition to stop"
   ]
  },
  {
   "cell_type": "markdown",
   "id": "ae75e450-a2ef-4a15-a747-9a1db0d6df96",
   "metadata": {},
   "source": [
    "**in for loop all the above 3 will happen in a single statement**"
   ]
  },
  {
   "cell_type": "code",
   "execution_count": 1,
   "id": "08bf8872-db58-4ca9-9b9a-c056117f64f5",
   "metadata": {},
   "outputs": [
    {
     "name": "stdout",
     "output_type": "stream",
     "text": [
      "2 4 6 8 10 12 14 16 18 "
     ]
    }
   ],
   "source": [
    "for i in range(2,20,2):\n",
    "    print(i,end=\" \")\n",
    "\n",
    "# i=2\n",
    "# i==18\n",
    "# i=i+2"
   ]
  },
  {
   "cell_type": "markdown",
   "id": "8a01e7a8-e040-44d4-92c9-4e3aaff1c116",
   "metadata": {},
   "source": [
    "**but in while loop all 3 are happened in each line**"
   ]
  },
  {
   "cell_type": "code",
   "execution_count": null,
   "id": "ae85afc0-0780-4e32-baa5-18dfb620bde0",
   "metadata": {},
   "outputs": [],
   "source": [
    "# intial value\n",
    "\n",
    "# condition\n",
    "\n",
    "    # write your code \n",
    "\n",
    "    # increment or decrement\n",
    "\n",
    "<initial value>\n",
    "while <condition>:\n",
    "    <write your code here>\n",
    "    <increment or decrement>\n",
    "\n",
    "# we need write a condition \n",
    "    # while should give enter inside the loop \n",
    "    # after some time whenever the condition satisfies\n",
    "    #           the code should stop"
   ]
  },
  {
   "cell_type": "code",
   "execution_count": null,
   "id": "44956d61-4573-4c4d-a17c-ddee62b5f5f2",
   "metadata": {},
   "outputs": [],
   "source": [
    "i=2\n",
    "while i>18:"
   ]
  },
  {
   "cell_type": "code",
   "execution_count": 2,
   "id": "67de1a1e-1e00-4abc-ba5e-219a1486cabb",
   "metadata": {},
   "outputs": [
    {
     "name": "stdout",
     "output_type": "stream",
     "text": [
      "2 4 6 8 10 12 14 16 18 "
     ]
    }
   ],
   "source": [
    "i=2\n",
    "while i<=18:\n",
    "    print(i,end=\" \")\n",
    "    i=i+2\n",
    "\n",
    "# step 1: i=2 while 2<=18 True print(2) i=2+2=4\n",
    "# step 2: i=4 while 4<=18 True print(4) i=4+2=6\n",
    "# step 3: i=6 while 6<=18 True print(6) i=6+2=8\n",
    "# step 4: i=8 while 8<=18 True print(8) i=8+2=10\n",
    "\n",
    "\n",
    "\n",
    "    \n",
    "# step 5: i=18 while 18<=18 True print(18) i=18+2=20\n",
    "# step 1: i=20 while 20<=18 False "
   ]
  },
  {
   "cell_type": "code",
   "execution_count": 3,
   "id": "0a138bef-8a51-4c67-8ae0-8fa4d37d2e1c",
   "metadata": {},
   "outputs": [
    {
     "name": "stdout",
     "output_type": "stream",
     "text": [
      "2 4 6 8 10 12 14 16 "
     ]
    }
   ],
   "source": [
    "i=2\n",
    "while i<18:\n",
    "    print(i,end=\" \")\n",
    "    i=i+2"
   ]
  },
  {
   "cell_type": "code",
   "execution_count": 4,
   "id": "464be7b6-05d7-42e4-952b-05dc9330d50b",
   "metadata": {},
   "outputs": [
    {
     "name": "stdout",
     "output_type": "stream",
     "text": [
      "2 4 6 8 10 12 14 16 "
     ]
    }
   ],
   "source": [
    "i=2\n",
    "while i!=18:\n",
    "    print(i,end=\" \")\n",
    "    i=i+2"
   ]
  },
  {
   "cell_type": "code",
   "execution_count": 6,
   "id": "4ff6b7e4-1715-4a73-a2b2-8656a6596ea3",
   "metadata": {},
   "outputs": [
    {
     "name": "stdout",
     "output_type": "stream",
     "text": [
      "10 9 8 7 6 5 4 3 2 1 "
     ]
    }
   ],
   "source": [
    "for i in range(10,0,-1):\n",
    "    print(i,end=' ')"
   ]
  },
  {
   "cell_type": "code",
   "execution_count": 15,
   "id": "2a5396c8-dbfa-441f-a291-05c7b86f105a",
   "metadata": {},
   "outputs": [
    {
     "name": "stdout",
     "output_type": "stream",
     "text": [
      "10 9 8 7 6 5 4 3 2 1 "
     ]
    }
   ],
   "source": [
    "i=10\n",
    "while i>0:\n",
    "    print(i,end=' ')\n",
    "    i=i-1\n"
   ]
  },
  {
   "cell_type": "code",
   "execution_count": 12,
   "id": "e228ea5e-0e1a-4aae-b5a3-437c874f88cb",
   "metadata": {},
   "outputs": [
    {
     "name": "stdout",
     "output_type": "stream",
     "text": [
      "-10 -9 -8 -7 -6 -5 -4 -3 -2 -1 "
     ]
    }
   ],
   "source": [
    "i=-10\n",
    "while i<0:\n",
    "    print(i,end=' ')\n",
    "    i=i+1\n"
   ]
  },
  {
   "cell_type": "code",
   "execution_count": 14,
   "id": "c835c44c-4be4-49c1-b0c3-8bb41c156a7a",
   "metadata": {},
   "outputs": [
    {
     "name": "stdout",
     "output_type": "stream",
     "text": [
      "-1 -2 -3 -4 -5 -6 -7 -8 -9 -10 "
     ]
    }
   ],
   "source": [
    "i=-1\n",
    "while i>=-10:\n",
    "    print(i,end=' ')\n",
    "    i=i-1\n"
   ]
  },
  {
   "cell_type": "code",
   "execution_count": 16,
   "id": "af1c5ff0-2d05-4dbf-b54c-68f198f7dc67",
   "metadata": {},
   "outputs": [
    {
     "name": "stdout",
     "output_type": "stream",
     "text": [
      "-1 -2 -3 -4 -5 -6 -7 -8 -9 -10 "
     ]
    }
   ],
   "source": [
    "i=-1\n",
    "while i!=-11:\n",
    "    print(i,end=' ')\n",
    "    i=i-1\n"
   ]
  },
  {
   "cell_type": "markdown",
   "id": "89401ece-8497-4d47-812b-776cbd3579af",
   "metadata": {},
   "source": [
    "**True**"
   ]
  },
  {
   "cell_type": "markdown",
   "id": "72464b57-6646-4f49-9c04-4e8cdaf3e2c4",
   "metadata": {},
   "source": [
    "- true is a condition always give a permission to enter inside the loop\n",
    "\n",
    "- some time we can not fix the condition to enter inside the loop\n",
    "\n",
    "- but we know stop condition"
   ]
  },
  {
   "cell_type": "code",
   "execution_count": 18,
   "id": "6b9f5e46-e1ab-4b29-abc2-7202e01555b5",
   "metadata": {},
   "outputs": [
    {
     "name": "stdout",
     "output_type": "stream",
     "text": [
      "10 9 8 7 6 5 4 3 2 1 "
     ]
    }
   ],
   "source": [
    "i=10\n",
    "while True:\n",
    "    print(i,end=' ')\n",
    "    i=i-1\n",
    "    if i==0:\n",
    "        break"
   ]
  },
  {
   "cell_type": "code",
   "execution_count": 19,
   "id": "7eec173b-b5d6-4bbc-ae35-3aa0dc7e59bb",
   "metadata": {},
   "outputs": [
    {
     "name": "stdout",
     "output_type": "stream",
     "text": [
      "-10 -9 -8 -7 -6 -5 -4 -3 -2 -1 "
     ]
    }
   ],
   "source": [
    "i=-10\n",
    "while True:\n",
    "    print(i,end=' ')\n",
    "    i=i+1\n",
    "    if i==0:\n",
    "        break"
   ]
  },
  {
   "cell_type": "code",
   "execution_count": 20,
   "id": "b326c6cf-b9d5-4161-bdce-2829d00b5ea0",
   "metadata": {},
   "outputs": [
    {
     "name": "stdout",
     "output_type": "stream",
     "text": [
      "-1 -2 -3 -4 -5 -6 -7 -8 -9 -10 "
     ]
    }
   ],
   "source": [
    "i=-1\n",
    "while True:\n",
    "    print(i,end=' ')\n",
    "    i=i-1\n",
    "    if i==-11:\n",
    "        break"
   ]
  },
  {
   "cell_type": "code",
   "execution_count": null,
   "id": "cb4d615e-13a7-4315-891c-0ac6bd3222a4",
   "metadata": {},
   "outputs": [],
   "source": [
    "**when use while and for loop**\n",
    "\n",
    "- if we observe for loop **start stop step**\n",
    "\n",
    "- there is no infinite loop situation\n",
    "\n",
    "- if we want to give infinite loop situation\n",
    "\n",
    "    - based on correct value we want to stop the loop then we go for while loop"
   ]
  },
  {
   "cell_type": "code",
   "execution_count": 2,
   "id": "c0ead999-f80e-42ec-be24-8a405b49c4a8",
   "metadata": {},
   "outputs": [
    {
     "name": "stdout",
     "output_type": "stream",
     "text": [
      "4\n"
     ]
    },
    {
     "name": "stdin",
     "output_type": "stream",
     "text": [
      "enter the number: 5\n"
     ]
    },
    {
     "name": "stdout",
     "output_type": "stream",
     "text": [
      "lost\n",
      "2\n"
     ]
    },
    {
     "name": "stdin",
     "output_type": "stream",
     "text": [
      "enter the number: 2\n"
     ]
    },
    {
     "name": "stdout",
     "output_type": "stream",
     "text": [
      "won\n"
     ]
    }
   ],
   "source": [
    "import random\n",
    "while True:\n",
    "    num=random.randint(1,10)\n",
    "    print(num)\n",
    "    num1=eval(input('enter the number:'))\n",
    "    if num==num1:\n",
    "        print('won')\n",
    "        break\n",
    "    else:\n",
    "        print('lost')"
   ]
  },
  {
   "cell_type": "code",
   "execution_count": null,
   "id": "abfb6e90-650a-46b7-b783-b5b8c6187da2",
   "metadata": {},
   "outputs": [],
   "source": []
  },
  {
   "cell_type": "code",
   "execution_count": null,
   "id": "421744a0-80fe-4330-bcf5-972e20930789",
   "metadata": {},
   "outputs": [],
   "source": []
  },
  {
   "cell_type": "code",
   "execution_count": null,
   "id": "5133ca6a-20e7-480c-8ad2-9a88da2d715a",
   "metadata": {},
   "outputs": [],
   "source": []
  },
  {
   "cell_type": "code",
   "execution_count": null,
   "id": "eb284b61-5525-4af9-9531-dc8165d392af",
   "metadata": {},
   "outputs": [],
   "source": []
  },
  {
   "cell_type": "code",
   "execution_count": null,
   "id": "1103a4f7-8e1b-40ff-9302-428a4d5cb7eb",
   "metadata": {},
   "outputs": [],
   "source": []
  },
  {
   "cell_type": "code",
   "execution_count": null,
   "id": "20730c6a-e578-452b-9cf6-baa8e112b6b4",
   "metadata": {},
   "outputs": [],
   "source": []
  },
  {
   "cell_type": "code",
   "execution_count": null,
   "id": "5e2a2980-eed1-4341-9c68-61dde7e63daa",
   "metadata": {},
   "outputs": [],
   "source": []
  },
  {
   "cell_type": "code",
   "execution_count": null,
   "id": "e11fc398-70b5-40e7-9a0f-09cbe3889a4e",
   "metadata": {},
   "outputs": [],
   "source": []
  }
 ],
 "metadata": {
  "kernelspec": {
   "display_name": "Python 3 (ipykernel)",
   "language": "python",
   "name": "python3"
  },
  "language_info": {
   "codemirror_mode": {
    "name": "ipython",
    "version": 3
   },
   "file_extension": ".py",
   "mimetype": "text/x-python",
   "name": "python",
   "nbconvert_exporter": "python",
   "pygments_lexer": "ipython3",
   "version": "3.12.4"
  }
 },
 "nbformat": 4,
 "nbformat_minor": 5
}
