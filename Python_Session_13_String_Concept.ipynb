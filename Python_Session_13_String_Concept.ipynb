{
 "cells": [
  {
   "cell_type": "markdown",
   "id": "cd7c97fb-9766-45ef-b4e2-8729fad9b2ee",
   "metadata": {},
   "source": [
    "Revision and consistency are the key to success in data science field .\n",
    "- python variable\n",
    "\n",
    "- data type\n",
    "\n",
    "- type casting\n",
    "\n",
    "- print statement\n",
    "\n",
    "    - end\n",
    " \n",
    "    - sep\n",
    " \n",
    "    - f string\n",
    " \n",
    "    -  format\n",
    "\n",
    "- eval\n",
    "\n",
    "- input\n",
    "\n",
    "- round off\n",
    "\n",
    "- package information\n",
    "\n",
    "- basic codes\n",
    "\n",
    "- tr-except\n",
    "\n",
    "- functions\n",
    "\n",
    "    - without argument\n",
    " \n",
    "    - with argument\n",
    " \n",
    "    - default argument\n",
    " \n",
    "    - local va global\n",
    " \n",
    "    - return\n",
    " \n",
    "    - function in function\n",
    " \n",
    "  - loop\n",
    " \n",
    "        - for loop\n",
    "\n",
    "        - while loop\n",
    "\n",
    "=====================================================================\n",
    "\n",
    "- string\n",
    "\n",
    "- list\n",
    "\n",
    "- tuple\n",
    "\n",
    "- dictionary\n",
    "\n",
    "- set operation\n",
    "\n",
    "- list comprehension\n",
    "\n",
    "- lambda function\n",
    "\n",
    "- file handling\n",
    "\n",
    "========================================================================\n",
    "\n"
   ]
  },
  {
   "cell_type": "markdown",
   "id": "1e010181-3a8a-4ea6-91ee-3372fb77b2a6",
   "metadata": {},
   "source": [
    "**string concept**\n",
    "\n",
    "============================= PART-1========================================\n",
    "- how to initialize the strings\n",
    "\n",
    "- in build functions\n",
    "\n",
    "    - type\n",
    "\n",
    "    - print\n",
    "\n",
    "    - len\n",
    "\n",
    "    - max\n",
    "\n",
    "    - min\n",
    "\n",
    "    - reversed\n",
    "\n",
    "    - sorted\n",
    "\n",
    "- index operation\n",
    "\n",
    "- concatenation \n",
    "\n",
    "- mutable and immutable \n",
    "\n",
    "- slicing\n",
    "\n",
    "\n",
    "###########################PART-2######################################\n",
    "\n",
    "- string methods"
   ]
  },
  {
   "cell_type": "markdown",
   "id": "2e9f73b7-c5c8-4b1c-b6a7-d0102769a26c",
   "metadata": {},
   "source": [
    "**How to initialization**\n",
    "\n",
    "- string represent with single quotes\n",
    "\n",
    "-  string represent with double quotes\n",
    "\n",
    "-  string represent with triple quotes\n",
    "\n",
    "- when you print a string , the ouput show as without quotes\n",
    "\n",
    "- a string represent with triple quotes : **Doc string**\n",
    "\n",
    "- if you want to highlite any word in entire string\n",
    "\n",
    "    - provide the entire string in double quotes and highlight the word with single quotes vice versa"
   ]
  },
  {
   "cell_type": "code",
   "execution_count": 3,
   "id": "6e9370e9-7579-467e-bb8a-6ee7ba200ec1",
   "metadata": {},
   "outputs": [
    {
     "data": {
      "text/plain": [
       "'sourabh'"
      ]
     },
     "execution_count": 3,
     "metadata": {},
     "output_type": "execute_result"
    }
   ],
   "source": [
    "str='sourabh'\n",
    "str"
   ]
  },
  {
   "cell_type": "code",
   "execution_count": 1,
   "id": "f643f9dd-a802-4bdd-8c2d-0b8d752e719a",
   "metadata": {},
   "outputs": [
    {
     "name": "stdout",
     "output_type": "stream",
     "text": [
      "Python\n"
     ]
    }
   ],
   "source": [
    "str='Python'\n",
    "print(str)"
   ]
  },
  {
   "cell_type": "code",
   "execution_count": 2,
   "id": "6c1dc207-c7cd-44ab-a3ea-c4ccf1b987f7",
   "metadata": {},
   "outputs": [
    {
     "name": "stdout",
     "output_type": "stream",
     "text": [
      "Python\n"
     ]
    }
   ],
   "source": [
    "str=\"Python\"\n",
    "print(str)"
   ]
  },
  {
   "cell_type": "markdown",
   "id": "543fc22f-dea1-41dc-8d46-6c6360deea02",
   "metadata": {},
   "source": [
    "**doc string**"
   ]
  },
  {
   "cell_type": "code",
   "execution_count": 8,
   "id": "6b196857-e8f0-4519-b982-ef4f27dba7a1",
   "metadata": {},
   "outputs": [
    {
     "name": "stdout",
     "output_type": "stream",
     "text": [
      " 38 nava ghar meera nagar \n",
      "  bhuwana\n"
     ]
    }
   ],
   "source": [
    "a=\"\"\" 38 nava ghar meera nagar \n",
    "  bhuwana\"\"\"\n",
    "print(a)"
   ]
  },
  {
   "cell_type": "code",
   "execution_count": 4,
   "id": "90cebc57-7ae2-440f-a765-390055807034",
   "metadata": {},
   "outputs": [
    {
     "name": "stdout",
     "output_type": "stream",
     "text": [
      " 38 nava ghar meera nagar \n",
      "    bhuwana\n"
     ]
    }
   ],
   "source": [
    "a=''' 38 nava ghar meera nagar \n",
    "    bhuwana'''\n",
    "print(a)"
   ]
  },
  {
   "cell_type": "code",
   "execution_count": 5,
   "id": "39364c0f-f75f-47eb-8da4-1efb762bd1aa",
   "metadata": {},
   "outputs": [
    {
     "name": "stdout",
     "output_type": "stream",
     "text": [
      "this is the first class of the 'string'\n"
     ]
    }
   ],
   "source": [
    "a=\"this is the first class of the 'string'\"\n",
    "print(a)"
   ]
  },
  {
   "cell_type": "code",
   "execution_count": 6,
   "id": "243247f7-f776-4263-b937-e51e39ac1e46",
   "metadata": {},
   "outputs": [
    {
     "name": "stdout",
     "output_type": "stream",
     "text": [
      "this is the first class of the \"string\"\n"
     ]
    }
   ],
   "source": [
    "a='this is the first class of the \"string\"'\n",
    "print(a)   #string always be in a red colour \n",
    "        # variable always be in a black colour"
   ]
  },
  {
   "cell_type": "markdown",
   "id": "52a77961-4912-43a4-9443-81fbd7ae6eb3",
   "metadata": {},
   "source": [
    "**Some inbuilt functions**"
   ]
  },
  {
   "cell_type": "code",
   "execution_count": null,
   "id": "b118756c-959d-4e94-a747-e8f9165e6267",
   "metadata": {},
   "outputs": [],
   "source": [
    "#applicable on string,list,tuple and dic\n",
    "max()\n",
    "min()\n",
    "len()\n",
    "print('python')\n",
    "type('python')\n",
    "reversed()\n",
    "sorted()"
   ]
  },
  {
   "cell_type": "code",
   "execution_count": 9,
   "id": "b12c7477-04c6-403c-82c9-d7243904c651",
   "metadata": {},
   "outputs": [
    {
     "name": "stdout",
     "output_type": "stream",
     "text": [
      "p 112\n",
      "y 121\n",
      "t 116\n",
      "h 104\n",
      "o 111\n",
      "n 110\n",
      "  32\n"
     ]
    }
   ],
   "source": [
    "str1='python '\n",
    "for i in str1:\n",
    "    print(i,ord(i))"
   ]
  },
  {
   "cell_type": "code",
   "execution_count": 7,
   "id": "28a1b67e-3326-4c80-aa10-287ae292bea3",
   "metadata": {},
   "outputs": [
    {
     "data": {
      "text/plain": [
       "'y'"
      ]
     },
     "execution_count": 7,
     "metadata": {},
     "output_type": "execute_result"
    }
   ],
   "source": [
    "max('python')\n",
    "# Because of ASCII - American Standard Code for Information Interchange"
   ]
  },
  {
   "cell_type": "code",
   "execution_count": null,
   "id": "74c42743-9efd-4b59-bbdd-7728ac1e6eec",
   "metadata": {},
   "outputs": [],
   "source": [
    "max=121=======>'y'\n",
    "min=32=======>''\n",
    "32,104,110,111,112,116,121\n",
    "''  h   n   o   p   t   y   (ascending order)"
   ]
  },
  {
   "cell_type": "code",
   "execution_count": 18,
   "id": "f6e13bb1-7a8f-42da-a660-2559b54a34dc",
   "metadata": {},
   "outputs": [
    {
     "data": {
      "text/plain": [
       "121"
      ]
     },
     "execution_count": 18,
     "metadata": {},
     "output_type": "execute_result"
    }
   ],
   "source": [
    "ord('y')"
   ]
  },
  {
   "cell_type": "code",
   "execution_count": 10,
   "id": "47d4c19d-e9db-43ee-a988-361a6602bb01",
   "metadata": {},
   "outputs": [
    {
     "data": {
      "text/plain": [
       "' '"
      ]
     },
     "execution_count": 10,
     "metadata": {},
     "output_type": "execute_result"
    }
   ],
   "source": [
    "min('python ')"
   ]
  },
  {
   "cell_type": "code",
   "execution_count": 19,
   "id": "135c4b8a-b8cc-4eaa-a12c-c6652e3e3d16",
   "metadata": {},
   "outputs": [
    {
     "data": {
      "text/plain": [
       "104"
      ]
     },
     "execution_count": 19,
     "metadata": {},
     "output_type": "execute_result"
    }
   ],
   "source": [
    "ord('h')"
   ]
  },
  {
   "cell_type": "code",
   "execution_count": 13,
   "id": "b582a038-4f6c-467f-b80a-6ca4f8bea3b5",
   "metadata": {},
   "outputs": [
    {
     "name": "stdout",
     "output_type": "stream",
     "text": [
      "N 78\n",
      "A 65\n",
      "n 110\n",
      "d 100\n",
      "u 117\n"
     ]
    },
    {
     "data": {
      "text/plain": [
       "'A'"
      ]
     },
     "execution_count": 13,
     "metadata": {},
     "output_type": "execute_result"
    }
   ],
   "source": [
    "for i in 'NAndu':\n",
    "    print(i,ord(i))\n",
    "min('NAndu')"
   ]
  },
  {
   "cell_type": "code",
   "execution_count": 9,
   "id": "28a2145f-7a80-47cd-a1bb-f5608d59e959",
   "metadata": {},
   "outputs": [
    {
     "data": {
      "text/plain": [
       "6"
      ]
     },
     "execution_count": 9,
     "metadata": {},
     "output_type": "execute_result"
    }
   ],
   "source": [
    "# len() is used for count how many letters in the str\n",
    "len('python')"
   ]
  },
  {
   "cell_type": "code",
   "execution_count": 17,
   "id": "e035fa10-d561-41ce-a68e-253fb06020cd",
   "metadata": {},
   "outputs": [
    {
     "data": {
      "text/plain": [
       "2"
      ]
     },
     "execution_count": 17,
     "metadata": {},
     "output_type": "execute_result"
    }
   ],
   "source": [
    "str2='  '\n",
    "len(str2)"
   ]
  },
  {
   "cell_type": "code",
   "execution_count": 18,
   "id": "da2460f2-099c-454a-b5e7-c0cf9b919677",
   "metadata": {},
   "outputs": [
    {
     "name": "stdout",
     "output_type": "stream",
     "text": [
      "  \n"
     ]
    }
   ],
   "source": [
    "print(str2)"
   ]
  },
  {
   "cell_type": "code",
   "execution_count": 17,
   "id": "a76f6f71-6f74-4741-a151-7dc2e17b65e5",
   "metadata": {},
   "outputs": [
    {
     "data": {
      "text/plain": [
       "<reversed at 0x2143b9f3460>"
      ]
     },
     "execution_count": 17,
     "metadata": {},
     "output_type": "execute_result"
    }
   ],
   "source": [
    "reversed('python')"
   ]
  },
  {
   "cell_type": "code",
   "execution_count": null,
   "id": "524b39fc-9470-422d-88f5-c64d463a9025",
   "metadata": {},
   "outputs": [],
   "source": []
  },
  {
   "cell_type": "code",
   "execution_count": null,
   "id": "ff525b25-cb13-44b8-9af1-b1f82440ce50",
   "metadata": {},
   "outputs": [],
   "source": []
  },
  {
   "cell_type": "markdown",
   "id": "1fa02886-208c-4600-a092-7f27211250c0",
   "metadata": {},
   "source": [
    "**sorted**"
   ]
  },
  {
   "cell_type": "markdown",
   "id": "96b60833-b3f8-49d2-891c-3e2b93e80491",
   "metadata": {},
   "source": [
    "- sorted means sorting the letters based on ascii number\n",
    "\n",
    "- there two possible sorting avaiable\n",
    "\n",
    "    - ascending : small to high\n",
    "\n",
    "    - descending : high to small\n"
   ]
  },
  {
   "cell_type": "code",
   "execution_count": null,
   "id": "ceba35c8-4b03-45a3-9da5-d97edbffe39b",
   "metadata": {},
   "outputs": [],
   "source": [
    "sorted()"
   ]
  },
  {
   "cell_type": "code",
   "execution_count": 13,
   "id": "cb91154c-5aca-4400-a3d5-ff3ee10247bb",
   "metadata": {},
   "outputs": [
    {
     "data": {
      "text/plain": [
       "['h', 'n', 'o', 'p', 't', 'y']"
      ]
     },
     "execution_count": 13,
     "metadata": {},
     "output_type": "execute_result"
    }
   ],
   "source": [
    "sorted('python') # by default ascending order "
   ]
  },
  {
   "cell_type": "markdown",
   "id": "0e98b854-b0e9-4857-9bf5-a373849b7772",
   "metadata": {},
   "source": [
    "- when you apply the shift tab\n",
    "\n",
    "- there is some arguments will be available\n",
    "\n",
    "- focus on two arguments\n",
    "\n",
    "    - iterable\n",
    "\n",
    "    - reverse=False\n",
    "\n",
    "- bcz reverse is deafult argument by default acsending order is coming\n",
    "\n",
    "- if you want to change the order then change the default parameter value"
   ]
  },
  {
   "cell_type": "code",
   "execution_count": 22,
   "id": "b3a762fd-30bc-485d-beea-e9677d7249a9",
   "metadata": {},
   "outputs": [
    {
     "data": {
      "text/plain": [
       "['y', 't', 'p', 'o', 'n', 'h']"
      ]
     },
     "execution_count": 22,
     "metadata": {},
     "output_type": "execute_result"
    }
   ],
   "source": [
    "str1='python'\n",
    "sorted(str1,reverse=True)"
   ]
  },
  {
   "cell_type": "code",
   "execution_count": 23,
   "id": "acc5db3a-da75-45ab-9608-7ebee161bdf9",
   "metadata": {},
   "outputs": [
    {
     "ename": "SyntaxError",
     "evalue": "positional argument follows keyword argument (3593560594.py, line 2)",
     "output_type": "error",
     "traceback": [
      "\u001b[1;36m  Cell \u001b[1;32mIn[23], line 2\u001b[1;36m\u001b[0m\n\u001b[1;33m    sorted(iterable=str1,False)\u001b[0m\n\u001b[1;37m                              ^\u001b[0m\n\u001b[1;31mSyntaxError\u001b[0m\u001b[1;31m:\u001b[0m positional argument follows keyword argument\n"
     ]
    }
   ],
   "source": [
    "sorted(iterable=str1,reverse=False)\n",
    "sorted(iterable=str1,False)\n",
    "sorted(str1,False)\n",
    "sorted(str1,reverse=True)"
   ]
  },
  {
   "cell_type": "code",
   "execution_count": 24,
   "id": "ffe1acd6-9ce4-489d-80e2-46b2b107e65f",
   "metadata": {},
   "outputs": [
    {
     "ename": "TypeError",
     "evalue": "sorted expected 1 argument, got 0",
     "output_type": "error",
     "traceback": [
      "\u001b[1;31m---------------------------------------------------------------------------\u001b[0m",
      "\u001b[1;31mTypeError\u001b[0m                                 Traceback (most recent call last)",
      "Cell \u001b[1;32mIn[24], line 1\u001b[0m\n\u001b[1;32m----> 1\u001b[0m \u001b[38;5;28msorted\u001b[39m(iterable\u001b[38;5;241m=\u001b[39mstr1,reverse\u001b[38;5;241m=\u001b[39m\u001b[38;5;28;01mFalse\u001b[39;00m)\n",
      "\u001b[1;31mTypeError\u001b[0m: sorted expected 1 argument, got 0"
     ]
    }
   ],
   "source": [
    "sorted(iterable=str1,reverse=False)"
   ]
  },
  {
   "cell_type": "code",
   "execution_count": 25,
   "id": "5c2a6ef1-8127-42d3-b415-47dd6b6b2fd2",
   "metadata": {},
   "outputs": [
    {
     "ename": "SyntaxError",
     "evalue": "positional argument follows keyword argument (1574980832.py, line 1)",
     "output_type": "error",
     "traceback": [
      "\u001b[1;36m  Cell \u001b[1;32mIn[25], line 1\u001b[1;36m\u001b[0m\n\u001b[1;33m    sorted(iterable=str1,False)\u001b[0m\n\u001b[1;37m                              ^\u001b[0m\n\u001b[1;31mSyntaxError\u001b[0m\u001b[1;31m:\u001b[0m positional argument follows keyword argument\n"
     ]
    }
   ],
   "source": [
    "sorted(iterable=str1,False)"
   ]
  },
  {
   "cell_type": "code",
   "execution_count": 26,
   "id": "0b72a966-ef62-4e89-8e37-ba3f69445401",
   "metadata": {},
   "outputs": [
    {
     "data": {
      "text/plain": [
       "['y', 't', 'p', 'o', 'n', 'h']"
      ]
     },
     "execution_count": 26,
     "metadata": {},
     "output_type": "execute_result"
    }
   ],
   "source": [
    "sorted(str1,reverse=True)"
   ]
  },
  {
   "cell_type": "markdown",
   "id": "09152039-3fe9-4dca-a5ff-851c016014a4",
   "metadata": {},
   "source": [
    "- we should not allowed to use iterable argument name while provide the value\n",
    "\n",
    "- we should use the argument names while provide the value after '/'\n",
    "\n",
    "- we should not use the argument names before '/'\n",
    "\n",
    "    - iterable aregument name is there before '/'\n",
    "\n",
    "    - so do not use iterable name\n",
    "\n"
   ]
  },
  {
   "cell_type": "markdown",
   "id": "c29ce33a-c155-45c9-8459-66546ed6867e",
   "metadata": {},
   "source": [
    "- any function indicates * means \n",
    "\n",
    "- you can use any variable after *\n",
    "\n",
    "- after * there are two arguments are there\n",
    "\n",
    "    - key \n",
    "\n",
    "    - reverse\n",
    "\n",
    "- you can use both\n",
    "\n",
    "- you can use anyone\n",
    "\n",
    "- you no need to use anything"
   ]
  },
  {
   "cell_type": "code",
   "execution_count": null,
   "id": "5f373c4c-5412-4c3e-8186-3788bfa9c5d4",
   "metadata": {},
   "outputs": [],
   "source": [
    "sorted('hello')  # Works\n",
    "sorted(iterable='hello')  #Fail"
   ]
  },
  {
   "cell_type": "code",
   "execution_count": null,
   "id": "169df480-a80a-4c45-ac35-5ded81829662",
   "metadata": {},
   "outputs": [],
   "source": [
    "# based on ascii value it is giveing the order  --> very well understanding in the dic concept"
   ]
  },
  {
   "cell_type": "code",
   "execution_count": 20,
   "id": "3f1b4881-985f-47bc-8c61-0561a1f3cbcf",
   "metadata": {},
   "outputs": [
    {
     "data": {
      "text/plain": [
       "['e', 'h', 'l', 'l', 'o']"
      ]
     },
     "execution_count": 20,
     "metadata": {},
     "output_type": "execute_result"
    }
   ],
   "source": [
    "sorted('hello')"
   ]
  },
  {
   "cell_type": "code",
   "execution_count": 22,
   "id": "54b3ed75-b61a-45c6-a587-81fc3e2ef3a4",
   "metadata": {},
   "outputs": [
    {
     "data": {
      "text/plain": [
       "['o', 'l', 'l', 'h', 'e']"
      ]
     },
     "execution_count": 22,
     "metadata": {},
     "output_type": "execute_result"
    }
   ],
   "source": [
    "sorted('hello',reverse=True)"
   ]
  },
  {
   "cell_type": "code",
   "execution_count": 23,
   "id": "2db89897-bca0-48c6-a48c-2e6ffeaea1c2",
   "metadata": {},
   "outputs": [
    {
     "name": "stdout",
     "output_type": "stream",
     "text": [
      "h 104\n",
      "e 101\n",
      "l 108\n",
      "l 108\n",
      "o 111\n"
     ]
    }
   ],
   "source": [
    "for i in 'hello':\n",
    "    print(i,ord(i))"
   ]
  },
  {
   "cell_type": "code",
   "execution_count": 24,
   "id": "6e9e095d-1501-4423-b008-5bd173e15e97",
   "metadata": {},
   "outputs": [
    {
     "name": "stdout",
     "output_type": "stream",
     "text": [
      "['h']\n",
      "['e']\n",
      "['l']\n",
      "['l']\n",
      "['o']\n"
     ]
    }
   ],
   "source": [
    "for i in 'hello':\n",
    "    print(sorted(i,key=len))"
   ]
  },
  {
   "cell_type": "code",
   "execution_count": 26,
   "id": "e9896626-029b-49ad-a9bd-0f2a216fc2c0",
   "metadata": {},
   "outputs": [
    {
     "data": {
      "text/plain": [
       "['h', 'e', 'l', 'l', 'o']"
      ]
     },
     "execution_count": 26,
     "metadata": {},
     "output_type": "execute_result"
    }
   ],
   "source": [
    "sorted('hello',reverse=True,key=len)"
   ]
  },
  {
   "cell_type": "code",
   "execution_count": 32,
   "id": "75ed7762-0bf3-480a-b612-148436b7ae5f",
   "metadata": {},
   "outputs": [
    {
     "name": "stdout",
     "output_type": "stream",
     "text": [
      "3000\n",
      "4000\n",
      "5100\n",
      "6200\n",
      "300\n"
     ]
    }
   ],
   "source": [
    "def add(a=100,b=200):\n",
    "    print(a+b)\n",
    "\n",
    "add(a=1000,b=2000)\n",
    "add(b=3000,a=1000)\n",
    "add(b=5000)\n",
    "add(a=6000)\n",
    "add()"
   ]
  },
  {
   "cell_type": "markdown",
   "id": "b3de32c6-86bb-47f0-8ec6-3d9bbddf7040",
   "metadata": {},
   "source": [
    "**reversed**"
   ]
  },
  {
   "cell_type": "code",
   "execution_count": 36,
   "id": "2834477f-b8c9-4ed5-9b7c-16bd5c692b67",
   "metadata": {},
   "outputs": [],
   "source": [
    "str='python'\n",
    "ans=reversed(str)"
   ]
  },
  {
   "cell_type": "code",
   "execution_count": 35,
   "id": "ea6d1d7b-d129-43ff-bfb3-76ac3ff674fc",
   "metadata": {},
   "outputs": [
    {
     "data": {
      "text/plain": [
       "reversed"
      ]
     },
     "execution_count": 35,
     "metadata": {},
     "output_type": "execute_result"
    }
   ],
   "source": [
    "type(ans)"
   ]
  },
  {
   "cell_type": "code",
   "execution_count": 37,
   "id": "4f72a281-f2b8-4bbf-b758-15d9c933b775",
   "metadata": {},
   "outputs": [
    {
     "data": {
      "text/plain": [
       "<reversed at 0x20dbc27fbb0>"
      ]
     },
     "execution_count": 37,
     "metadata": {},
     "output_type": "execute_result"
    }
   ],
   "source": [
    "reversed(str)\n",
    "# the output is stored a memory location\n",
    "# whenever you want to see the output\n",
    "# use a list or for loop"
   ]
  },
  {
   "cell_type": "code",
   "execution_count": 30,
   "id": "aa9bda50-7267-4d64-9524-bf09e7583818",
   "metadata": {},
   "outputs": [
    {
     "name": "stdout",
     "output_type": "stream",
     "text": [
      "n\n",
      "o\n",
      "h\n",
      "t\n",
      "y\n",
      "p\n"
     ]
    }
   ],
   "source": [
    "str1='python'\n",
    "ans=reversed(str1)\n",
    "for i in ans:\n",
    "    print(i)"
   ]
  },
  {
   "cell_type": "code",
   "execution_count": 31,
   "id": "afcc637a-d5e5-4dbe-bf3b-39d057897dc4",
   "metadata": {},
   "outputs": [
    {
     "data": {
      "text/plain": [
       "['n', 'o', 'h', 't', 'y', 'p']"
      ]
     },
     "execution_count": 31,
     "metadata": {},
     "output_type": "execute_result"
    }
   ],
   "source": [
    "str1='python'\n",
    "ans=reversed(str1)\n",
    "list(ans)"
   ]
  },
  {
   "cell_type": "markdown",
   "id": "2823d761-5ee3-4c2e-8ef2-9d419ca462d8",
   "metadata": {},
   "source": [
    "**concatenation**"
   ]
  },
  {
   "cell_type": "code",
   "execution_count": 38,
   "id": "17057faa-fb99-44f9-9836-8bf218418691",
   "metadata": {},
   "outputs": [],
   "source": [
    "str1='hello'\n",
    "str2='python'\n"
   ]
  },
  {
   "cell_type": "code",
   "execution_count": 33,
   "id": "55a7777b-c716-4341-bcf2-f1e8fb993c02",
   "metadata": {},
   "outputs": [
    {
     "data": {
      "text/plain": [
       "'hellopython'"
      ]
     },
     "execution_count": 33,
     "metadata": {},
     "output_type": "execute_result"
    }
   ],
   "source": [
    "str1='hello'\n",
    "str2='python'\n",
    "str1+str2"
   ]
  },
  {
   "cell_type": "code",
   "execution_count": 34,
   "id": "1a47cc39-820e-4894-af41-59ac6edb2c94",
   "metadata": {},
   "outputs": [
    {
     "ename": "TypeError",
     "evalue": "can't multiply sequence by non-int of type 'str'",
     "output_type": "error",
     "traceback": [
      "\u001b[1;31m---------------------------------------------------------------------------\u001b[0m",
      "\u001b[1;31mTypeError\u001b[0m                                 Traceback (most recent call last)",
      "Cell \u001b[1;32mIn[34], line 3\u001b[0m\n\u001b[0;32m      1\u001b[0m str1\u001b[38;5;241m=\u001b[39m\u001b[38;5;124m'\u001b[39m\u001b[38;5;124mhello\u001b[39m\u001b[38;5;124m'\u001b[39m\n\u001b[0;32m      2\u001b[0m str2\u001b[38;5;241m=\u001b[39m\u001b[38;5;124m'\u001b[39m\u001b[38;5;124mpython\u001b[39m\u001b[38;5;124m'\u001b[39m\n\u001b[1;32m----> 3\u001b[0m str1\u001b[38;5;241m*\u001b[39mstr2\n",
      "\u001b[1;31mTypeError\u001b[0m: can't multiply sequence by non-int of type 'str'"
     ]
    }
   ],
   "source": [
    "str1='hello'\n",
    "str2='python'\n",
    "str1*str2"
   ]
  },
  {
   "cell_type": "code",
   "execution_count": 35,
   "id": "60ebe244-aac3-4590-a2e6-665adbe3204f",
   "metadata": {},
   "outputs": [
    {
     "ename": "TypeError",
     "evalue": "unsupported operand type(s) for -: 'str' and 'str'",
     "output_type": "error",
     "traceback": [
      "\u001b[1;31m---------------------------------------------------------------------------\u001b[0m",
      "\u001b[1;31mTypeError\u001b[0m                                 Traceback (most recent call last)",
      "Cell \u001b[1;32mIn[35], line 3\u001b[0m\n\u001b[0;32m      1\u001b[0m str1\u001b[38;5;241m=\u001b[39m\u001b[38;5;124m'\u001b[39m\u001b[38;5;124mhello\u001b[39m\u001b[38;5;124m'\u001b[39m\n\u001b[0;32m      2\u001b[0m str2\u001b[38;5;241m=\u001b[39m\u001b[38;5;124m'\u001b[39m\u001b[38;5;124mpython\u001b[39m\u001b[38;5;124m'\u001b[39m\n\u001b[1;32m----> 3\u001b[0m str1\u001b[38;5;241m-\u001b[39mstr2\n",
      "\u001b[1;31mTypeError\u001b[0m: unsupported operand type(s) for -: 'str' and 'str'"
     ]
    }
   ],
   "source": [
    "str1='hello'\n",
    "str2='python'\n",
    "str1-str2"
   ]
  },
  {
   "cell_type": "code",
   "execution_count": 36,
   "id": "7b68df7e-27bb-4562-8af8-96e04316819a",
   "metadata": {},
   "outputs": [
    {
     "ename": "TypeError",
     "evalue": "unsupported operand type(s) for /: 'str' and 'str'",
     "output_type": "error",
     "traceback": [
      "\u001b[1;31m---------------------------------------------------------------------------\u001b[0m",
      "\u001b[1;31mTypeError\u001b[0m                                 Traceback (most recent call last)",
      "Cell \u001b[1;32mIn[36], line 3\u001b[0m\n\u001b[0;32m      1\u001b[0m str1\u001b[38;5;241m=\u001b[39m\u001b[38;5;124m'\u001b[39m\u001b[38;5;124mhello\u001b[39m\u001b[38;5;124m'\u001b[39m\n\u001b[0;32m      2\u001b[0m str2\u001b[38;5;241m=\u001b[39m\u001b[38;5;124m'\u001b[39m\u001b[38;5;124mpython\u001b[39m\u001b[38;5;124m'\u001b[39m\n\u001b[1;32m----> 3\u001b[0m str1\u001b[38;5;241m/\u001b[39mstr2\n",
      "\u001b[1;31mTypeError\u001b[0m: unsupported operand type(s) for /: 'str' and 'str'"
     ]
    }
   ],
   "source": [
    "str1='hello'\n",
    "str2='python'\n",
    "str1/str2\n"
   ]
  },
  {
   "cell_type": "code",
   "execution_count": 39,
   "id": "b3a357fc-7134-4059-99cd-adbfb18fee55",
   "metadata": {},
   "outputs": [
    {
     "data": {
      "text/plain": [
       "'pythonpython'"
      ]
     },
     "execution_count": 39,
     "metadata": {},
     "output_type": "execute_result"
    }
   ],
   "source": [
    "'python'*2"
   ]
  },
  {
   "cell_type": "markdown",
   "id": "7629bc85-71a0-463c-8c32-c7a64529a850",
   "metadata": {},
   "source": [
    "**Indexing operation on string**"
   ]
  },
  {
   "cell_type": "code",
   "execution_count": 50,
   "id": "ee022737-3218-4ab6-a4df-9831218ee905",
   "metadata": {},
   "outputs": [
    {
     "name": "stdout",
     "output_type": "stream",
     "text": [
      "0 p\n",
      "1 y\n",
      "2 t\n",
      "3 h\n",
      "4 o\n",
      "5 n\n",
      "6  \n"
     ]
    }
   ],
   "source": [
    "str1='python '\n",
    "for i in range(len(str1)):\n",
    "    print(i,str1[i])"
   ]
  },
  {
   "cell_type": "code",
   "execution_count": 51,
   "id": "a39e6e75-bc95-499e-be96-7ad09de34c21",
   "metadata": {},
   "outputs": [
    {
     "name": "stdout",
     "output_type": "stream",
     "text": [
      "the positive index of h is : 0\n",
      "the positive index of e is : 1\n",
      "the positive index of l is : 2\n",
      "the positive index of l is : 3\n",
      "the positive index of o is : 4\n",
      "the positive index of   is : 5\n",
      "the positive index of p is : 6\n",
      "the positive index of y is : 7\n",
      "the positive index of t is : 8\n",
      "the positive index of h is : 9\n",
      "the positive index of o is : 10\n",
      "the positive index of n is : 11\n"
     ]
    }
   ],
   "source": [
    "str1='hello python'\n",
    "for i in range(len(str1)):\n",
    "    print(f'the positive index of {str1[i]} is : {i}')"
   ]
  },
  {
   "cell_type": "code",
   "execution_count": 2,
   "id": "857232fc-ac40-4a71-84fa-0ef83b7cc288",
   "metadata": {},
   "outputs": [
    {
     "name": "stdout",
     "output_type": "stream",
     "text": [
      "0 -6\n",
      "1 -5\n",
      "2 -4\n",
      "3 -3\n",
      "4 -2\n",
      "5 -1\n"
     ]
    }
   ],
   "source": [
    "str1='python'\n",
    "for i in range(len(str1)):\n",
    "    print(i,i-len(str1))"
   ]
  },
  {
   "cell_type": "code",
   "execution_count": 18,
   "id": "07bffd45-858d-4601-8fd2-daa3e8baa3ae",
   "metadata": {},
   "outputs": [
    {
     "name": "stdout",
     "output_type": "stream",
     "text": [
      "the negative index of p is : -6\n",
      "the negative index of y is : -5\n",
      "the negative index of t is : -4\n",
      "the negative index of h is : -3\n",
      "the negative index of o is : -2\n",
      "the negative index of n is : -1\n"
     ]
    }
   ],
   "source": [
    "str1='python'\n",
    "for i in range(len(str1)):\n",
    "    print(f'the negative index of {str1[i]} is : {i-len(str1)}')"
   ]
  },
  {
   "cell_type": "code",
   "execution_count": 19,
   "id": "fc739ced-ccb4-4791-8d7d-36c1a0e626cc",
   "metadata": {},
   "outputs": [
    {
     "name": "stdout",
     "output_type": "stream",
     "text": [
      "-6 is negative index and 0 is positive index of p\n",
      "-5 is negative index and 1 is positive index of y\n",
      "-4 is negative index and 2 is positive index of t\n",
      "-3 is negative index and 3 is positive index of h\n",
      "-2 is negative index and 4 is positive index of o\n",
      "-1 is negative index and 5 is positive index of n\n"
     ]
    }
   ],
   "source": [
    "for i in range(len(str1)):\n",
    "    print(f'{i-len(str1)} is negative index and {i} is positive index of {str1[i]}')\n",
    "    "
   ]
  },
  {
   "cell_type": "markdown",
   "id": "204df510-06b6-4cbf-8d4f-0de77dadc89d",
   "metadata": {},
   "source": [
    "**when to use range - when to use in operator**\n",
    "\n",
    "- any problem if we work with index use range operator\n",
    "\n",
    "- range operator will give index as well as charcter\n",
    "\n",
    "- any problem if index is not useful, only charcter is useful then go with **in**\n",
    "\n",
    "- with **in** operator we can not get index"
   ]
  },
  {
   "cell_type": "code",
   "execution_count": null,
   "id": "b0582b63-a64c-4be9-8844-8f5d8c8a3eee",
   "metadata": {},
   "outputs": [],
   "source": [
    "#Q4) write a program count the number of 'a' letters in a given string\n",
    "\n",
    "#Q5) wap to find the index of 'a' letters in a given string\n",
    "\n",
    "#Q6) wap to get sum of all the indexes of 'a' letters in a given string \n",
    "\n",
    "#Q7) wap to find the number of vowels in a given string \n",
    "\n",
    "#Q8) wap to find the non repeated vowels in a given string"
   ]
  },
  {
   "cell_type": "code",
   "execution_count": 9,
   "id": "6bb633aa-267e-4ead-b9c8-97cf646507ff",
   "metadata": {},
   "outputs": [
    {
     "name": "stdout",
     "output_type": "stream",
     "text": [
      "the total a are: 3\n"
     ]
    }
   ],
   "source": [
    "s='this is a very beautiful apple'\n",
    "count=0\n",
    "for i in range(len(s)):\n",
    "    if s[i] == 'a':\n",
    "        count+=1\n",
    "print('the total a are:',count)\n",
    "   "
   ]
  },
  {
   "cell_type": "code",
   "execution_count": 10,
   "id": "55578f77-1e7e-4b34-b39f-378afa914e65",
   "metadata": {},
   "outputs": [
    {
     "name": "stdout",
     "output_type": "stream",
     "text": [
      "a has index at 8\n",
      "a has index at 17\n",
      "a has index at 25\n"
     ]
    }
   ],
   "source": [
    "for i in range(len(s)):\n",
    "    if s[i] == 'a':\n",
    "        print(f'{s[i]} has index at {i}')"
   ]
  },
  {
   "cell_type": "code",
   "execution_count": 35,
   "id": "bbb91c98-a81a-4e9d-937f-2d62ae95d890",
   "metadata": {},
   "outputs": [
    {
     "name": "stdout",
     "output_type": "stream",
     "text": [
      "the total a are: 3\n"
     ]
    }
   ],
   "source": [
    "count=0\n",
    "str1='ola ola ola'\n",
    "for i in str1 :\n",
    "    if i =='a':\n",
    "        count+=1\n",
    "print('the total a are:',count)"
   ]
  },
  {
   "cell_type": "code",
   "execution_count": 42,
   "id": "8091c827-cea7-4c44-8cdc-ab20c6c79aa7",
   "metadata": {},
   "outputs": [
    {
     "name": "stdout",
     "output_type": "stream",
     "text": [
      "a has index at 2\n",
      "a has index at 6\n",
      "a has index at 10\n"
     ]
    }
   ],
   "source": [
    "str1='ola ola ola'\n",
    "for i in range(len(str1)):\n",
    "    if str1[i]=='a':\n",
    "        print(f'{str1[i]} has index at {i}')"
   ]
  },
  {
   "cell_type": "code",
   "execution_count": 44,
   "id": "c28981b2-a036-467e-aca6-ad89e60e3cd1",
   "metadata": {},
   "outputs": [
    {
     "name": "stdout",
     "output_type": "stream",
     "text": [
      "18\n"
     ]
    }
   ],
   "source": [
    "sum=0\n",
    "str1='ola ola ola'\n",
    "for i in range(len(str1)) :\n",
    "    if str1[i] =='a':\n",
    "        sum+=i\n",
    "print(sum)"
   ]
  },
  {
   "cell_type": "code",
   "execution_count": 14,
   "id": "24370d80-fccd-4453-9513-5a5e84775d19",
   "metadata": {},
   "outputs": [
    {
     "name": "stdout",
     "output_type": "stream",
     "text": [
      "11\n"
     ]
    }
   ],
   "source": [
    "count=0\n",
    "for i in s:\n",
    "    if i in 'aeiou':\n",
    "        count+=1\n",
    "print(count)"
   ]
  },
  {
   "cell_type": "code",
   "execution_count": null,
   "id": "c48e879e-6dd7-481e-b0e9-c905740d9bae",
   "metadata": {},
   "outputs": [],
   "source": [
    "#Q8) we need to avoid the repeatition\n",
    "# take empty string s1=''\n",
    "# take another vowel string s2='aeiou'\n",
    "# iterate each letter\n",
    "# con1 = the letter in s2\n",
    "# con2 = the letter not in s1\n",
    "# than that is our desired vowel them immediatly push that letter into s1\n",
    "# s1= s1+ <letter>\n",
    "# every vowel should come but we need to avoid the repeatition\n",
    "# non reapeating ===== a (try today)"
   ]
  },
  {
   "cell_type": "code",
   "execution_count": 16,
   "id": "7b07fae6-0ba4-40a6-a65e-ce53a14cba6d",
   "metadata": {},
   "outputs": [
    {
     "name": "stdout",
     "output_type": "stream",
     "text": [
      "iaeu\n",
      "4\n"
     ]
    }
   ],
   "source": [
    "s1=''\n",
    "s2='aeiou'\n",
    "count=0\n",
    "for i in s:\n",
    "    if i in s2 and i not in s1 :\n",
    "        s1=s1+i\n",
    "        count+=1\n",
    "print(s1)\n",
    "print(count)"
   ]
  },
  {
   "cell_type": "markdown",
   "id": "88e49f38-2594-496c-8bd2-60dc76e025dc",
   "metadata": {},
   "source": [
    "**Mutable-Immutable**"
   ]
  },
  {
   "cell_type": "markdown",
   "id": "b5ff1d64-edfd-477a-b958-280320052da2",
   "metadata": {},
   "source": [
    "- if  the element will change useing indexing is called as mutable\n",
    "\n",
    "- otherwise immutable"
   ]
  },
  {
   "cell_type": "code",
   "execution_count": 18,
   "id": "f5249239-bae4-48df-a995-a572e46d6846",
   "metadata": {},
   "outputs": [],
   "source": [
    "# mutable : Change\n",
    "# immutable : No Change\n",
    "str1='welcome'\n",
    "\n",
    "# i want to change 'l' with 'L'\n",
    "# can we change 'l' with 'L' ?"
   ]
  },
  {
   "cell_type": "code",
   "execution_count": 20,
   "id": "d64d6487-1d17-49c8-9208-032d641130dd",
   "metadata": {},
   "outputs": [
    {
     "ename": "TypeError",
     "evalue": "'type' object does not support item assignment",
     "output_type": "error",
     "traceback": [
      "\u001b[1;31m---------------------------------------------------------------------------\u001b[0m",
      "\u001b[1;31mTypeError\u001b[0m                                 Traceback (most recent call last)",
      "Cell \u001b[1;32mIn[20], line 1\u001b[0m\n\u001b[1;32m----> 1\u001b[0m \u001b[38;5;28mstr\u001b[39m[\u001b[38;5;241m2\u001b[39m]\u001b[38;5;241m=\u001b[39m\u001b[38;5;124m'\u001b[39m\u001b[38;5;124mL\u001b[39m\u001b[38;5;124m'\u001b[39m\n",
      "\u001b[1;31mTypeError\u001b[0m: 'type' object does not support item assignment"
     ]
    }
   ],
   "source": [
    "str[2]='L'"
   ]
  },
  {
   "cell_type": "code",
   "execution_count": 21,
   "id": "a9823bbc-5802-4141-a068-e0a79522be0c",
   "metadata": {},
   "outputs": [
    {
     "name": "stdout",
     "output_type": "stream",
     "text": [
      "[10, 20, 300, 40, 50, 40]\n"
     ]
    }
   ],
   "source": [
    "lst=[10,20,30,40,50,40]\n",
    "lst[2]=300\n",
    "print(lst)"
   ]
  },
  {
   "cell_type": "markdown",
   "id": "3603c532-0dd5-43be-8657-3b4cbf36e18d",
   "metadata": {},
   "source": [
    "**Slicing operation on string**"
   ]
  },
  {
   "cell_type": "markdown",
   "id": "9ff7fd63-b0f5-44cf-a59a-967e15590d5e",
   "metadata": {},
   "source": [
    "- slice : piece of the string\n",
    "\n",
    "- it is similar to for loop start :stop: step"
   ]
  },
  {
   "cell_type": "code",
   "execution_count": 68,
   "id": "2880ce34-1ef2-4324-97be-ff4c5fc43f89",
   "metadata": {},
   "outputs": [
    {
     "name": "stdout",
     "output_type": "stream",
     "text": [
      "0 -17 h\n",
      "1 -16 e\n",
      "2 -15 l\n",
      "3 -14 l\n",
      "4 -13 o\n",
      "5 -12  \n",
      "6 -11 h\n",
      "7 -10 o\n",
      "8 -9 w\n",
      "9 -8  \n",
      "10 -7 a\n",
      "11 -6 r\n",
      "12 -5 e\n",
      "13 -4  \n",
      "14 -3 y\n",
      "15 -2 o\n",
      "16 -1 u\n"
     ]
    }
   ],
   "source": [
    "str3='hello how are you'\n",
    "for i in range(len(str3)):\n",
    "    print(i,i-len(str3),str3[i])"
   ]
  },
  {
   "cell_type": "markdown",
   "id": "ca5f6204-165d-45ba-a5e6-915d24fc0295",
   "metadata": {},
   "source": [
    "**case-1: str[start:]**\n"
   ]
  },
  {
   "cell_type": "code",
   "execution_count": null,
   "id": "5a71a29d-dbda-4d04-b402-d29f6f8bff07",
   "metadata": {},
   "outputs": [],
   "source": [
    "- str1[start]"
   ]
  },
  {
   "cell_type": "code",
   "execution_count": 64,
   "id": "fe4bb044-2b4a-41bf-b28c-44f9d7ecfbae",
   "metadata": {},
   "outputs": [
    {
     "data": {
      "text/plain": [
       "' how are you'"
      ]
     },
     "execution_count": 64,
     "metadata": {},
     "output_type": "execute_result"
    }
   ],
   "source": [
    "str3[5:]"
   ]
  },
  {
   "cell_type": "code",
   "execution_count": 65,
   "id": "1e8966c8-d366-4258-856d-03eacabade6d",
   "metadata": {},
   "outputs": [
    {
     "data": {
      "text/plain": [
       "'e you'"
      ]
     },
     "execution_count": 65,
     "metadata": {},
     "output_type": "execute_result"
    }
   ],
   "source": [
    "str3[-5:]"
   ]
  },
  {
   "cell_type": "markdown",
   "id": "0b34050a-8de8-4d17-80cf-103fbc565ecd",
   "metadata": {},
   "source": [
    "**case-2:str1[start:stop]**\n",
    "\n",
    "- start=start value\n",
    "\n",
    "- step is not mentioned means = positive one\n",
    "\n",
    "- last = stop-1"
   ]
  },
  {
   "cell_type": "code",
   "execution_count": null,
   "id": "0ae669f7-1eda-4b66-9808-5049fc7bad28",
   "metadata": {},
   "outputs": [],
   "source": []
  },
  {
   "cell_type": "code",
   "execution_count": 69,
   "id": "49467e25-ae05-4905-888e-f34032861043",
   "metadata": {},
   "outputs": [
    {
     "data": {
      "text/plain": [
       "''"
      ]
     },
     "execution_count": 69,
     "metadata": {},
     "output_type": "execute_result"
    }
   ],
   "source": [
    "str3[-2:-12]"
   ]
  },
  {
   "cell_type": "markdown",
   "id": "b224851e-9c41-4b1a-aad8-2960c4b25492",
   "metadata": {},
   "source": [
    "**case-3: strobj[start:stop:step]**\n"
   ]
  },
  {
   "cell_type": "code",
   "execution_count": 70,
   "id": "192b540f-9d76-4c6f-82e6-741fbd905da8",
   "metadata": {},
   "outputs": [
    {
     "data": {
      "text/plain": [
       "''"
      ]
     },
     "execution_count": 70,
     "metadata": {},
     "output_type": "execute_result"
    }
   ],
   "source": [
    "str[2:-15:2]"
   ]
  },
  {
   "cell_type": "code",
   "execution_count": 71,
   "id": "4634b111-abcc-460e-9f95-2150d1f55309",
   "metadata": {},
   "outputs": [
    {
     "data": {
      "text/plain": [
       "''"
      ]
     },
     "execution_count": 71,
     "metadata": {},
     "output_type": "execute_result"
    }
   ],
   "source": [
    "str3[15:-2:2]"
   ]
  },
  {
   "cell_type": "code",
   "execution_count": 77,
   "id": "748ad52c-5eb2-4f68-bf1e-7edf5f79d97d",
   "metadata": {},
   "outputs": [
    {
     "data": {
      "text/plain": [
       "('', 'l')"
      ]
     },
     "execution_count": 77,
     "metadata": {},
     "output_type": "execute_result"
    }
   ],
   "source": [
    "str3[2:-15:-2],str3[2:-14:2]"
   ]
  },
  {
   "cell_type": "code",
   "execution_count": 79,
   "id": "2353ffe1-8d85-4b8f-97e2-a780d2479658",
   "metadata": {},
   "outputs": [
    {
     "data": {
      "text/plain": [
       "'llo how are you'"
      ]
     },
     "execution_count": 79,
     "metadata": {},
     "output_type": "execute_result"
    }
   ],
   "source": [
    "str3[2:250]"
   ]
  },
  {
   "cell_type": "markdown",
   "id": "560ef1f0-2fcf-433c-9caf-63dbd43e6e59",
   "metadata": {},
   "source": [
    "**Methods**"
   ]
  },
  {
   "cell_type": "code",
   "execution_count": 83,
   "id": "c88e482d-6784-45cb-be06-8c5163c267ce",
   "metadata": {},
   "outputs": [
    {
     "data": {
      "text/plain": [
       "['__add__',\n",
       " '__class__',\n",
       " '__contains__',\n",
       " '__delattr__',\n",
       " '__dir__',\n",
       " '__doc__',\n",
       " '__eq__',\n",
       " '__format__',\n",
       " '__ge__',\n",
       " '__getattribute__',\n",
       " '__getitem__',\n",
       " '__getnewargs__',\n",
       " '__getstate__',\n",
       " '__gt__',\n",
       " '__hash__',\n",
       " '__init__',\n",
       " '__init_subclass__',\n",
       " '__iter__',\n",
       " '__le__',\n",
       " '__len__',\n",
       " '__lt__',\n",
       " '__mod__',\n",
       " '__mul__',\n",
       " '__ne__',\n",
       " '__new__',\n",
       " '__reduce__',\n",
       " '__reduce_ex__',\n",
       " '__repr__',\n",
       " '__rmod__',\n",
       " '__rmul__',\n",
       " '__setattr__',\n",
       " '__sizeof__',\n",
       " '__str__',\n",
       " '__subclasshook__',\n",
       " 'capitalize',\n",
       " 'casefold',\n",
       " 'center',\n",
       " 'count',\n",
       " 'encode',\n",
       " 'endswith',\n",
       " 'expandtabs',\n",
       " 'find',\n",
       " 'format',\n",
       " 'format_map',\n",
       " 'index',\n",
       " 'isalnum',\n",
       " 'isalpha',\n",
       " 'isascii',\n",
       " 'isdecimal',\n",
       " 'isdigit',\n",
       " 'isidentifier',\n",
       " 'islower',\n",
       " 'isnumeric',\n",
       " 'isprintable',\n",
       " 'isspace',\n",
       " 'istitle',\n",
       " 'isupper',\n",
       " 'join',\n",
       " 'ljust',\n",
       " 'lower',\n",
       " 'lstrip',\n",
       " 'maketrans',\n",
       " 'partition',\n",
       " 'removeprefix',\n",
       " 'removesuffix',\n",
       " 'replace',\n",
       " 'rfind',\n",
       " 'rindex',\n",
       " 'rjust',\n",
       " 'rpartition',\n",
       " 'rsplit',\n",
       " 'rstrip',\n",
       " 'split',\n",
       " 'splitlines',\n",
       " 'startswith',\n",
       " 'strip',\n",
       " 'swapcase',\n",
       " 'title',\n",
       " 'translate',\n",
       " 'upper',\n",
       " 'zfill']"
      ]
     },
     "execution_count": 83,
     "metadata": {},
     "output_type": "execute_result"
    }
   ],
   "source": [
    "name='sourabh'\n",
    "dir(name)\n"
   ]
  },
  {
   "cell_type": "code",
   "execution_count": null,
   "id": "09137ddf-a8c4-43c1-9827-1a691c2bfaf6",
   "metadata": {},
   "outputs": [],
   "source": [
    "<package"
   ]
  },
  {
   "cell_type": "code",
   "execution_count": 82,
   "id": "d98a16ac-b848-4f33-9eaf-493e0bddd77a",
   "metadata": {},
   "outputs": [
    {
     "data": {
      "text/plain": [
       "'sourabh'"
      ]
     },
     "execution_count": 82,
     "metadata": {},
     "output_type": "execute_result"
    }
   ],
   "source": [
    "name.lower()"
   ]
  },
  {
   "cell_type": "markdown",
   "id": "f88312cb-96ef-476e-a34b-7b40b5d77098",
   "metadata": {},
   "source": [
    "**output will not overwrite**"
   ]
  },
  {
   "cell_type": "markdown",
   "id": "81151a4f-9740-47ac-b74e-363b4f4ffddd",
   "metadata": {},
   "source": [
    "- whenever we apply the function\n",
    "\n",
    "- always apply shift+tab\n",
    "\n",
    "- then if any argument are there try to understand those\n",
    "\n",
    "- in that one argument name is called as **inplace**\n",
    "\n",
    "- inplace= True the result will be overwrite in original variable\n",
    "\n",
    "- if inplace not availabe or inplace = False\n",
    "\n",
    "- the the output will not overwrite\n",
    "\n",
    "- in the upper case there is no arguments\n",
    "\n",
    "- so when we apply upper the output will not overwrite\n"
   ]
  },
  {
   "cell_type": "code",
   "execution_count": 100,
   "id": "c6172189-3915-4ec4-b45b-f6bb561e31ce",
   "metadata": {},
   "outputs": [],
   "source": [
    "name='python'\n",
    "name_upper=name.upper()"
   ]
  },
  {
   "cell_type": "code",
   "execution_count": 101,
   "id": "973926e4-d5b0-49d1-913d-06c1af437afa",
   "metadata": {},
   "outputs": [
    {
     "name": "stdout",
     "output_type": "stream",
     "text": [
      "python\n",
      "PYTHON\n"
     ]
    }
   ],
   "source": [
    "print(name)\n",
    "print(name_upper)"
   ]
  },
  {
   "cell_type": "code",
   "execution_count": 84,
   "id": "0d91b482-4025-4b99-917a-54ad5be62348",
   "metadata": {},
   "outputs": [
    {
     "data": {
      "text/plain": [
       "'sourabh'"
      ]
     },
     "execution_count": 84,
     "metadata": {},
     "output_type": "execute_result"
    }
   ],
   "source": [
    "name.casefold()"
   ]
  },
  {
   "cell_type": "code",
   "execution_count": 86,
   "id": "2a96305a-1bff-4c5c-bac4-a507682ee380",
   "metadata": {},
   "outputs": [
    {
     "data": {
      "text/plain": [
       "'  sourabh   '"
      ]
     },
     "execution_count": 86,
     "metadata": {},
     "output_type": "execute_result"
    }
   ],
   "source": [
    "name.center(12)"
   ]
  },
  {
   "cell_type": "code",
   "execution_count": 88,
   "id": "a78b278f-4b69-43e1-a687-94deaaf115b4",
   "metadata": {},
   "outputs": [
    {
     "data": {
      "text/plain": [
       "'Sourabh'"
      ]
     },
     "execution_count": 88,
     "metadata": {},
     "output_type": "execute_result"
    }
   ],
   "source": [
    "name.capitalize()"
   ]
  },
  {
   "cell_type": "code",
   "execution_count": 89,
   "id": "c3451839-9a27-4ea7-b27e-ee1ed4f98007",
   "metadata": {},
   "outputs": [
    {
     "data": {
      "text/plain": [
       "'Sourabh'"
      ]
     },
     "execution_count": 89,
     "metadata": {},
     "output_type": "execute_result"
    }
   ],
   "source": [
    "name.title()"
   ]
  },
  {
   "cell_type": "code",
   "execution_count": 90,
   "id": "cc39b955-147a-40bc-b4a1-0ac1fcd92f15",
   "metadata": {},
   "outputs": [
    {
     "data": {
      "text/plain": [
       "False"
      ]
     },
     "execution_count": 90,
     "metadata": {},
     "output_type": "execute_result"
    }
   ],
   "source": [
    "name.isupper()"
   ]
  },
  {
   "cell_type": "code",
   "execution_count": 91,
   "id": "ae0d08e6-75a4-414c-a4b4-2af1d3682320",
   "metadata": {},
   "outputs": [
    {
     "data": {
      "text/plain": [
       "True"
      ]
     },
     "execution_count": 91,
     "metadata": {},
     "output_type": "execute_result"
    }
   ],
   "source": [
    "name.islower()"
   ]
  },
  {
   "cell_type": "code",
   "execution_count": 96,
   "id": "b9d12925-3cff-4e3b-b1cd-42db514d818b",
   "metadata": {},
   "outputs": [],
   "source": [
    "lst=[10,20,30,40]\n",
    "a=bytes(lst)"
   ]
  },
  {
   "cell_type": "code",
   "execution_count": 97,
   "id": "58753837-492d-49bc-ba52-02be7bbd8dcb",
   "metadata": {},
   "outputs": [
    {
     "name": "stdout",
     "output_type": "stream",
     "text": [
      "b'\\n\\x14\\x1e('\n",
      "b'\\n\\x14\\x1e('\n",
      "b'\\n\\x14\\x1e('\n",
      "b'\\n\\x14\\x1e('\n"
     ]
    }
   ],
   "source": [
    "for i in a:\n",
    "    print(a)"
   ]
  },
  {
   "cell_type": "code",
   "execution_count": 98,
   "id": "5a941724-5737-4b48-88c6-fc28da179cfc",
   "metadata": {},
   "outputs": [
    {
     "name": "stdout",
     "output_type": "stream",
     "text": [
      "b'\\n\\x14\\x1e('\n"
     ]
    }
   ],
   "source": [
    "print(a)"
   ]
  },
  {
   "cell_type": "markdown",
   "id": "8d7abebe-19d9-4334-b9cb-76c55835c81d",
   "metadata": {},
   "source": [
    "**Methods vs inbuilt Functions**\n",
    "\n",
    "- inbuilt functions applicable for all python data types\n",
    "\n",
    "- ex: print,min,max,type....etc\n",
    "\n",
    "- access: inbuilt_function(<value>)\n",
    "\n",
    "- method is a specific use for different data types\n",
    "\n",
    "- access: package.methodname()\n",
    "\n",
    "- access: element.methodname()"
   ]
  },
  {
   "cell_type": "code",
   "execution_count": 102,
   "id": "54967b71-6d80-43c6-a8c1-d5dca54f11f2",
   "metadata": {},
   "outputs": [
    {
     "data": {
      "text/plain": [
       "'python'"
      ]
     },
     "execution_count": 102,
     "metadata": {},
     "output_type": "execute_result"
    }
   ],
   "source": [
    "'python'.casefold()"
   ]
  },
  {
   "cell_type": "code",
   "execution_count": 2,
   "id": "72d1aa2a-b783-4323-8be4-d077029e381e",
   "metadata": {},
   "outputs": [
    {
     "name": "stdout",
     "output_type": "stream",
     "text": [
      "souoorabh\n"
     ]
    }
   ],
   "source": [
    "name='souoorabh'\n",
    "print(name)"
   ]
  },
  {
   "cell_type": "code",
   "execution_count": 3,
   "id": "e066055f-d575-4d77-803c-d05bc4020f34",
   "metadata": {},
   "outputs": [
    {
     "data": {
      "text/plain": [
       "'sOuOOrabh'"
      ]
     },
     "execution_count": 3,
     "metadata": {},
     "output_type": "execute_result"
    }
   ],
   "source": [
    "name.replace('o','O',4)"
   ]
  },
  {
   "cell_type": "markdown",
   "id": "b4fd6f16-5f04-4352-99de-faf212242cbd",
   "metadata": {},
   "source": [
    "**How to replace the second letter**"
   ]
  },
  {
   "cell_type": "markdown",
   "id": "69f14993-5bed-4fa0-841f-635a28eeba3e",
   "metadata": {},
   "source": []
  },
  {
   "cell_type": "code",
   "execution_count": 5,
   "id": "8fcfd00f-90c1-4484-b3c3-c334ca3c71ce",
   "metadata": {},
   "outputs": [
    {
     "data": {
      "text/plain": [
       "'resta$t'"
      ]
     },
     "execution_count": 5,
     "metadata": {},
     "output_type": "execute_result"
    }
   ],
   "source": [
    "str='restart'\n",
    "s1=str[0]     # indexing\n",
    "s2=str[1:]    # slicing\n",
    "s3=s2.replace('r','$')   #replace\n",
    "s1+s3   "
   ]
  },
  {
   "cell_type": "code",
   "execution_count": 6,
   "id": "393d0057-6553-4e40-abb6-be0570b20b08",
   "metadata": {},
   "outputs": [
    {
     "data": {
      "text/plain": [
       "'resta$t'"
      ]
     },
     "execution_count": 6,
     "metadata": {},
     "output_type": "execute_result"
    }
   ],
   "source": [
    "str1='restart'\n",
    "str1[::-1].replace('r','$',1)[::-1]"
   ]
  },
  {
   "cell_type": "markdown",
   "id": "6a5595de-8472-4ee5-973a-cd65971f414d",
   "metadata": {},
   "source": [
    "**index**"
   ]
  },
  {
   "cell_type": "code",
   "execution_count": 10,
   "id": "cf90c683-afce-46a2-9bcc-34d1e93e6080",
   "metadata": {},
   "outputs": [
    {
     "data": {
      "text/plain": [
       "(12, 4)"
      ]
     },
     "execution_count": 10,
     "metadata": {},
     "output_type": "execute_result"
    }
   ],
   "source": [
    "str1='hello hai how are you'\n",
    "str1.index('w'),str1.index('o')"
   ]
  },
  {
   "cell_type": "code",
   "execution_count": 8,
   "id": "eef4e65d-d793-4a5e-a284-e000be581fef",
   "metadata": {},
   "outputs": [
    {
     "data": {
      "text/plain": [
       "0"
      ]
     },
     "execution_count": 8,
     "metadata": {},
     "output_type": "execute_result"
    }
   ],
   "source": [
    "str1.index('h')"
   ]
  },
  {
   "cell_type": "code",
   "execution_count": 21,
   "id": "f06482f4-89c9-47c3-9967-b7134b32be0c",
   "metadata": {},
   "outputs": [
    {
     "data": {
      "text/plain": [
       "(0, 4, 8, 12, 16)"
      ]
     },
     "execution_count": 21,
     "metadata": {},
     "output_type": "execute_result"
    }
   ],
   "source": [
    "str3='hai hai hai hai hai'\n",
    "i1=str3.index('h')\n",
    "i2=str3.index('h',i1+1)\n",
    "i3=str3.index('h',i2+1)\n",
    "i4=str3.index('h',i3+1)\n",
    "i5=str3.index('h',i4+1)\n",
    "i1,i2,i3,i4,i5"
   ]
  },
  {
   "cell_type": "code",
   "execution_count": 34,
   "id": "29ece39e-a09b-49fb-8196-cb0715c16e58",
   "metadata": {},
   "outputs": [
    {
     "data": {
      "text/plain": [
       "'restart $estart'"
      ]
     },
     "execution_count": 34,
     "metadata": {},
     "output_type": "execute_result"
    }
   ],
   "source": [
    "str='restart restart'\n",
    "i1=str.index('r')\n",
    "s1=str.index('r',i1+1)\n",
    "s2=str[:s1+1]\n",
    "s3=str[s1+1:]\n",
    "s4=s3.replace('r','$',1)\n",
    "s2+s4"
   ]
  },
  {
   "cell_type": "markdown",
   "id": "050ed04e-cf47-46f8-81c3-3ee1d6e88985",
   "metadata": {},
   "source": [
    "**find**"
   ]
  },
  {
   "cell_type": "code",
   "execution_count": 41,
   "id": "75002ba0-fb91-4edf-82c9-b0ed74157c1d",
   "metadata": {},
   "outputs": [
    {
     "data": {
      "text/plain": [
       "(0, 4, 8, 12, -1)"
      ]
     },
     "execution_count": 41,
     "metadata": {},
     "output_type": "execute_result"
    }
   ],
   "source": [
    "str='hai hai hai hai'\n",
    "i1=str.find('h')\n",
    "i2=str.find('h',i1+1)\n",
    "i3=str.find('h',i2+1)\n",
    "i4=str.find('h',i3+1)\n",
    "i5=str.find('h',i4+1)\n",
    "i1,i2,i3,i4,i5"
   ]
  },
  {
   "cell_type": "markdown",
   "id": "74bb6415-21f2-41ac-bd2d-a8240e4323b5",
   "metadata": {},
   "source": [
    "- index and find both are working for same to find the index of a letter\n",
    "\n",
    "- if any substring not found index will throw error\n",
    "\n",
    "- but find method will give -1"
   ]
  },
  {
   "cell_type": "markdown",
   "id": "d71c0ba9-59c0-469e-83dc-5e6a777e8a95",
   "metadata": {},
   "source": [
    "**count method**"
   ]
  },
  {
   "cell_type": "code",
   "execution_count": 42,
   "id": "80aacb1e-facf-44a2-add3-731f187d78f7",
   "metadata": {},
   "outputs": [
    {
     "data": {
      "text/plain": [
       "4"
      ]
     },
     "execution_count": 42,
     "metadata": {},
     "output_type": "execute_result"
    }
   ],
   "source": [
    "str1='hai hai hai hai'\n",
    "str1.count('a')"
   ]
  },
  {
   "cell_type": "code",
   "execution_count": 46,
   "id": "51d4e772-7aca-4b2a-995d-c0721fb4077c",
   "metadata": {},
   "outputs": [
    {
     "data": {
      "text/plain": [
       "3"
      ]
     },
     "execution_count": 46,
     "metadata": {},
     "output_type": "execute_result"
    }
   ],
   "source": [
    "str1.count('ha',3)"
   ]
  },
  {
   "cell_type": "code",
   "execution_count": 44,
   "id": "c0b79ef6-1a99-4237-8782-20fd015c058f",
   "metadata": {},
   "outputs": [
    {
     "data": {
      "text/plain": [
       "1"
      ]
     },
     "execution_count": 44,
     "metadata": {},
     "output_type": "execute_result"
    }
   ],
   "source": [
    "str1.count(str1)"
   ]
  },
  {
   "cell_type": "markdown",
   "id": "61902b81-9cb5-4717-9ad7-a18121af7be8",
   "metadata": {},
   "source": [
    "**Sliding Window Approach**"
   ]
  },
  {
   "cell_type": "code",
   "execution_count": 53,
   "id": "e70ab345-13af-45e8-ab09-7533380c8108",
   "metadata": {},
   "outputs": [
    {
     "name": "stdout",
     "output_type": "stream",
     "text": [
      "4\n"
     ]
    }
   ],
   "source": [
    "\n",
    "str1='hai hai hai hai'\n",
    "count=0\n",
    "for i in range(len(str1)):\n",
    "    if str[i:i+3]=='hai':\n",
    "        count=count+1\n",
    "\n",
    "print(count)\n",
    "\n",
    "# step1- i=0   str[0:0+3]  str[0:3]    012=hai   true"
   ]
  },
  {
   "cell_type": "code",
   "execution_count": null,
   "id": "58ae28b9-6800-4d78-b5e1-24b0da10cc95",
   "metadata": {},
   "outputs": [],
   "source": [
    "str=input('Enter the string:')\n",
    "for i in range(len(str)):"
   ]
  },
  {
   "cell_type": "code",
   "execution_count": 73,
   "id": "c9b52e54-f7e1-477d-b220-d795f761fa43",
   "metadata": {},
   "outputs": [
    {
     "data": {
      "text/plain": [
       "('virat', 'kohli', 'rcb.com')"
      ]
     },
     "execution_count": 73,
     "metadata": {},
     "output_type": "execute_result"
    }
   ],
   "source": [
    "str1='virat.kohli@rcb.com'\n",
    "s1=str1.index('.')\n",
    "s2=str1[:s1]\n",
    "s3=str1.index('@')\n",
    "s4=str1[s1+1:11]\n",
    "#s5=str1[s4+1:]\n",
    "s=str1[s3+1:]\n",
    "s2,s4,s"
   ]
  },
  {
   "cell_type": "code",
   "execution_count": 74,
   "id": "2fe437fd-7fc3-4005-b9ae-4fa5d4ebfb85",
   "metadata": {},
   "outputs": [],
   "source": [
    "# fname : available from starting to first_dot\n",
    "#sname : available from first_dot to @symbol\n",
    "#cname : available from @symbol to second_dot\n",
    "\n",
    "first_dot=str1.index('.')\n",
    "second_dot=str1.index('.',first_dot+1)\n",
    "at_symbol=str1.index('@')"
   ]
  },
  {
   "cell_type": "code",
   "execution_count": 75,
   "id": "537fd5eb-bae0-4df6-b59f-51219943f35a",
   "metadata": {},
   "outputs": [
    {
     "data": {
      "text/plain": [
       "['__add__',\n",
       " '__class__',\n",
       " '__contains__',\n",
       " '__delattr__',\n",
       " '__dir__',\n",
       " '__doc__',\n",
       " '__eq__',\n",
       " '__format__',\n",
       " '__ge__',\n",
       " '__getattribute__',\n",
       " '__getitem__',\n",
       " '__getnewargs__',\n",
       " '__getstate__',\n",
       " '__gt__',\n",
       " '__hash__',\n",
       " '__init__',\n",
       " '__init_subclass__',\n",
       " '__iter__',\n",
       " '__le__',\n",
       " '__len__',\n",
       " '__lt__',\n",
       " '__mod__',\n",
       " '__mul__',\n",
       " '__ne__',\n",
       " '__new__',\n",
       " '__reduce__',\n",
       " '__reduce_ex__',\n",
       " '__repr__',\n",
       " '__rmod__',\n",
       " '__rmul__',\n",
       " '__setattr__',\n",
       " '__sizeof__',\n",
       " '__str__',\n",
       " '__subclasshook__',\n",
       " 'capitalize',\n",
       " 'casefold',\n",
       " 'center',\n",
       " 'count',\n",
       " 'encode',\n",
       " 'endswith',\n",
       " 'expandtabs',\n",
       " 'find',\n",
       " 'format',\n",
       " 'format_map',\n",
       " 'index',\n",
       " 'isalnum',\n",
       " 'isalpha',\n",
       " 'isascii',\n",
       " 'isdecimal',\n",
       " 'isdigit',\n",
       " 'isidentifier',\n",
       " 'islower',\n",
       " 'isnumeric',\n",
       " 'isprintable',\n",
       " 'isspace',\n",
       " 'istitle',\n",
       " 'isupper',\n",
       " 'join',\n",
       " 'ljust',\n",
       " 'lower',\n",
       " 'lstrip',\n",
       " 'maketrans',\n",
       " 'partition',\n",
       " 'removeprefix',\n",
       " 'removesuffix',\n",
       " 'replace',\n",
       " 'rfind',\n",
       " 'rindex',\n",
       " 'rjust',\n",
       " 'rpartition',\n",
       " 'rsplit',\n",
       " 'rstrip',\n",
       " 'split',\n",
       " 'splitlines',\n",
       " 'startswith',\n",
       " 'strip',\n",
       " 'swapcase',\n",
       " 'title',\n",
       " 'translate',\n",
       " 'upper',\n",
       " 'zfill']"
      ]
     },
     "execution_count": 75,
     "metadata": {},
     "output_type": "execute_result"
    }
   ],
   "source": [
    "dir('')"
   ]
  },
  {
   "cell_type": "code",
   "execution_count": null,
   "id": "701a9f8d-3f54-4827-b14d-3f09a4894733",
   "metadata": {},
   "outputs": [],
   "source": [
    "'isalnum',\n",
    " 'isalpha',\n",
    " 'isascii',\n",
    " 'isdecimal',\n",
    " 'isdigit',\n",
    " 'isidentifier',\n",
    " 'islower',\n",
    " 'isnumeric',\n",
    " 'isprintable',\n",
    " 'isspace',\n",
    " 'istitle',\n",
    " 'isupper',"
   ]
  },
  {
   "cell_type": "markdown",
   "id": "83cd7749-cbf5-40e0-8f59-7daff9b7ea9c",
   "metadata": {},
   "source": [
    "**lstrip-strip-rstrip**"
   ]
  },
  {
   "cell_type": "markdown",
   "id": "2f5e6d92-ad5c-477e-ac22-ae15ee4b2817",
   "metadata": {},
   "source": [
    "- lstrip: we can remove some letter from left side of string\n",
    "\n",
    "- rstrip: we can remove some letter from right side of string\n",
    "\n",
    "- strip : we can remove some letter from both side of string"
   ]
  },
  {
   "cell_type": "code",
   "execution_count": 76,
   "id": "9318e85b-4dd6-45e9-9707-6ac66b8050bb",
   "metadata": {},
   "outputs": [],
   "source": [
    "s1=' hai how are you'\n",
    "s2='hai how are you '\n",
    "s3=' hai how are you '"
   ]
  },
  {
   "cell_type": "code",
   "execution_count": 77,
   "id": "41a4d042-9848-4133-a024-8291c4c1a517",
   "metadata": {},
   "outputs": [
    {
     "data": {
      "text/plain": [
       "('hai how are you', ' hai how are you', 'hai how are you')"
      ]
     },
     "execution_count": 77,
     "metadata": {},
     "output_type": "execute_result"
    }
   ],
   "source": [
    "s1.lstrip(),s1.rstrip(),s1.strip()"
   ]
  },
  {
   "cell_type": "code",
   "execution_count": 78,
   "id": "cb4d7085-ef09-4d22-81dd-ad1ea42886bf",
   "metadata": {},
   "outputs": [
    {
     "data": {
      "text/plain": [
       "('hai how are you ', 'hai how are you', 'hai how are you')"
      ]
     },
     "execution_count": 78,
     "metadata": {},
     "output_type": "execute_result"
    }
   ],
   "source": [
    "s2.lstrip(),s2.rstrip(),s2.strip()"
   ]
  },
  {
   "cell_type": "code",
   "execution_count": 79,
   "id": "de93a057-514e-446a-ac3e-be54fd016e04",
   "metadata": {},
   "outputs": [
    {
     "data": {
      "text/plain": [
       "('hai how are you ', ' hai how are you', 'hai how are you')"
      ]
     },
     "execution_count": 79,
     "metadata": {},
     "output_type": "execute_result"
    }
   ],
   "source": [
    "s3.lstrip(),s3.rstrip(),s3.strip()"
   ]
  },
  {
   "cell_type": "markdown",
   "id": "583a6be7-4d08-43cf-94e0-d2e53bd58e08",
   "metadata": {},
   "source": [
    "**startswith-endwidth**"
   ]
  },
  {
   "cell_type": "code",
   "execution_count": 83,
   "id": "dd067e93-533f-4a88-809d-e17b804dee08",
   "metadata": {},
   "outputs": [
    {
     "data": {
      "text/plain": [
       "True"
      ]
     },
     "execution_count": 83,
     "metadata": {},
     "output_type": "execute_result"
    }
   ],
   "source": [
    "str1='hai how are you'\n",
    "str1.startswith('hai how are you')"
   ]
  },
  {
   "cell_type": "code",
   "execution_count": 84,
   "id": "f782595e-5d71-4e0e-bbe6-0d68f7854453",
   "metadata": {},
   "outputs": [
    {
     "data": {
      "text/plain": [
       "True"
      ]
     },
     "execution_count": 84,
     "metadata": {},
     "output_type": "execute_result"
    }
   ],
   "source": [
    "str1.startswith(str1)"
   ]
  },
  {
   "cell_type": "code",
   "execution_count": 85,
   "id": "dea63e5a-f646-41d9-ab70-d44f984b0ddb",
   "metadata": {},
   "outputs": [
    {
     "data": {
      "text/plain": [
       "True"
      ]
     },
     "execution_count": 85,
     "metadata": {},
     "output_type": "execute_result"
    }
   ],
   "source": [
    "str1.endswith(str1)"
   ]
  },
  {
   "cell_type": "code",
   "execution_count": 86,
   "id": "892bd0b8-1999-4724-b50e-38ae1c0cd391",
   "metadata": {},
   "outputs": [
    {
     "data": {
      "text/plain": [
       "True"
      ]
     },
     "execution_count": 86,
     "metadata": {},
     "output_type": "execute_result"
    }
   ],
   "source": [
    "str1.endswith('u')"
   ]
  },
  {
   "cell_type": "code",
   "execution_count": null,
   "id": "6435e0c4-1247-415d-b25e-5ed0d62b78dc",
   "metadata": {},
   "outputs": [],
   "source": [
    "str1"
   ]
  },
  {
   "cell_type": "markdown",
   "id": "22f41125-82b5-40bd-9554-8bc02810d38d",
   "metadata": {},
   "source": [
    "**split**"
   ]
  },
  {
   "cell_type": "code",
   "execution_count": null,
   "id": "b53075dc-7737-4231-bc71-5cc3bc98ebbb",
   "metadata": {},
   "outputs": [],
   "source": [
    "str1='hello how are you'\n"
   ]
  },
  {
   "cell_type": "code",
   "execution_count": 1,
   "id": "208c1a15-d323-4b20-a45c-ba3714d610fa",
   "metadata": {},
   "outputs": [
    {
     "data": {
      "text/plain": [
       "['__add__',\n",
       " '__class__',\n",
       " '__contains__',\n",
       " '__delattr__',\n",
       " '__dir__',\n",
       " '__doc__',\n",
       " '__eq__',\n",
       " '__format__',\n",
       " '__ge__',\n",
       " '__getattribute__',\n",
       " '__getitem__',\n",
       " '__getnewargs__',\n",
       " '__getstate__',\n",
       " '__gt__',\n",
       " '__hash__',\n",
       " '__init__',\n",
       " '__init_subclass__',\n",
       " '__iter__',\n",
       " '__le__',\n",
       " '__len__',\n",
       " '__lt__',\n",
       " '__mod__',\n",
       " '__mul__',\n",
       " '__ne__',\n",
       " '__new__',\n",
       " '__reduce__',\n",
       " '__reduce_ex__',\n",
       " '__repr__',\n",
       " '__rmod__',\n",
       " '__rmul__',\n",
       " '__setattr__',\n",
       " '__sizeof__',\n",
       " '__str__',\n",
       " '__subclasshook__',\n",
       " 'capitalize',\n",
       " 'casefold',\n",
       " 'center',\n",
       " 'count',\n",
       " 'encode',\n",
       " 'endswith',\n",
       " 'expandtabs',\n",
       " 'find',\n",
       " 'format',\n",
       " 'format_map',\n",
       " 'index',\n",
       " 'isalnum',\n",
       " 'isalpha',\n",
       " 'isascii',\n",
       " 'isdecimal',\n",
       " 'isdigit',\n",
       " 'isidentifier',\n",
       " 'islower',\n",
       " 'isnumeric',\n",
       " 'isprintable',\n",
       " 'isspace',\n",
       " 'istitle',\n",
       " 'isupper',\n",
       " 'join',\n",
       " 'ljust',\n",
       " 'lower',\n",
       " 'lstrip',\n",
       " 'maketrans',\n",
       " 'partition',\n",
       " 'removeprefix',\n",
       " 'removesuffix',\n",
       " 'replace',\n",
       " 'rfind',\n",
       " 'rindex',\n",
       " 'rjust',\n",
       " 'rpartition',\n",
       " 'rsplit',\n",
       " 'rstrip',\n",
       " 'split',\n",
       " 'splitlines',\n",
       " 'startswith',\n",
       " 'strip',\n",
       " 'swapcase',\n",
       " 'title',\n",
       " 'translate',\n",
       " 'upper',\n",
       " 'zfill']"
      ]
     },
     "execution_count": 1,
     "metadata": {},
     "output_type": "execute_result"
    }
   ],
   "source": [
    "st='sourabhs'\n",
    "dir(st)"
   ]
  },
  {
   "cell_type": "code",
   "execution_count": null,
   "id": "56939b89-45ae-4b92-883b-536ef1aed38f",
   "metadata": {},
   "outputs": [],
   "source": []
  },
  {
   "cell_type": "code",
   "execution_count": null,
   "id": "26281f1b-1e6e-451b-8ee0-cd653a362761",
   "metadata": {},
   "outputs": [],
   "source": []
  }
 ],
 "metadata": {
  "kernelspec": {
   "display_name": "Python 3 (ipykernel)",
   "language": "python",
   "name": "python3"
  },
  "language_info": {
   "codemirror_mode": {
    "name": "ipython",
    "version": 3
   },
   "file_extension": ".py",
   "mimetype": "text/x-python",
   "name": "python",
   "nbconvert_exporter": "python",
   "pygments_lexer": "ipython3",
   "version": "3.12.4"
  }
 },
 "nbformat": 4,
 "nbformat_minor": 5
}
